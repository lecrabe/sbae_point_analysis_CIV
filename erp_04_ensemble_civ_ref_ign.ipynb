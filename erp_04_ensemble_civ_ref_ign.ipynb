{
 "cells": [
  {
   "cell_type": "code",
   "execution_count": 1,
   "id": "1a1ceac7-b6d0-48c4-96b5-f08fdb21e40a",
   "metadata": {},
   "outputs": [
    {
     "name": "stderr",
     "output_type": "stream",
     "text": [
      "/usr/local/lib/python3.8/dist-packages/pandas/core/computation/expressions.py:20: UserWarning: Pandas requires version '2.7.3' or newer of 'numexpr' (version '2.7.1' currently installed).\n",
      "  from pandas.core.computation.check import NUMEXPR_INSTALLED\n"
     ]
    }
   ],
   "source": [
    "import numpy as np\n",
    "import pandas as pd\n",
    "import geopandas as gpd\n",
    "import seaborn as sns\n",
    "\n",
    "from sklearn.model_selection import train_test_split, GridSearchCV, StratifiedKFold\n",
    "from sklearn.cluster import KMeans\n",
    "from sklearn.ensemble import RandomForestClassifier\n",
    "from sklearn.metrics import roc_curve, precision_recall_curve, auc, make_scorer, recall_score, accuracy_score, precision_score, confusion_matrix, classification_report\n",
    "from matplotlib import pyplot as plt"
   ]
  },
  {
   "cell_type": "markdown",
   "id": "b4edb8a3-d1ee-4cb4-943a-a819fdc66862",
   "metadata": {},
   "source": [
    "### 1 Load and prepare CEO data"
   ]
  },
  {
   "cell_type": "code",
   "execution_count": 2,
   "id": "f1bc2c7b-1443-46cd-b8d9-be85754946ce",
   "metadata": {},
   "outputs": [
    {
     "name": "stdout",
     "output_type": "stream",
     "text": [
      "Index(['X', 'Y', 'PLOTID', 'LON', 'LAT', 'strate', 'prob_chang', 'ID',\n",
      "       'INT1_2000', 'INT1_2010', 'INT1_2015', 'INT1_2020', 'INT1_2021',\n",
      "       'CHG_20_21', 'CHG_00_10', 'CHG_10_15', 'CHG_15_20', 'IC', 'COMMENT.',\n",
      "       'P-I_name'],\n",
      "      dtype='object')\n"
     ]
    },
    {
     "data": {
      "text/html": [
       "<div>\n",
       "<style scoped>\n",
       "    .dataframe tbody tr th:only-of-type {\n",
       "        vertical-align: middle;\n",
       "    }\n",
       "\n",
       "    .dataframe tbody tr th {\n",
       "        vertical-align: top;\n",
       "    }\n",
       "\n",
       "    .dataframe thead th {\n",
       "        text-align: right;\n",
       "    }\n",
       "</style>\n",
       "<table border=\"1\" class=\"dataframe\">\n",
       "  <thead>\n",
       "    <tr style=\"text-align: right;\">\n",
       "      <th></th>\n",
       "      <th>X</th>\n",
       "      <th>Y</th>\n",
       "      <th>PLOTID</th>\n",
       "      <th>LON</th>\n",
       "      <th>LAT</th>\n",
       "      <th>strate</th>\n",
       "      <th>prob_chang</th>\n",
       "      <th>ID</th>\n",
       "      <th>INT1_2000</th>\n",
       "      <th>INT1_2010</th>\n",
       "      <th>INT1_2015</th>\n",
       "      <th>INT1_2020</th>\n",
       "      <th>INT1_2021</th>\n",
       "      <th>CHG_20_21</th>\n",
       "      <th>CHG_00_10</th>\n",
       "      <th>CHG_10_15</th>\n",
       "      <th>CHG_15_20</th>\n",
       "      <th>IC</th>\n",
       "      <th>COMMENT.</th>\n",
       "      <th>P-I_name</th>\n",
       "    </tr>\n",
       "  </thead>\n",
       "  <tbody>\n",
       "    <tr>\n",
       "      <th>0</th>\n",
       "      <td>49534.66052</td>\n",
       "      <td>568818.388616</td>\n",
       "      <td>63667</td>\n",
       "      <td>-7.061038</td>\n",
       "      <td>5.133202</td>\n",
       "      <td>3</td>\n",
       "      <td>0.523027</td>\n",
       "      <td>346</td>\n",
       "      <td>21</td>\n",
       "      <td>21</td>\n",
       "      <td>21</td>\n",
       "      <td>21</td>\n",
       "      <td>21</td>\n",
       "      <td>Stable</td>\n",
       "      <td>Stable</td>\n",
       "      <td>Stable</td>\n",
       "      <td>Stable</td>\n",
       "      <td>1</td>\n",
       "      <td>NaN</td>\n",
       "      <td>AMO</td>\n",
       "    </tr>\n",
       "  </tbody>\n",
       "</table>\n",
       "</div>"
      ],
      "text/plain": [
       "             X              Y  PLOTID       LON       LAT  strate  prob_chang  \\\n",
       "0  49534.66052  568818.388616   63667 -7.061038  5.133202       3    0.523027   \n",
       "\n",
       "    ID  INT1_2000  INT1_2010  INT1_2015  INT1_2020  INT1_2021 CHG_20_21  \\\n",
       "0  346         21         21         21         21         21    Stable   \n",
       "\n",
       "  CHG_00_10 CHG_10_15 CHG_15_20  IC COMMENT. P-I_name  \n",
       "0    Stable    Stable    Stable   1      NaN      AMO  "
      ]
     },
     "execution_count": 2,
     "metadata": {},
     "output_type": "execute_result"
    }
   ],
   "source": [
    "# read csv file\n",
    "ceo = pd.read_csv('/home/sepal-user/sbae_point_analysis_CIV/erp_1km/ign_ERP_CIV_692pts_20221026.csv', delimiter=',')\n",
    "print(ceo.columns)\n",
    "ceo.head(1)"
   ]
  },
  {
   "cell_type": "code",
   "execution_count": 5,
   "id": "bd2305da-1174-4265-b3e0-5577f7103b80",
   "metadata": {},
   "outputs": [
    {
     "name": "stderr",
     "output_type": "stream",
     "text": [
      "/tmp/ipykernel_1385/64485306.py:5: SettingWithCopyWarning: \n",
      "A value is trying to be set on a copy of a slice from a DataFrame.\n",
      "Try using .loc[row_indexer,col_indexer] = value instead\n",
      "\n",
      "See the caveats in the documentation: https://pandas.pydata.org/pandas-docs/stable/user_guide/indexing.html#returning-a-view-versus-a-copy\n",
      "  ceo['cnc_0010'] = ceo['CHG_00_10'].apply(lambda x: 1 if x == 'Deforestation' else 0)\n",
      "/tmp/ipykernel_1385/64485306.py:6: SettingWithCopyWarning: \n",
      "A value is trying to be set on a copy of a slice from a DataFrame.\n",
      "Try using .loc[row_indexer,col_indexer] = value instead\n",
      "\n",
      "See the caveats in the documentation: https://pandas.pydata.org/pandas-docs/stable/user_guide/indexing.html#returning-a-view-versus-a-copy\n",
      "  ceo['cnc_1015'] = ceo['CHG_10_15'].apply(lambda x: 1 if x == 'Deforestation' else 0)\n",
      "/tmp/ipykernel_1385/64485306.py:7: SettingWithCopyWarning: \n",
      "A value is trying to be set on a copy of a slice from a DataFrame.\n",
      "Try using .loc[row_indexer,col_indexer] = value instead\n",
      "\n",
      "See the caveats in the documentation: https://pandas.pydata.org/pandas-docs/stable/user_guide/indexing.html#returning-a-view-versus-a-copy\n",
      "  ceo['cnc']      = ceo['cnc_0010'] + ceo['cnc_1015']\n"
     ]
    },
    {
     "data": {
      "text/plain": [
       "(array([0, 1]), array([498,  63]))"
      ]
     },
     "execution_count": 5,
     "metadata": {},
     "output_type": "execute_result"
    }
   ],
   "source": [
    "# subset columns\n",
    "ceo = ceoIC[['PLOTID', 'LON', 'LAT', 'CHG_00_10', 'CHG_10_15']]\n",
    "\n",
    "# add CNC column for classification\n",
    "ceo['cnc_0010'] = ceo['CHG_00_10'].apply(lambda x: 1 if x == 'Deforestation' else 0)\n",
    "ceo['cnc_1015'] = ceo['CHG_10_15'].apply(lambda x: 1 if x == 'Deforestation' else 0)\n",
    "ceo['cnc']      = ceo['cnc_0010'] + ceo['cnc_1015']\n",
    "\n",
    "ceo.head(5)\n",
    "np.unique(ceo['cnc'], return_counts=True)"
   ]
  },
  {
   "cell_type": "markdown",
   "id": "252b5964-e1b9-4b15-83c8-d3e350128ef9",
   "metadata": {},
   "source": [
    "### 2 Load and Prepare TS data"
   ]
  },
  {
   "cell_type": "code",
   "execution_count": 12,
   "id": "993c01fd-a56a-4df6-8f04-eb37f7657c80",
   "metadata": {},
   "outputs": [],
   "source": [
    "# load data\n",
    "ts = pd.read_pickle('/home/sepal-user/sbae_point_analysis_CIV/erp_1km/erp_bdd_ts_aux_1km.pickle')"
   ]
  },
  {
   "cell_type": "code",
   "execution_count": 13,
   "id": "6c3f6026-e0dd-40a3-ac3f-563cf808e6d7",
   "metadata": {},
   "outputs": [
    {
     "data": {
      "text/plain": [
       "46415"
      ]
     },
     "execution_count": 13,
     "metadata": {},
     "output_type": "execute_result"
    }
   ],
   "source": [
    "ts[['dates', 'ts', 'images']].head(5)\n",
    "len(ts)"
   ]
  },
  {
   "cell_type": "code",
   "execution_count": 14,
   "id": "f2d32190-2ca7-4f26-8502-5e34542d0f82",
   "metadata": {},
   "outputs": [],
   "source": [
    "# turn nan to 0\n",
    "ts['gfc_lossyear'] = np.nan_to_num(ts['gfc_lossyear'])\n",
    "# create a binary loss\n",
    "ts['gfc_loss_binary'] = ts['gfc_lossyear'].apply(lambda x: 0 if x == 0 or x > 15 else 1)"
   ]
  },
  {
   "cell_type": "code",
   "execution_count": 15,
   "id": "4cff0fb7-e11e-4701-b885-d182d58a9f40",
   "metadata": {},
   "outputs": [],
   "source": [
    "# create a binary deforestation\n",
    "ts['tmf_def_binary'] = ts['tmf_defyear'].apply(lambda x: 1 if x > 1999 and x <= 2015 else 0)\n",
    "\n",
    "# create a binary degradation\n",
    "ts['tmf_deg_binary'] = ts['tmf_degyear'].apply(lambda x: 1 if x > 1999 and x <= 2015 else 0)"
   ]
  },
  {
   "cell_type": "code",
   "execution_count": 16,
   "id": "cedc4c2b-a4a6-48d1-900e-f486d310370e",
   "metadata": {},
   "outputs": [
    {
     "data": {
      "text/plain": [
       "<matplotlib.axes._subplots.AxesSubplot at 0x7f0cb1098e80>"
      ]
     },
     "execution_count": 16,
     "metadata": {},
     "output_type": "execute_result"
    },
    {
     "data": {
      "image/png": "[encoded data removed]",
      "text/plain": [
       "<Figure size 640x480 with 1 Axes>"
      ]
     },
     "metadata": {},
     "output_type": "display_data"
    }
   ],
   "source": [
    "ts['ltr_magnitude'].plot()"
   ]
  },
  {
   "cell_type": "markdown",
   "id": "058deb2e-2fd4-4ed1-a4f1-f583798d47d8",
   "metadata": {},
   "source": [
    "### 2.1 Select columns for classification"
   ]
  },
  {
   "cell_type": "code",
   "execution_count": 17,
   "id": "1d1503bf-eda5-4eae-bfa1-59786a64cfe9",
   "metadata": {},
   "outputs": [],
   "source": [
    "cols_to_classify = [\n",
    "    'images', 'mon_images',\n",
    "    'gfc_tc00', \n",
    "    'gfc_loss_binary',\n",
    "    'tmf_2000', \n",
    "    'tmf_def_binary', 'tmf_deg_binary',\n",
    "    'bfast_magnitude',\n",
    "    'ccdc_magnitude', \n",
    "    'ltr_magnitude', 'ltr_dur', 'ltr_rate',\n",
    "    'cusum_confidence', 'cusum_magnitude', \n",
    "    'ts_mean', 'ts_sd', # we add this anyway in the next cell\n",
    "    'ts_min', 'ts_max',\n",
    "    'bs_slope_mean', 'bs_slope_sd', 'bs_slope_max', 'bs_slope_min'\n",
    "]\n"
   ]
  },
  {
   "cell_type": "markdown",
   "id": "3a71c9a2-b7e5-4347-b972-d587e3674b8c",
   "metadata": {},
   "source": [
    "### 2.2 Extract time-series statistics for each band and add to predicitive data columns"
   ]
  },
  {
   "cell_type": "code",
   "execution_count": 18,
   "id": "5780867d-0029-4b1c-9b6a-27ecf0d0ea2a",
   "metadata": {},
   "outputs": [
    {
     "name": "stdout",
     "output_type": "stream",
     "text": [
      " Bands available in dataset time-series: \n",
      "['green', 'red', 'nir', 'swir1', 'swir2', 'ndfi']\n"
     ]
    }
   ],
   "source": [
    "bands = list(ts['ts'][1].keys())\n",
    "print(' Bands available in dataset time-series: ')\n",
    "print(bands) \n",
    "for band in bands:\n",
    "    \n",
    "    # add mean and SD value of time-series for each band\n",
    "    ts[band + '_mean'] = ts['ts'].apply(lambda x: np.nanmean(np.array(x[band])))\n",
    "    ts[band + '_sd'] = ts['ts'].apply(lambda x: np.nanstd(np.array(x[band])))\n",
    "    \n",
    "    # append to classification bands\n",
    "    cols_to_classify.append(band + '_mean')\n",
    "    cols_to_classify.append(band + '_sd')"
   ]
  },
  {
   "cell_type": "code",
   "execution_count": 19,
   "id": "461bc62b-b283-49c6-8f6b-19e30326a907",
   "metadata": {},
   "outputs": [
    {
     "data": {
      "text/plain": [
       "['images',\n",
       " 'mon_images',\n",
       " 'gfc_tc00',\n",
       " 'gfc_loss_binary',\n",
       " 'tmf_2000',\n",
       " 'tmf_def_binary',\n",
       " 'tmf_deg_binary',\n",
       " 'bfast_magnitude',\n",
       " 'ccdc_magnitude',\n",
       " 'ltr_magnitude',\n",
       " 'ltr_dur',\n",
       " 'ltr_rate',\n",
       " 'cusum_confidence',\n",
       " 'cusum_magnitude',\n",
       " 'ts_mean',\n",
       " 'ts_sd',\n",
       " 'ts_min',\n",
       " 'ts_max',\n",
       " 'bs_slope_mean',\n",
       " 'bs_slope_sd',\n",
       " 'bs_slope_max',\n",
       " 'bs_slope_min',\n",
       " 'green_mean',\n",
       " 'green_sd',\n",
       " 'red_mean',\n",
       " 'red_sd',\n",
       " 'nir_mean',\n",
       " 'nir_sd',\n",
       " 'swir1_mean',\n",
       " 'swir1_sd',\n",
       " 'swir2_mean',\n",
       " 'swir2_sd',\n",
       " 'ndfi_mean',\n",
       " 'ndfi_sd']"
      ]
     },
     "execution_count": 19,
     "metadata": {},
     "output_type": "execute_result"
    }
   ],
   "source": [
    "cols_to_classify"
   ]
  },
  {
   "cell_type": "code",
   "execution_count": 20,
   "id": "7f5199ae-979e-4c72-8837-2d625b872c29",
   "metadata": {},
   "outputs": [
    {
     "name": "stdout",
     "output_type": "stream",
     "text": [
      " Number of predictive features: 34\n"
     ]
    }
   ],
   "source": [
    "print(' Number of predictive features: ' + str(len(cols_to_classify)))"
   ]
  },
  {
   "cell_type": "markdown",
   "id": "37185585-2d0b-4499-92f4-7b8da6e6a919",
   "metadata": {},
   "source": [
    "### 2.3 Add a Kmeans column (because we can)"
   ]
  },
  {
   "cell_type": "code",
   "execution_count": 21,
   "id": "1dfe2dc6-1ba9-4b03-bbb1-ad09488a9373",
   "metadata": {},
   "outputs": [],
   "source": [
    "nr_of_cluster=50\n",
    "\n",
    "# run kmeans\n",
    "kmeans_model = KMeans(n_clusters=nr_of_cluster, random_state=42).fit(ts[cols_to_classify])\n",
    "ts['kmeans'] = kmeans_model.predict(ts[cols_to_classify])\n",
    "\n",
    "cols_to_classify.append('kmeans')"
   ]
  },
  {
   "cell_type": "markdown",
   "id": "03f2d440-bc51-41ed-a86a-8a3262f60e54",
   "metadata": {},
   "source": [
    "### 3 Merge CEO and TS data"
   ]
  },
  {
   "cell_type": "code",
   "execution_count": 22,
   "id": "51b47380-e380-4c29-951c-0300b379d613",
   "metadata": {},
   "outputs": [],
   "source": [
    "df_class = pd.merge(ceo, ts[cols_to_classify + ['PLOTID']], how='inner', left_on='PLOTID', right_on='PLOTID')"
   ]
  },
  {
   "cell_type": "markdown",
   "id": "94a69f67-b3cb-4b41-ad51-26ed7c9b3ecf",
   "metadata": {},
   "source": [
    "### 4 Classification - Ensemble model creation"
   ]
  },
  {
   "cell_type": "markdown",
   "id": "7d4035b2-601b-4cce-9d90-13b0f8f916f6",
   "metadata": {},
   "source": [
    "### 4.1 Train-Test Split"
   ]
  },
  {
   "cell_type": "code",
   "execution_count": 23,
   "id": "b9614822-d4f4-4fbb-8db4-2e583e3e8687",
   "metadata": {},
   "outputs": [],
   "source": [
    "X_train, X_test, y_train, y_test = train_test_split(df_class[cols_to_classify + ['PLOTID']], df_class['cnc'], test_size=0.2, random_state=42, stratify=df_class['cnc'])"
   ]
  },
  {
   "cell_type": "code",
   "execution_count": 24,
   "id": "a66c5a20-0e74-4fb4-8a6d-520e13ca80be",
   "metadata": {},
   "outputs": [
    {
     "data": {
      "text/plain": [
       "448"
      ]
     },
     "execution_count": 24,
     "metadata": {},
     "output_type": "execute_result"
    }
   ],
   "source": [
    "X_train\n",
    "len(X_train)"
   ]
  },
  {
   "cell_type": "code",
   "execution_count": 25,
   "id": "8da5db5b-bc9c-4e9a-af27-ec9f39094324",
   "metadata": {},
   "outputs": [
    {
     "data": {
      "text/html": [
       "<div>\n",
       "<style scoped>\n",
       "    .dataframe tbody tr th:only-of-type {\n",
       "        vertical-align: middle;\n",
       "    }\n",
       "\n",
       "    .dataframe tbody tr th {\n",
       "        vertical-align: top;\n",
       "    }\n",
       "\n",
       "    .dataframe thead th {\n",
       "        text-align: right;\n",
       "    }\n",
       "</style>\n",
       "<table border=\"1\" class=\"dataframe\">\n",
       "  <thead>\n",
       "    <tr style=\"text-align: right;\">\n",
       "      <th></th>\n",
       "      <th>images</th>\n",
       "      <th>mon_images</th>\n",
       "      <th>gfc_tc00</th>\n",
       "      <th>gfc_loss_binary</th>\n",
       "      <th>tmf_2000</th>\n",
       "      <th>tmf_def_binary</th>\n",
       "      <th>tmf_deg_binary</th>\n",
       "      <th>bfast_magnitude</th>\n",
       "      <th>ccdc_magnitude</th>\n",
       "      <th>ltr_magnitude</th>\n",
       "      <th>...</th>\n",
       "      <th>nir_mean</th>\n",
       "      <th>nir_sd</th>\n",
       "      <th>swir1_mean</th>\n",
       "      <th>swir1_sd</th>\n",
       "      <th>swir2_mean</th>\n",
       "      <th>swir2_sd</th>\n",
       "      <th>ndfi_mean</th>\n",
       "      <th>ndfi_sd</th>\n",
       "      <th>kmeans</th>\n",
       "      <th>PLOTID</th>\n",
       "    </tr>\n",
       "  </thead>\n",
       "  <tbody>\n",
       "    <tr>\n",
       "      <th>92</th>\n",
       "      <td>49</td>\n",
       "      <td>46</td>\n",
       "      <td>54</td>\n",
       "      <td>0</td>\n",
       "      <td>1</td>\n",
       "      <td>1</td>\n",
       "      <td>0</td>\n",
       "      <td>0.00000</td>\n",
       "      <td>0.0</td>\n",
       "      <td>0.0</td>\n",
       "      <td>...</td>\n",
       "      <td>3446.056738</td>\n",
       "      <td>857.731390</td>\n",
       "      <td>2166.726950</td>\n",
       "      <td>856.979186</td>\n",
       "      <td>1170.991135</td>\n",
       "      <td>793.083102</td>\n",
       "      <td>7757.767730</td>\n",
       "      <td>2280.540271</td>\n",
       "      <td>2</td>\n",
       "      <td>94399</td>\n",
       "    </tr>\n",
       "    <tr>\n",
       "      <th>369</th>\n",
       "      <td>60</td>\n",
       "      <td>58</td>\n",
       "      <td>62</td>\n",
       "      <td>1</td>\n",
       "      <td>1</td>\n",
       "      <td>1</td>\n",
       "      <td>0</td>\n",
       "      <td>0.00000</td>\n",
       "      <td>0.0</td>\n",
       "      <td>0.0</td>\n",
       "      <td>...</td>\n",
       "      <td>3197.525424</td>\n",
       "      <td>653.084207</td>\n",
       "      <td>1774.350282</td>\n",
       "      <td>465.871535</td>\n",
       "      <td>811.463277</td>\n",
       "      <td>300.761602</td>\n",
       "      <td>8823.799435</td>\n",
       "      <td>1346.162582</td>\n",
       "      <td>3</td>\n",
       "      <td>35769</td>\n",
       "    </tr>\n",
       "    <tr>\n",
       "      <th>20</th>\n",
       "      <td>64</td>\n",
       "      <td>59</td>\n",
       "      <td>0</td>\n",
       "      <td>0</td>\n",
       "      <td>5</td>\n",
       "      <td>0</td>\n",
       "      <td>0</td>\n",
       "      <td>2226.50708</td>\n",
       "      <td>0.0</td>\n",
       "      <td>0.0</td>\n",
       "      <td>...</td>\n",
       "      <td>1021.469355</td>\n",
       "      <td>561.829972</td>\n",
       "      <td>670.029301</td>\n",
       "      <td>477.439505</td>\n",
       "      <td>421.398925</td>\n",
       "      <td>315.399122</td>\n",
       "      <td>9529.080645</td>\n",
       "      <td>1290.192501</td>\n",
       "      <td>1</td>\n",
       "      <td>66976</td>\n",
       "    </tr>\n",
       "    <tr>\n",
       "      <th>420</th>\n",
       "      <td>46</td>\n",
       "      <td>42</td>\n",
       "      <td>72</td>\n",
       "      <td>0</td>\n",
       "      <td>1</td>\n",
       "      <td>0</td>\n",
       "      <td>0</td>\n",
       "      <td>0.00000</td>\n",
       "      <td>0.0</td>\n",
       "      <td>0.0</td>\n",
       "      <td>...</td>\n",
       "      <td>2848.041111</td>\n",
       "      <td>762.446245</td>\n",
       "      <td>1730.395926</td>\n",
       "      <td>592.583063</td>\n",
       "      <td>888.269259</td>\n",
       "      <td>441.772405</td>\n",
       "      <td>8249.948519</td>\n",
       "      <td>1973.467499</td>\n",
       "      <td>36</td>\n",
       "      <td>45035</td>\n",
       "    </tr>\n",
       "    <tr>\n",
       "      <th>214</th>\n",
       "      <td>69</td>\n",
       "      <td>66</td>\n",
       "      <td>76</td>\n",
       "      <td>1</td>\n",
       "      <td>1</td>\n",
       "      <td>0</td>\n",
       "      <td>1</td>\n",
       "      <td>0.00000</td>\n",
       "      <td>0.0</td>\n",
       "      <td>0.0</td>\n",
       "      <td>...</td>\n",
       "      <td>3215.499005</td>\n",
       "      <td>601.921027</td>\n",
       "      <td>1692.255224</td>\n",
       "      <td>376.495585</td>\n",
       "      <td>756.442537</td>\n",
       "      <td>267.683579</td>\n",
       "      <td>9417.049502</td>\n",
       "      <td>855.337999</td>\n",
       "      <td>12</td>\n",
       "      <td>29699</td>\n",
       "    </tr>\n",
       "  </tbody>\n",
       "</table>\n",
       "<p>5 rows × 36 columns</p>\n",
       "</div>"
      ],
      "text/plain": [
       "     images  mon_images  gfc_tc00  gfc_loss_binary  tmf_2000  tmf_def_binary  \\\n",
       "92       49          46        54                0         1               1   \n",
       "369      60          58        62                1         1               1   \n",
       "20       64          59         0                0         5               0   \n",
       "420      46          42        72                0         1               0   \n",
       "214      69          66        76                1         1               0   \n",
       "\n",
       "     tmf_deg_binary  bfast_magnitude  ccdc_magnitude  ltr_magnitude  ...  \\\n",
       "92                0          0.00000             0.0            0.0  ...   \n",
       "369               0          0.00000             0.0            0.0  ...   \n",
       "20                0       2226.50708             0.0            0.0  ...   \n",
       "420               0          0.00000             0.0            0.0  ...   \n",
       "214               1          0.00000             0.0            0.0  ...   \n",
       "\n",
       "        nir_mean      nir_sd   swir1_mean    swir1_sd   swir2_mean  \\\n",
       "92   3446.056738  857.731390  2166.726950  856.979186  1170.991135   \n",
       "369  3197.525424  653.084207  1774.350282  465.871535   811.463277   \n",
       "20   1021.469355  561.829972   670.029301  477.439505   421.398925   \n",
       "420  2848.041111  762.446245  1730.395926  592.583063   888.269259   \n",
       "214  3215.499005  601.921027  1692.255224  376.495585   756.442537   \n",
       "\n",
       "       swir2_sd    ndfi_mean      ndfi_sd  kmeans  PLOTID  \n",
       "92   793.083102  7757.767730  2280.540271       2   94399  \n",
       "369  300.761602  8823.799435  1346.162582       3   35769  \n",
       "20   315.399122  9529.080645  1290.192501       1   66976  \n",
       "420  441.772405  8249.948519  1973.467499      36   45035  \n",
       "214  267.683579  9417.049502   855.337999      12   29699  \n",
       "\n",
       "[5 rows x 36 columns]"
      ]
     },
     "execution_count": 25,
     "metadata": {},
     "output_type": "execute_result"
    }
   ],
   "source": [
    "X_test\n",
    "len(X_test)\n",
    "X_test.head()"
   ]
  },
  {
   "cell_type": "markdown",
   "id": "7654c198-ba6b-44de-81f5-bba3dbda3f56",
   "metadata": {},
   "source": [
    "### 4.2 RF classification with automated model optimization for avoiding false positives in the stable class "
   ]
  },
  {
   "cell_type": "code",
   "execution_count": 26,
   "id": "58296a63-a10a-4818-aeb9-535664ef8d53",
   "metadata": {},
   "outputs": [
    {
     "name": "stdout",
     "output_type": "stream",
     "text": [
      "Best params for precision_score\n",
      "{'max_features': 20, 'min_samples_split': 3, 'n_estimators': 125}\n",
      "\n",
      "Confusion matrix of Random Forest optimized for precision_score on the test data:\n",
      "     pred_neg  pred_pos\n",
      "neg        98         2\n",
      "pos         9         4\n"
     ]
    }
   ],
   "source": [
    "clf = RandomForestClassifier(n_jobs=-1, oob_score=True)\n",
    "\n",
    "param_grid = {\n",
    "    'min_samples_split': [3, 5, 10], \n",
    "    'n_estimators' : [125, 250, 500],\n",
    "    #'max_depth': [3, 5, 15, 25],\n",
    "    'max_features': [5, 10, 20]\n",
    "}\n",
    "\n",
    "scorers = {\n",
    "    'precision_score': make_scorer(precision_score),\n",
    "    'recall_score': make_scorer(recall_score),\n",
    "    'accuracy_score': make_scorer(accuracy_score)\n",
    "}\n",
    "\n",
    "\n",
    "def grid_search_wrapper(refit_score='recall_score'):\n",
    "    \"\"\"\n",
    "    fits a GridSearchCV classifier using refit_score for optimization\n",
    "    prints classifier performance metrics\n",
    "    \"\"\"\n",
    "    \n",
    "    skf = StratifiedKFold(n_splits=5)\n",
    "    grid_search = GridSearchCV(clf, param_grid, scoring=scorers, refit=refit_score, cv=skf, return_train_score=True, n_jobs=-1)\n",
    "    grid_search.fit(X_train[cols_to_classify], y_train)\n",
    "\n",
    "    # make the predictions\n",
    "    y_pred = grid_search.predict(X_test[cols_to_classify])\n",
    "\n",
    "    print('Best params for {}'.format(refit_score))\n",
    "    print(grid_search.best_params_)\n",
    "\n",
    "    # confusion matrix on the test data.\n",
    "    print('\\nConfusion matrix of Random Forest optimized for {} on the test data:'.format(refit_score))\n",
    "    print(pd.DataFrame(confusion_matrix(y_test, y_pred),\n",
    "                 columns=['pred_neg', 'pred_pos'], index=['neg', 'pos']))\n",
    "    return grid_search\n",
    "\n",
    "grid_search_clf = grid_search_wrapper(refit_score='precision_score')"
   ]
  },
  {
   "cell_type": "markdown",
   "id": "97890049-1e4a-4b55-8dc3-c9130b0642f7",
   "metadata": {},
   "source": [
    "### 4.3 Model accuracy"
   ]
  },
  {
   "cell_type": "code",
   "execution_count": 29,
   "id": "74f1132a-5a53-471d-9eee-2e5165ed0854",
   "metadata": {},
   "outputs": [
    {
     "name": "stdout",
     "output_type": "stream",
     "text": [
      "-----------------------------\n",
      " Stats on train:\n",
      "-----------------------------\n",
      "Accuracy on train: 0.9910714285714286\n"
     ]
    },
    {
     "data": {
      "text/plain": [
       "array([[398,   0],\n",
       "       [  4,  46]])"
      ]
     },
     "metadata": {},
     "output_type": "display_data"
    },
    {
     "name": "stdout",
     "output_type": "stream",
     "text": [
      "\n",
      "\n",
      "-----------------------------\n",
      " Stats on test:\n",
      "-----------------------------\n",
      "Accuracy on test: 0.911504424778761\n"
     ]
    },
    {
     "data": {
      "text/plain": [
       "array([[99,  1],\n",
       "       [ 9,  4]])"
      ]
     },
     "metadata": {},
     "output_type": "display_data"
    },
    {
     "name": "stdout",
     "output_type": "stream",
     "text": [
      "\n",
      "\n",
      "-----------------------------\n",
      " Per class stats on test:\n",
      "-----------------------------\n",
      "              precision    recall  f1-score   support\n",
      "\n",
      "      stable     0.9167    0.9900    0.9519       100\n",
      "      change     0.8000    0.3077    0.4444        13\n",
      "\n",
      "    accuracy                         0.9115       113\n",
      "   macro avg     0.8583    0.6488    0.6982       113\n",
      "weighted avg     0.9032    0.9115    0.8935       113\n",
      "\n"
     ]
    },
    {
     "data": {
      "text/plain": [
       "<matplotlib.axes._subplots.AxesSubplot at 0x7f9caf0fb400>"
      ]
     },
     "execution_count": 29,
     "metadata": {},
     "output_type": "execute_result"
    },
    {
     "data": {
      "image/png": "[encoded data removed]",
      "text/plain": [
       "<Figure size 1000x700 with 2 Axes>"
      ]
     },
     "metadata": {},
     "output_type": "display_data"
    }
   ],
   "source": [
    "X_train['class'] = grid_search_clf.predict(X_train[cols_to_classify])\n",
    "X_test['class'] = grid_search_clf.predict(X_test[cols_to_classify])\n",
    "\n",
    "print('-----------------------------')\n",
    "print(' Stats on train:')\n",
    "print('-----------------------------')\n",
    "print('Accuracy on train: ' + str(accuracy_score(y_train, X_train['class'])))\n",
    "display(confusion_matrix(y_train, X_train['class']))\n",
    "\n",
    "print('')\n",
    "print('')\n",
    "print('-----------------------------')\n",
    "print(' Stats on test:')\n",
    "print('-----------------------------')\n",
    "#print('Out of Bag Error RF: ' + str(grid_search_clf.oob_score_))\n",
    "print('Accuracy on test: ' + str(accuracy_score(y_test, X_test['class'], )))\n",
    "cm = confusion_matrix(y_test, X_test['class'])\n",
    "display(cm)\n",
    "\n",
    "print('')\n",
    "print('')\n",
    "print('-----------------------------')\n",
    "print(' Per class stats on test:')\n",
    "print('-----------------------------')\n",
    "print(classification_report(y_test, X_test['class'], target_names=['stable', 'change'], digits=4))\n",
    "\n",
    "df_cm = pd.DataFrame(cm, index=['stable', 'change'], columns=['stable', 'change'])\n",
    "plt.figure(figsize = (10,7))\n",
    "sns.heatmap(df_cm, annot=True)"
   ]
  },
  {
   "cell_type": "markdown",
   "id": "df9cb0d3-6673-4b11-bf58-33081fc4f321",
   "metadata": {},
   "source": [
    "### 4.4 Feature Importance"
   ]
  },
  {
   "cell_type": "code",
   "execution_count": 27,
   "id": "648f4d10-21af-410f-8388-d8614fdceb5b",
   "metadata": {},
   "outputs": [
    {
     "data": {
      "image/png": "[encoded data removed]",
      "text/plain": [
       "<Figure size 2000x1000 with 1 Axes>"
      ]
     },
     "metadata": {},
     "output_type": "display_data"
    }
   ],
   "source": [
    "forest = grid_search_clf.best_estimator_\n",
    "importances = forest.feature_importances_\n",
    "std = np.std([tree.feature_importances_ for tree in forest.estimators_], axis=0)\n",
    "feature_names = [f\"{i}\" for i in X_train[cols_to_classify].columns]\n",
    "forest_importances = pd.Series(importances, index=feature_names)\n",
    "\n",
    "fig, ax = plt.subplots(figsize=(20,10))\n",
    "forest_importances.plot.bar(yerr=std, ax=ax)\n",
    "ax.set_title(\"Feature importances using RF\")\n",
    "ax.set_ylabel(\"Mean decrease in impurity\")\n",
    "fig.tight_layout()"
   ]
  },
  {
   "cell_type": "markdown",
   "id": "f61305af-3b68-4882-95c0-51ff58386b5d",
   "metadata": {},
   "source": [
    "### 4.4 get threshold for not having any change"
   ]
  },
  {
   "cell_type": "code",
   "execution_count": 28,
   "id": "66128ffc-b770-460f-8ce0-1e79e9dd6898",
   "metadata": {},
   "outputs": [
    {
     "name": "stdout",
     "output_type": "stream",
     "text": [
      "Maximum probability of stable for change points\n",
      "0.992\n",
      "Reasonable probability of stable for change points\n",
      "0.5890666666666667\n",
      "Number of points above thshld (considered stable)\n",
      "503 out of 561\n",
      "Number of actual change points left in stable\n",
      "7\n",
      " Point Ids of interpreted change with a high probability of being stable\n"
     ]
    },
    {
     "data": {
      "text/html": [
       "<div>\n",
       "<style scoped>\n",
       "    .dataframe tbody tr th:only-of-type {\n",
       "        vertical-align: middle;\n",
       "    }\n",
       "\n",
       "    .dataframe tbody tr th {\n",
       "        vertical-align: top;\n",
       "    }\n",
       "\n",
       "    .dataframe thead th {\n",
       "        text-align: right;\n",
       "    }\n",
       "</style>\n",
       "<table border=\"1\" class=\"dataframe\">\n",
       "  <thead>\n",
       "    <tr style=\"text-align: right;\">\n",
       "      <th></th>\n",
       "      <th>PLOTID</th>\n",
       "      <th>LON</th>\n",
       "      <th>LAT</th>\n",
       "      <th>CHG_00_10</th>\n",
       "      <th>CHG_10_15</th>\n",
       "      <th>cnc_0010</th>\n",
       "      <th>cnc_1015</th>\n",
       "      <th>cnc</th>\n",
       "      <th>images</th>\n",
       "      <th>mon_images</th>\n",
       "      <th>...</th>\n",
       "      <th>nir_sd</th>\n",
       "      <th>swir1_mean</th>\n",
       "      <th>swir1_sd</th>\n",
       "      <th>swir2_mean</th>\n",
       "      <th>swir2_sd</th>\n",
       "      <th>ndfi_mean</th>\n",
       "      <th>ndfi_sd</th>\n",
       "      <th>kmeans</th>\n",
       "      <th>prob_stable</th>\n",
       "      <th>prob_change</th>\n",
       "    </tr>\n",
       "  </thead>\n",
       "  <tbody>\n",
       "    <tr>\n",
       "      <th>23</th>\n",
       "      <td>67427</td>\n",
       "      <td>-7.004229</td>\n",
       "      <td>4.879998</td>\n",
       "      <td>Deforestation</td>\n",
       "      <td>Stable</td>\n",
       "      <td>1</td>\n",
       "      <td>0</td>\n",
       "      <td>1</td>\n",
       "      <td>48</td>\n",
       "      <td>46</td>\n",
       "      <td>...</td>\n",
       "      <td>632.231479</td>\n",
       "      <td>2137.088768</td>\n",
       "      <td>386.363839</td>\n",
       "      <td>988.403986</td>\n",
       "      <td>217.305028</td>\n",
       "      <td>8146.626812</td>\n",
       "      <td>1185.088710</td>\n",
       "      <td>16</td>\n",
       "      <td>0.992000</td>\n",
       "      <td>0.008000</td>\n",
       "    </tr>\n",
       "    <tr>\n",
       "      <th>277</th>\n",
       "      <td>124762</td>\n",
       "      <td>-6.193324</td>\n",
       "      <td>4.934256</td>\n",
       "      <td>Deforestation</td>\n",
       "      <td>Stable</td>\n",
       "      <td>1</td>\n",
       "      <td>0</td>\n",
       "      <td>1</td>\n",
       "      <td>46</td>\n",
       "      <td>44</td>\n",
       "      <td>...</td>\n",
       "      <td>723.587923</td>\n",
       "      <td>2058.464815</td>\n",
       "      <td>486.294371</td>\n",
       "      <td>1034.394444</td>\n",
       "      <td>372.637825</td>\n",
       "      <td>7633.727778</td>\n",
       "      <td>1282.893482</td>\n",
       "      <td>46</td>\n",
       "      <td>0.940000</td>\n",
       "      <td>0.060000</td>\n",
       "    </tr>\n",
       "    <tr>\n",
       "      <th>82</th>\n",
       "      <td>90752</td>\n",
       "      <td>-6.681922</td>\n",
       "      <td>5.910887</td>\n",
       "      <td>Deforestation</td>\n",
       "      <td>Stable</td>\n",
       "      <td>1</td>\n",
       "      <td>0</td>\n",
       "      <td>1</td>\n",
       "      <td>61</td>\n",
       "      <td>58</td>\n",
       "      <td>...</td>\n",
       "      <td>595.802187</td>\n",
       "      <td>2141.554167</td>\n",
       "      <td>445.880127</td>\n",
       "      <td>1108.613889</td>\n",
       "      <td>337.128660</td>\n",
       "      <td>7073.590000</td>\n",
       "      <td>1892.235665</td>\n",
       "      <td>11</td>\n",
       "      <td>0.891200</td>\n",
       "      <td>0.108800</td>\n",
       "    </tr>\n",
       "    <tr>\n",
       "      <th>125</th>\n",
       "      <td>1681</td>\n",
       "      <td>-8.299346</td>\n",
       "      <td>6.543871</td>\n",
       "      <td>Stable</td>\n",
       "      <td>Deforestation</td>\n",
       "      <td>0</td>\n",
       "      <td>1</td>\n",
       "      <td>1</td>\n",
       "      <td>66</td>\n",
       "      <td>64</td>\n",
       "      <td>...</td>\n",
       "      <td>670.418752</td>\n",
       "      <td>1925.136667</td>\n",
       "      <td>348.533378</td>\n",
       "      <td>884.414103</td>\n",
       "      <td>252.583694</td>\n",
       "      <td>8805.809231</td>\n",
       "      <td>1180.780666</td>\n",
       "      <td>45</td>\n",
       "      <td>0.852000</td>\n",
       "      <td>0.148000</td>\n",
       "    </tr>\n",
       "    <tr>\n",
       "      <th>26</th>\n",
       "      <td>68028</td>\n",
       "      <td>-6.993017</td>\n",
       "      <td>4.662964</td>\n",
       "      <td>Stable</td>\n",
       "      <td>Deforestation</td>\n",
       "      <td>0</td>\n",
       "      <td>1</td>\n",
       "      <td>1</td>\n",
       "      <td>38</td>\n",
       "      <td>38</td>\n",
       "      <td>...</td>\n",
       "      <td>619.055414</td>\n",
       "      <td>1986.394737</td>\n",
       "      <td>419.040490</td>\n",
       "      <td>927.057018</td>\n",
       "      <td>298.485211</td>\n",
       "      <td>8886.219298</td>\n",
       "      <td>895.716573</td>\n",
       "      <td>12</td>\n",
       "      <td>0.822667</td>\n",
       "      <td>0.177333</td>\n",
       "    </tr>\n",
       "    <tr>\n",
       "      <th>181</th>\n",
       "      <td>20084</td>\n",
       "      <td>-7.729443</td>\n",
       "      <td>6.525786</td>\n",
       "      <td>Deforestation</td>\n",
       "      <td>Stable</td>\n",
       "      <td>1</td>\n",
       "      <td>0</td>\n",
       "      <td>1</td>\n",
       "      <td>62</td>\n",
       "      <td>59</td>\n",
       "      <td>...</td>\n",
       "      <td>520.724634</td>\n",
       "      <td>1710.225000</td>\n",
       "      <td>273.738156</td>\n",
       "      <td>779.818056</td>\n",
       "      <td>181.889763</td>\n",
       "      <td>9089.737500</td>\n",
       "      <td>651.559742</td>\n",
       "      <td>12</td>\n",
       "      <td>0.677333</td>\n",
       "      <td>0.322667</td>\n",
       "    </tr>\n",
       "    <tr>\n",
       "      <th>456</th>\n",
       "      <td>48942</td>\n",
       "      <td>-7.264055</td>\n",
       "      <td>4.726266</td>\n",
       "      <td>Deforestation</td>\n",
       "      <td>Stable</td>\n",
       "      <td>1</td>\n",
       "      <td>0</td>\n",
       "      <td>1</td>\n",
       "      <td>39</td>\n",
       "      <td>36</td>\n",
       "      <td>...</td>\n",
       "      <td>590.456565</td>\n",
       "      <td>1438.797297</td>\n",
       "      <td>401.606579</td>\n",
       "      <td>678.310811</td>\n",
       "      <td>197.102503</td>\n",
       "      <td>9219.567568</td>\n",
       "      <td>971.624192</td>\n",
       "      <td>41</td>\n",
       "      <td>0.592000</td>\n",
       "      <td>0.408000</td>\n",
       "    </tr>\n",
       "  </tbody>\n",
       "</table>\n",
       "<p>7 rows × 45 columns</p>\n",
       "</div>"
      ],
      "text/plain": [
       "     PLOTID       LON       LAT      CHG_00_10      CHG_10_15  cnc_0010  \\\n",
       "23    67427 -7.004229  4.879998  Deforestation         Stable         1   \n",
       "277  124762 -6.193324  4.934256  Deforestation         Stable         1   \n",
       "82    90752 -6.681922  5.910887  Deforestation         Stable         1   \n",
       "125    1681 -8.299346  6.543871         Stable  Deforestation         0   \n",
       "26    68028 -6.993017  4.662964         Stable  Deforestation         0   \n",
       "181   20084 -7.729443  6.525786  Deforestation         Stable         1   \n",
       "456   48942 -7.264055  4.726266  Deforestation         Stable         1   \n",
       "\n",
       "     cnc_1015  cnc  images  mon_images  ...      nir_sd   swir1_mean  \\\n",
       "23          0    1      48          46  ...  632.231479  2137.088768   \n",
       "277         0    1      46          44  ...  723.587923  2058.464815   \n",
       "82          0    1      61          58  ...  595.802187  2141.554167   \n",
       "125         1    1      66          64  ...  670.418752  1925.136667   \n",
       "26          1    1      38          38  ...  619.055414  1986.394737   \n",
       "181         0    1      62          59  ...  520.724634  1710.225000   \n",
       "456         0    1      39          36  ...  590.456565  1438.797297   \n",
       "\n",
       "       swir1_sd   swir2_mean    swir2_sd    ndfi_mean      ndfi_sd  kmeans  \\\n",
       "23   386.363839   988.403986  217.305028  8146.626812  1185.088710      16   \n",
       "277  486.294371  1034.394444  372.637825  7633.727778  1282.893482      46   \n",
       "82   445.880127  1108.613889  337.128660  7073.590000  1892.235665      11   \n",
       "125  348.533378   884.414103  252.583694  8805.809231  1180.780666      45   \n",
       "26   419.040490   927.057018  298.485211  8886.219298   895.716573      12   \n",
       "181  273.738156   779.818056  181.889763  9089.737500   651.559742      12   \n",
       "456  401.606579   678.310811  197.102503  9219.567568   971.624192      41   \n",
       "\n",
       "     prob_stable  prob_change  \n",
       "23      0.992000     0.008000  \n",
       "277     0.940000     0.060000  \n",
       "82      0.891200     0.108800  \n",
       "125     0.852000     0.148000  \n",
       "26      0.822667     0.177333  \n",
       "181     0.677333     0.322667  \n",
       "456     0.592000     0.408000  \n",
       "\n",
       "[7 rows x 45 columns]"
      ]
     },
     "metadata": {},
     "output_type": "display_data"
    }
   ],
   "source": [
    "df_class[['prob_stable', 'prob_change']] = grid_search_clf.predict_proba(df_class[cols_to_classify][cols_to_classify])\n",
    "\n",
    "print('Maximum probability of stable for change points')\n",
    "#thshld = df_class['prob_stable'][df_class['cnc'] == 1].max()\n",
    "thshld = np.percentile(df_class['prob_stable'][df_class['cnc'] == 1], 100)\n",
    "print(thshld)\n",
    "\n",
    "print('Reasonable probability of stable for change points')\n",
    "#thshld = df_class['prob_stable'][df_class['cnc'] == 1].max()\n",
    "thshld = np.percentile(df_class['prob_stable'][df_class['cnc'] == 1], 90)\n",
    "print(thshld)\n",
    "\n",
    "print('Number of points above thshld (considered stable)')\n",
    "abv_thshld = df_class[df_class['prob_stable'] > thshld]\n",
    "print(str(len(abv_thshld)) + ' out of ' + str(len(df_class)))\n",
    "\n",
    "print('Number of actual change points left in stable')\n",
    "print(len(abv_thshld[abv_thshld['cnc'] == 1]))\n",
    "\n",
    "print(' Point Ids of interpreted change with a high probability of being stable')\n",
    "display(df_class[(df_class['cnc'] == 1) & (df_class['prob_stable'] > thshld)].sort_values('prob_stable', ascending=False))"
   ]
  },
  {
   "cell_type": "code",
   "execution_count": 29,
   "id": "d857f150-fa6a-4f9f-8cc0-6e7ac14766e0",
   "metadata": {},
   "outputs": [
    {
     "name": "stdout",
     "output_type": "stream",
     "text": [
      "Index(['images', 'mon_images', 'gfc_tc00', 'gfc_loss_binary', 'tmf_2000',\n",
      "       'tmf_def_binary', 'tmf_deg_binary', 'bfast_magnitude', 'ccdc_magnitude',\n",
      "       'ltr_magnitude', 'ltr_dur', 'ltr_rate', 'cusum_confidence',\n",
      "       'cusum_magnitude', 'ts_mean', 'ts_sd', 'ts_min', 'ts_max',\n",
      "       'bs_slope_mean', 'bs_slope_sd', 'bs_slope_max', 'bs_slope_min',\n",
      "       'green_mean', 'green_sd', 'red_mean', 'red_sd', 'nir_mean', 'nir_sd',\n",
      "       'swir1_mean', 'swir1_sd', 'swir2_mean', 'swir2_sd', 'ndfi_mean',\n",
      "       'ndfi_sd', 'kmeans', 'PLOTID'],\n",
      "      dtype='object')\n"
     ]
    },
    {
     "data": {
      "text/plain": [
       "113"
      ]
     },
     "execution_count": 29,
     "metadata": {},
     "output_type": "execute_result"
    }
   ],
   "source": [
    "print(X_test.columns)\n",
    "len(X_test)"
   ]
  },
  {
   "cell_type": "code",
   "execution_count": 30,
   "id": "68f8bf6b-d226-4898-ba02-a1db0ee56d4b",
   "metadata": {},
   "outputs": [],
   "source": [
    "X_test[['prob_stable', 'prob_change']] = grid_search_clf.predict_proba(X_test[cols_to_classify])\n",
    "X_test['cnc'] = y_test\n",
    "X_test.to_csv('/home/sepal-user/sbae_point_analysis_CIV/erp_1km/validation_ign_ERP_CIV_IC_113pts.csv', index=False)"
   ]
  },
  {
   "cell_type": "code",
   "execution_count": 31,
   "id": "999ed21b-d91b-4464-bfdd-2df718069b6a",
   "metadata": {},
   "outputs": [
    {
     "data": {
      "text/plain": [
       "<matplotlib.axes._subplots.AxesSubplot at 0x7f0cb0631cd0>"
      ]
     },
     "execution_count": 31,
     "metadata": {},
     "output_type": "execute_result"
    },
    {
     "data": {
      "image/png": "[encoded data removed]",
      "text/plain": [
       "<Figure size 640x480 with 1 Axes>"
      ]
     },
     "metadata": {},
     "output_type": "display_data"
    }
   ],
   "source": [
    "df_class['prob_stable'].hist()\n",
    "len(df_class)\n",
    "\n",
    "X_test['prob_stable'].hist()\n"
   ]
  },
  {
   "cell_type": "code",
   "execution_count": 32,
   "id": "e955a914-f280-4e48-acd5-45157c287e56",
   "metadata": {},
   "outputs": [],
   "source": [
    "fp_ids = df_class[(df_class['cnc'] == 1) & (df_class['prob_stable'] > thshld)]['PLOTID']"
   ]
  },
  {
   "cell_type": "code",
   "execution_count": 33,
   "id": "98cf7714-af01-4fbc-948f-ab9442cb11a4",
   "metadata": {},
   "outputs": [
    {
     "data": {
      "text/plain": [
       "561"
      ]
     },
     "execution_count": 33,
     "metadata": {},
     "output_type": "execute_result"
    }
   ],
   "source": [
    "len(df_class)"
   ]
  },
  {
   "cell_type": "markdown",
   "id": "287bfe0b-05ad-42bf-93c4-5098dca69a83",
   "metadata": {},
   "source": [
    "### 5 Apply ensemble model to ALL points"
   ]
  },
  {
   "cell_type": "code",
   "execution_count": 34,
   "id": "2c58bde0-d5df-456e-8782-d9d7e152b247",
   "metadata": {},
   "outputs": [
    {
     "name": "stdout",
     "output_type": "stream",
     "text": [
      " Number of points to visually recheck based on classification result (0.5 probability)\n",
      "2802\n",
      " Number of points to visually recheck based on adjusted probability\n",
      "3907\n"
     ]
    }
   ],
   "source": [
    "ts['cnc_class'] = grid_search_clf.predict(ts[cols_to_classify])\n",
    "ts[['prob_stable', 'prob_change']] = grid_search_clf.predict_proba(ts[cols_to_classify])\n",
    "\n",
    "print(' Number of points to visually recheck based on classification result (0.5 probability)')\n",
    "print(len(ts[ts['cnc_class'] == 1]))\n",
    "\n",
    "\n",
    "print(' Number of points to visually recheck based on adjusted probability')\n",
    "print(len(ts[ts['prob_stable'] < thshld]))"
   ]
  },
  {
   "cell_type": "code",
   "execution_count": 39,
   "id": "8ad21af0-c506-4269-b482-133447f3d113",
   "metadata": {},
   "outputs": [
    {
     "data": {
      "text/plain": [
       "<matplotlib.axes._subplots.AxesSubplot at 0x7f9caeaac970>"
      ]
     },
     "execution_count": 39,
     "metadata": {},
     "output_type": "execute_result"
    },
    {
     "data": {
      "image/png": "[encoded data removed]",
      "text/plain": [
       "<Figure size 640x480 with 1 Axes>"
      ]
     },
     "metadata": {},
     "output_type": "display_data"
    }
   ],
   "source": [
    "ts['prob_stable'].hist(bins=60)"
   ]
  },
  {
   "cell_type": "code",
   "execution_count": 35,
   "id": "33ac9528-6803-4e3c-8b85-1b617dc5ae4a",
   "metadata": {},
   "outputs": [
    {
     "name": "stdout",
     "output_type": "stream",
     "text": [
      "Index(['LON', 'LAT', 'PLOTID', 'aspect', 'dw_class_mode', 'dw_tree_prob__max',\n",
      "       'dw_tree_prob__min', 'dw_tree_prob__stdDev', 'dw_tree_prob_mean',\n",
      "       'elevation', 'esa_lc20', 'esri_lc20', 'gfc_gain', 'gfc_loss',\n",
      "       'gfc_lossyear', 'gfc_tc00', 'lang_tree_height', 'point_id_x',\n",
      "       'potapov_tree_height', 'slope', 'tmf_2000', 'tmf_2001', 'tmf_2002',\n",
      "       'tmf_2003', 'tmf_2004', 'tmf_2005', 'tmf_2006', 'tmf_2007', 'tmf_2008',\n",
      "       'tmf_2009', 'tmf_2010', 'tmf_2011', 'tmf_2012', 'tmf_2013', 'tmf_2014',\n",
      "       'tmf_2015', 'tmf_defyear', 'tmf_degyear', 'tmf_main', 'tmf_sub',\n",
      "       'point_idx', 'dates', 'ts', 'images', 'geometry', 'ccdc_change_date',\n",
      "       'ccdc_magnitude', 'ltr_magnitude', 'ltr_dur', 'ltr_yod', 'ltr_rate',\n",
      "       'ltr_end_year', 'mon_images', 'cusum_change_date', 'cusum_confidence',\n",
      "       'cusum_magnitude', 'ts_mean', 'ts_sd', 'ts_min', 'ts_max',\n",
      "       'bs_slope_mean', 'bs_slope_sd', 'bs_slope_max', 'bs_slope_min',\n",
      "       'point_id_y', 'bfast_magnitude', 'bfast_means', 'bfast_change_date',\n",
      "       'gfc_loss_binary', 'tmf_def_binary', 'tmf_deg_binary', 'green_mean',\n",
      "       'green_sd', 'red_mean', 'red_sd', 'nir_mean', 'nir_sd', 'swir1_mean',\n",
      "       'swir1_sd', 'swir2_mean', 'swir2_sd', 'ndfi_mean', 'ndfi_sd', 'kmeans',\n",
      "       'cnc_class', 'prob_stable', 'prob_change'],\n",
      "      dtype='object')\n"
     ]
    }
   ],
   "source": [
    "print(ts.columns)"
   ]
  },
  {
   "cell_type": "code",
   "execution_count": 36,
   "id": "3c883d5a-e304-4bac-a3c6-681c1b58a81e",
   "metadata": {},
   "outputs": [],
   "source": [
    "out_csv_file = '/home/sepal-user/sbae_point_analysis_CIV/erp_1km/bdd_erp_2000_2015_supervised_IC_ign.csv'\n",
    "#tout = ts[['PLOTID','LON', 'LAT','kmeans','cnc_class', 'prob_stable', 'prob_change']]\n",
    "tout = ts\n",
    "tout.to_csv(out_csv_file, index=False)"
   ]
  },
  {
   "cell_type": "markdown",
   "id": "068c9151-b989-4fb1-898d-19e9f1057aea",
   "metadata": {},
   "source": [
    "### 6 Select most likely change points based on probability"
   ]
  },
  {
   "cell_type": "code",
   "execution_count": 37,
   "id": "9c695a23-0cfe-43ae-a3a3-282300b78343",
   "metadata": {},
   "outputs": [
    {
     "data": {
      "text/html": [
       "<div>\n",
       "<style scoped>\n",
       "    .dataframe tbody tr th:only-of-type {\n",
       "        vertical-align: middle;\n",
       "    }\n",
       "\n",
       "    .dataframe tbody tr th {\n",
       "        vertical-align: top;\n",
       "    }\n",
       "\n",
       "    .dataframe thead th {\n",
       "        text-align: right;\n",
       "    }\n",
       "</style>\n",
       "<table border=\"1\" class=\"dataframe\">\n",
       "  <thead>\n",
       "    <tr style=\"text-align: right;\">\n",
       "      <th></th>\n",
       "      <th>PLOTID</th>\n",
       "      <th>prob_change</th>\n",
       "    </tr>\n",
       "  </thead>\n",
       "  <tbody>\n",
       "    <tr>\n",
       "      <th>8322</th>\n",
       "      <td>24248</td>\n",
       "      <td>0.968000</td>\n",
       "    </tr>\n",
       "    <tr>\n",
       "      <th>33582</th>\n",
       "      <td>24288</td>\n",
       "      <td>0.952000</td>\n",
       "    </tr>\n",
       "    <tr>\n",
       "      <th>34</th>\n",
       "      <td>45725</td>\n",
       "      <td>0.950400</td>\n",
       "    </tr>\n",
       "    <tr>\n",
       "      <th>8425</th>\n",
       "      <td>26286</td>\n",
       "      <td>0.949333</td>\n",
       "    </tr>\n",
       "    <tr>\n",
       "      <th>10292</th>\n",
       "      <td>126741</td>\n",
       "      <td>0.946400</td>\n",
       "    </tr>\n",
       "    <tr>\n",
       "      <th>...</th>\n",
       "      <td>...</td>\n",
       "      <td>...</td>\n",
       "    </tr>\n",
       "    <tr>\n",
       "      <th>11628</th>\n",
       "      <td>15652</td>\n",
       "      <td>0.453333</td>\n",
       "    </tr>\n",
       "    <tr>\n",
       "      <th>24563</th>\n",
       "      <td>47723</td>\n",
       "      <td>0.453333</td>\n",
       "    </tr>\n",
       "    <tr>\n",
       "      <th>32568</th>\n",
       "      <td>123533</td>\n",
       "      <td>0.453333</td>\n",
       "    </tr>\n",
       "    <tr>\n",
       "      <th>10310</th>\n",
       "      <td>127379</td>\n",
       "      <td>0.453333</td>\n",
       "    </tr>\n",
       "    <tr>\n",
       "      <th>39059</th>\n",
       "      <td>138913</td>\n",
       "      <td>0.453333</td>\n",
       "    </tr>\n",
       "  </tbody>\n",
       "</table>\n",
       "<p>3300 rows × 2 columns</p>\n",
       "</div>"
      ],
      "text/plain": [
       "       PLOTID  prob_change\n",
       "8322    24248     0.968000\n",
       "33582   24288     0.952000\n",
       "34      45725     0.950400\n",
       "8425    26286     0.949333\n",
       "10292  126741     0.946400\n",
       "...       ...          ...\n",
       "11628   15652     0.453333\n",
       "24563   47723     0.453333\n",
       "32568  123533     0.453333\n",
       "10310  127379     0.453333\n",
       "39059  138913     0.453333\n",
       "\n",
       "[3300 rows x 2 columns]"
      ]
     },
     "metadata": {},
     "output_type": "display_data"
    },
    {
     "name": "stdout",
     "output_type": "stream",
     "text": [
      "Minimum change probability included in selection: 0.4533333333333333\n"
     ]
    }
   ],
   "source": [
    "# Number of points you can afford to analyse\n",
    "nr_of_points = 3300\n",
    "\n",
    "# select\n",
    "selection = ts[['PLOTID', 'prob_change']].sort_values('prob_change', ascending=False).head(nr_of_points)\n",
    "display(selection)\n",
    "print('Minimum change probability included in selection: ' + str(selection['prob_change'].min()))"
   ]
  },
  {
   "cell_type": "markdown",
   "id": "df35635d-121d-4d1c-80d9-7e8c1784a438",
   "metadata": {},
   "source": [
    "### 7 Select most grey zone points according to model"
   ]
  },
  {
   "cell_type": "code",
   "execution_count": 38,
   "id": "8abe223e-b874-4ab7-883d-a254d7be6bd7",
   "metadata": {},
   "outputs": [
    {
     "name": "stdout",
     "output_type": "stream",
     "text": [
      " Number of points to visually recheck based on margin of classifier\n"
     ]
    },
    {
     "data": {
      "text/html": [
       "<div>\n",
       "<style scoped>\n",
       "    .dataframe tbody tr th:only-of-type {\n",
       "        vertical-align: middle;\n",
       "    }\n",
       "\n",
       "    .dataframe tbody tr th {\n",
       "        vertical-align: top;\n",
       "    }\n",
       "\n",
       "    .dataframe thead th {\n",
       "        text-align: right;\n",
       "    }\n",
       "</style>\n",
       "<table border=\"1\" class=\"dataframe\">\n",
       "  <thead>\n",
       "    <tr style=\"text-align: right;\">\n",
       "      <th></th>\n",
       "      <th>PLOTID</th>\n",
       "      <th>prob_change</th>\n",
       "    </tr>\n",
       "  </thead>\n",
       "  <tbody>\n",
       "    <tr>\n",
       "      <th>23858</th>\n",
       "      <td>153525</td>\n",
       "      <td>0.549600</td>\n",
       "    </tr>\n",
       "    <tr>\n",
       "      <th>9401</th>\n",
       "      <td>37281</td>\n",
       "      <td>0.549333</td>\n",
       "    </tr>\n",
       "    <tr>\n",
       "      <th>42580</th>\n",
       "      <td>46577</td>\n",
       "      <td>0.549333</td>\n",
       "    </tr>\n",
       "    <tr>\n",
       "      <th>5038</th>\n",
       "      <td>52973</td>\n",
       "      <td>0.549333</td>\n",
       "    </tr>\n",
       "    <tr>\n",
       "      <th>12614</th>\n",
       "      <td>6667</td>\n",
       "      <td>0.549333</td>\n",
       "    </tr>\n",
       "    <tr>\n",
       "      <th>...</th>\n",
       "      <td>...</td>\n",
       "      <td>...</td>\n",
       "    </tr>\n",
       "    <tr>\n",
       "      <th>9473</th>\n",
       "      <td>38611</td>\n",
       "      <td>0.500533</td>\n",
       "    </tr>\n",
       "    <tr>\n",
       "      <th>7782</th>\n",
       "      <td>15633</td>\n",
       "      <td>0.500533</td>\n",
       "    </tr>\n",
       "    <tr>\n",
       "      <th>12112</th>\n",
       "      <td>23775</td>\n",
       "      <td>0.500533</td>\n",
       "    </tr>\n",
       "    <tr>\n",
       "      <th>40792</th>\n",
       "      <td>124758</td>\n",
       "      <td>0.500533</td>\n",
       "    </tr>\n",
       "    <tr>\n",
       "      <th>41092</th>\n",
       "      <td>133676</td>\n",
       "      <td>0.500400</td>\n",
       "    </tr>\n",
       "  </tbody>\n",
       "</table>\n",
       "<p>503 rows × 2 columns</p>\n",
       "</div>"
      ],
      "text/plain": [
       "       PLOTID  prob_change\n",
       "23858  153525     0.549600\n",
       "9401    37281     0.549333\n",
       "42580   46577     0.549333\n",
       "5038    52973     0.549333\n",
       "12614    6667     0.549333\n",
       "...       ...          ...\n",
       "9473    38611     0.500533\n",
       "7782    15633     0.500533\n",
       "12112   23775     0.500533\n",
       "40792  124758     0.500533\n",
       "41092  133676     0.500400\n",
       "\n",
       "[503 rows x 2 columns]"
      ]
     },
     "execution_count": 38,
     "metadata": {},
     "output_type": "execute_result"
    }
   ],
   "source": [
    "print(' Number of points to visually recheck based on margin of classifier') \n",
    "ts[['PLOTID', 'prob_change']][(ts['prob_change'] > 0.5) & (ts['prob_change'] < 0.55)].sort_values('prob_change', ascending=False)"
   ]
  },
  {
   "cell_type": "code",
   "execution_count": null,
   "id": "7d8b1651-865f-45ca-90a6-88f0d599d944",
   "metadata": {},
   "outputs": [],
   "source": []
  },
  {
   "cell_type": "code",
   "execution_count": null,
   "id": "1680cb39-188a-4444-abba-34608ae9b36f",
   "metadata": {},
   "outputs": [],
   "source": []
  }
 ],
 "metadata": {
  "kernelspec": {
   "display_name": "Python 3",
   "language": "python",
   "name": "python3"
  },
  "language_info": {
   "codemirror_mode": {
    "name": "ipython",
    "version": 3
   },
   "file_extension": ".py",
   "mimetype": "text/x-python",
   "name": "python",
   "nbconvert_exporter": "python",
   "pygments_lexer": "ipython3",
   "version": "3.8.10"
  }
 },
 "nbformat": 4,
 "nbformat_minor": 5
}
