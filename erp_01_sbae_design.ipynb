{
 "cells": [
  {
   "cell_type": "markdown",
   "id": "d90d518a-4ebf-4e82-9f08-68b10676bba8",
   "metadata": {},
   "source": [
    "<font face=\"Calibri\" size=\"2\"> <i>SBAE - Notebook Series - Part I, version 0.1,  June 2022. Andreas Vollrath, UN-Food and Agricultural Organization, Rome</i>\n",
    "</font>"
   ]
  },
  {
   "cell_type": "markdown",
   "id": "fff4369c-dec3-43b8-b9a9-a4bb36b4bf48",
   "metadata": {},
   "source": [
    "![titre](images/header.png)\n",
    "\n",
    "# I - Plan d'échantillonnage SBAE\n",
    "### Création d'échantillons ponctuels pour analyse de séries\n",
    "-------\n",
    "\n",
    "L'estimation de surface basée sur un échantillon part d'un ensemble de points pour une zone d'intérêt (AOI) donnée. Il existe différentes manières de créer un ensemble de points, telles que :\n",
    "\n",
    "- systématique,\n",
    "- aléatoire systématique,\n",
    "- purement aléatoire ou\n",
    "- aléatoire stratifié.\n",
    "\n",
    "De plus, la distribution des points est définie par un certain type de géométrie sous-jacente. Il peut s'agir d'une géométrie régulière, appelée **grille** ou d'une **couche de strates** telle qu'une carte d'occupation du sol par exemple. Des grilles régulières peuvent être générées sous les formes suivantes :\n",
    "\n",
    "- Carrée\n",
    "- Triangulaire\n",
    "- Hexagonale\n",
    "\n",
    "Ce bloc-notes vous guide tout au long du processus de génération d'un tel ensemble de points d'échantillonnage avec les options mentionnées ci-dessus."
   ]
  },
  {
   "cell_type": "markdown",
   "id": "9f1f9d9a-8a0d-4d85-b134-f0bda3727152",
   "metadata": {},
   "source": [
    "### Importer les librairies\n",
    "\n",
    "*Execute only*"
   ]
  },
  {
   "cell_type": "code",
   "execution_count": null,
   "id": "5082e851-cc51-4f47-8790-80ce88126726",
   "metadata": {},
   "outputs": [],
   "source": [
    "#La première fois, faire tourner cette cellule pour installer les packages manquants\n",
    "!pip install nrt seaborn retry sepal-ui==2.12.0"
   ]
  },
  {
   "cell_type": "code",
   "execution_count": 1,
   "id": "a75e78de-8687-4632-8586-9ca964b31045",
   "metadata": {},
   "outputs": [
    {
     "name": "stderr",
     "output_type": "stream",
     "text": [
      "/usr/local/lib/python3.8/dist-packages/pandas/core/computation/expressions.py:20: UserWarning: Pandas requires version '2.7.3' or newer of 'numexpr' (version '2.7.1' currently installed).\n",
      "  from pandas.core.computation.check import NUMEXPR_INSTALLED\n"
     ]
    },
    {
     "data": {
      "application/vnd.jupyter.widget-view+json": {
       "model_id": "402136b446954f2cbab393c72cce3e03",
       "version_major": 2,
       "version_minor": 0
      },
      "text/plain": [
       "Styles()"
      ]
     },
     "metadata": {},
     "output_type": "display_data"
    },
    {
     "data": {
      "application/vnd.jupyter.widget-view+json": {
       "model_id": "6e34572ebe324e17953c0240e7b44d21",
       "version_major": 2,
       "version_minor": 0
      },
      "text/plain": [
       "ResizeTrigger()"
      ]
     },
     "metadata": {},
     "output_type": "display_data"
    },
    {
     "name": "stderr",
     "output_type": "stream",
     "text": [
      "/usr/local/lib/python3.8/dist-packages/bfast/__init__.py:10: UserWarning: cupy is not available in this environment, GPU fonctionnalities won't be available\n",
      "  warn(\"cupy is not available in this environment, GPU fonctionnalities won't be available\")\n"
     ]
    }
   ],
   "source": [
    "import time\n",
    "from datetime import datetime as dt\n",
    "import matplotlib.pyplot as plt\n",
    "\n",
    "import ee\n",
    "import geemap\n",
    "import geopandas as gpd\n",
    "from sepal_ui.mapping import SepalMap\n",
    "\n",
    "# initialize EE    \n",
    "try:\n",
    "    ee.Initialize()\n",
    "except:\n",
    "    ee.Authenticate()\n",
    "    ee.Initialize()\n",
    "\n",
    "import helpers as h"
   ]
  },
  {
   "cell_type": "markdown",
   "id": "23c04e79-5bfe-48d9-8412-c17707d7c5e9",
   "metadata": {},
   "source": [
    "### 1 - Créer des points d'échantillonnage (semi-) réguliers basés sur des cellules de grille carrées\n",
    "\n",
    "\n",
    "##### ***Introduction***\n",
    "Dans cette partie, nous aborderons la création de points d'échantillonnage **systématique** et **systématique aléatoire**.\n",
    "La routine sous-jacente créera une **grille régulière** d'une taille donnée sur l'AOI donnée.\n",
    "\n",
    "Sur cette base, il existe 2 options pour créer une couche de points, c'est-à-dire en utilisant le point central de chaque cellule de la grille ou en utilisant un seul emplacement aléatoire dans chaque cellule de la grille.\n",
    "\n",
    "Lors de la création d'échantillons, une considération importante est la projection utilisée. Les projections présentent toujours des distorsions par rapport à la forme sphérique réelle de la Terre. Comme notre objectif est de donner à chaque échantillon le même poids en termes de représentativité de surface, nous sélectionnerons une projection optimisée pour **surface égale**. Dans le tableau ci-dessous, vous trouverez quelques exemples de projections globales à surface égale parmi lesquelles choisir. Les informations sont tirées d'un article de Yildrim & Kaya 2008 et peuvent être trouvées [ici](https://www.ncbi.nlm.nih.gov/pmc/articles/PMC3790990/#:~:text=The%20level%20of%20distortion%20can,compared%20to%20equal%2Darea%20maps). **Notez** que la projection Lat/Lon couramment utilisée (EPSG:4326) **ne** contient pas de distorsions qui doivent être évitées.\n",
    "\n",
    "| **Projection** | **Code** |\n",
    "| ------------- |----------------|\n",
    "| Behrmann | ESRI :54017 |\n",
    "| Bonne | ESRI :54024 |\n",
    "| Sinusoïdal | ESRI :54008 |"
   ]
  },
  {
   "cell_type": "markdown",
   "id": "5823fb25-9996-4041-81ce-f2af8ad6fc55",
   "metadata": {},
   "source": [
    "#### 1.1 - Définir les variables d'entrée\n",
    "\n",
    "4 variables d'entrée doivent être sélectionnées :\n",
    "\n",
    "- Projection (comme code epsg/esri)\n",
    "- AOI (soit en tant que nom de pays, Earth Engine Feature Collection, ou fichier vectoriel lisible par géopandas, c'est-à-dire shapefile, géopackage, geojson, etc.)\n",
    "- Taille de la grille (longueur de 1 bordure de la cellule de grille carrée)\n",
    "- Stratégie d'échantillonnage (soit aléatoire pour aléatoire systématique, soit systématique)"
   ]
  },
  {
   "cell_type": "code",
   "execution_count": 2,
   "id": "a523ff47-faae-42c2-af9f-ea2fbb3d6fc2",
   "metadata": {},
   "outputs": [],
   "source": [
    "# Define the projection to create the grid\n",
    "projection = 'ESRI:54008'    # Behrmanns equal area\n",
    "\n",
    "# Define the Area of Interest \n",
    "# Example Country case, using FAO's GAUL boundaries\n",
    "# country = 'Côte d'Ivoire'   \n",
    "# aoi = ee.FeatureCollection(\"FAO/GAUL/2015/level0\").filter(ee.Filter.eq('ADM0_NAME', country)) # here any feature collection can be selected\n",
    "\n",
    "# Example using a shapefile (uncomment and adapt path)\n",
    "aoi_all = gpd.read_file('/home/sepal-user/sbae_point_analysis_CIV/inputs/zae_dissolve_buffer1k.gpkg')\n",
    "aoi_sel = gpd.read_file('/home/sepal-user/sbae_point_analysis_CIV/inputs/erp_geo.gpkg')\n",
    "\n",
    "#aoi_sel = aoi_sel.set_crs(4326)\n",
    "\n",
    "# Define the \n",
    "grid_size = 5000 # in metres\n",
    "sampling_strategy = 'systematic' # either 'random' or 'systematic'"
   ]
  },
  {
   "cell_type": "markdown",
   "id": "79717889-63f4-4ceb-bc40-8d763e1aa808",
   "metadata": {},
   "source": [
    "#### 1.2 - Créer la grille et les points d'échantillonnage"
   ]
  },
  {
   "cell_type": "code",
   "execution_count": null,
   "id": "bf78968a-12a9-4cbb-be6e-ab3f8cf8537a",
   "metadata": {},
   "outputs": [],
   "source": [
    "# Créer une grille à l'echelle nationale (14' pour toute Cote d'Ivoire à 1km, 2' pour ERP à 5km)\n",
    "squared_grid_cells, squared_samples_gdf = h.squared_grid(aoi_sel, grid_size, projection, sampling_strategy)\n",
    "\n",
    "#squared_grid_cells, squared_samples_gdf = h.squared_grid(aoi_all, grid_size, projection, sampling_strategy)\n",
    "#squared_samples_gdf = gpd.read_file('/home/dannunzio/sbae_point_analysis/results_square/01_sbae_points.gpkg')"
   ]
  },
  {
   "cell_type": "code",
   "execution_count": null,
   "id": "708111d1-ea6b-4913-953b-fb75c3c95743",
   "metadata": {},
   "outputs": [],
   "source": [
    "## Selectionner seulement les points dans la zone ERP\n",
    "aoi_geom                = aoi_sel.set_crs(4326).to_crs('ESRI:54008')\n",
    "sel_squared_samples_gdf = gpd.overlay(squared_samples_gdf, aoi_geom)\n",
    "sel_squared_samples_gdf = sel_squared_samples_gdf.set_crs('ESRI:54008')\n",
    "sel_squared_samples_gdf"
   ]
  },
  {
   "cell_type": "markdown",
   "id": "b6c5ed8a-88d6-4ae0-9db4-badb9fcfa674",
   "metadata": {},
   "source": [
    "#### 1.3 - Afficher les points"
   ]
  },
  {
   "cell_type": "code",
   "execution_count": null,
   "id": "eccdd289-fec0-46ab-9823-5a1e24e0f64e",
   "metadata": {},
   "outputs": [],
   "source": [
    "# Appeler le plot pour l'AOI et les points sélectionner\n",
    "h.plot_samples(aoi_geom,sel_squared_samples_gdf)"
   ]
  },
  {
   "cell_type": "markdown",
   "id": "84448489-5ec4-420a-bf23-a2b130b29dbf",
   "metadata": {},
   "source": [
    "#### 1.4- Enregistrer les sorties\n",
    "\n",
    "Le notebook vous permet d'exporter la grille finale de 3 manières différentes :\n",
    "1. Collect Earth Online (format CSV)\n",
    "2. Fichier vectoriel SIG (format GPKG)\n",
    "3. Actif Earth Engine (format Feature Collection)"
   ]
  },
  {
   "cell_type": "code",
   "execution_count": null,
   "id": "b72aaa32-857a-43ca-ae7e-b2a8df345d07",
   "metadata": {},
   "outputs": [],
   "source": [
    "#------------------------\n",
    "# define an outputs \n",
    "#------------------------\n",
    "\n",
    "# select on of the above created grids that you want to save\n",
    "final_samples = sel_squared_samples_gdf\n",
    "\n",
    "# directory where output files will go\n",
    "outdir = 'erp_5km' # if left ot None, it goes into module results\n",
    "\n",
    "# output a CEO compatible csv file\n",
    "out_ceo_csv = True\n",
    "\n",
    "# output a Geopackage file\n",
    "out_gpkg = True\n",
    "\n",
    "# ee asset\n",
    "ee_asset_name = 'civ_erp_5km_pts_exo'\n",
    "\n",
    "\n",
    "### users/fao-dannunzio/civ_1km_pts_sub_erp_exo\n",
    "\n",
    "# upload to EE\n",
    "h.upload_to_ee(final_samples, ee_asset_name)\n",
    "\n",
    "# save to local output directory\n",
    "h.save_locally(final_samples, ceo_csv=out_ceo_csv, gpkg=out_gpkg, outdir=outdir)"
   ]
  },
  {
   "cell_type": "markdown",
   "id": "64f97f8c-db3d-4917-a4de-e0db59ff089d",
   "metadata": {},
   "source": [
    "## Nom de l'asset pour la suite\n",
    "users/fao-dannunzio/civ_erp_5km_pts_exo"
   ]
  },
  {
   "cell_type": "markdown",
   "id": "2cc7b41f-3e66-4878-89ee-85203e9d939b",
   "metadata": {},
   "source": [
    "### 2 - Créer des points sur une grille hexagonale\n",
    "\n",
    "***Pourquoi des hexagones ?***\n",
    "\n",
    "Les hexagones présentent quelques avantages par rapport aux cellules de grille carrées. Avant tout, ils réduisent l'erreur sur la surface, mais ils garantissent également que chaque point dans la cellule de la grille est plus ou moins à la même distance du centre. En effet, la forme idéale selon ce critère serait un cercle. Il n'est cependant pas possible de créer une grille cohérente de cercles. L'hexagone est la forme de polygone qui se rapproche le plus de ce critère, tout en étant capable de fournir un maillage cohérent.\n",
    "\n",
    "***Système de réseau global discret (DGGS)***\n",
    "\n",
    "Un système de grille global discret (DGGS) est une série de grilles globales discrètes, généralement constituées de grilles de résolution de plus en plus fines.\n",
    "\n",
    "***Usage***\n",
    "\n",
    "Ce bloc-notes fournit une interface simplifiée à la bibliothèque dggrid de [Southern Oregon University](https://www.discreteglobalgrids.org/software/).\n",
    "\n",
    "Il convient de noter que le DGGRID a un **ensemble fixe de résolutions** qui doit être sélectionné dans la colonne *res* du tableau ci-dessous (vous devez consulter le manuel pour d'autres résolutions si vous sélectionnez une projection différente de l'ISEA3H)\n",
    "\n",
    "Pour une utilisation avancée, il est recommandé de lire le [manuel](https://webpages.sou.edu/~sahrk/docs/dggridManualV70.pdf).\n",
    "\n",
    "![title](images/dggrid_isea3h_ap3_res_table.png)\n"
   ]
  },
  {
   "cell_type": "markdown",
   "id": "cbf47b80-a507-4eca-9a4d-ee20b2364aab",
   "metadata": {},
   "source": [
    "#### 2.1 - Créer une grille hexagonale"
   ]
  },
  {
   "cell_type": "code",
   "execution_count": null,
   "id": "69c31300-7543-4cff-a22e-403c7d29d454",
   "metadata": {},
   "outputs": [],
   "source": [
    "hex_grid_cells, hex_samples_gdf = h.hexagonal_grid(\n",
    "    aoi=aoi_sel,                      # Area of interest\n",
    "    resolution=13,                    # refers to the resolution of the grid\n",
    "    sampling_strategy='systematic',   # choices are 'random' or 'systematic'\n",
    "    outcrs='EPSG:4326'                # projection of the output data\n",
    ")"
   ]
  },
  {
   "cell_type": "markdown",
   "id": "6835211e-51c6-4685-8811-9b03e645b484",
   "metadata": {},
   "source": [
    "#### 2.2 Plot grid and grid cells"
   ]
  },
  {
   "cell_type": "code",
   "execution_count": null,
   "id": "b44ae3e7-1bdc-45c6-9f6d-b872f0524035",
   "metadata": {},
   "outputs": [],
   "source": [
    "h.plot_samples(aoi_sel, hex_samples_gdf, hex_grid_cells)"
   ]
  },
  {
   "cell_type": "markdown",
   "id": "50f45bad-bf5b-49fb-b64b-f1b8ace04fe0",
   "metadata": {},
   "source": [
    "### 3 - Creating a set of irregular sample points based on random and stratified sampling"
   ]
  },
  {
   "cell_type": "markdown",
   "id": "b7c00cb3-9a72-4994-a9d0-84417f0b7364",
   "metadata": {
    "tags": []
   },
   "source": [
    "#### 3.1 - Create points"
   ]
  },
  {
   "cell_type": "code",
   "execution_count": 6,
   "id": "a0d27d8a-3c07-4450-aaf9-b6bde5deeadd",
   "metadata": {
    "tags": []
   },
   "outputs": [
    {
     "name": "stderr",
     "output_type": "stream",
     "text": [
      "/usr/local/lib/python3.8/dist-packages/geopandas/io/file.py:362: FutureWarning: pandas.Int64Index is deprecated and will be removed from pandas in a future version. Use pandas.Index with the appropriate dtype instead.\n",
      "  pd.Int64Index,\n"
     ]
    }
   ],
   "source": [
    "aoi = aoi_sel\n",
    "if not isinstance(aoi, ee.FeatureCollection):\n",
    "    aoi = geemap.geopandas_to_ee(aoi.dissolve())\n",
    "\n",
    "# stratified sampling based on ESA LC\n",
    "imageCollection = ee.ImageCollection(\"ESA/WorldCover/v100\")\n",
    "esaLc = ee.Image(imageCollection.filterBounds(aoi).mosaic().clip(aoi).copyProperties(imageCollection.first()))\n",
    "\n",
    "stratified_samples = esaLc.stratifiedSample(**{\n",
    "    \"numPoints\": 25,\n",
    "    \"region\": aoi,\n",
    "    \"scale\": 100, \n",
    "    \"seed\": 42, \n",
    "    \"tileScale\": 4, \n",
    "    \"geometries\": True\n",
    "}).map(h.set_id)\n",
    "\n",
    "random_samples = ee.FeatureCollection.randomPoints(**{\n",
    "    \"points\": 250,\n",
    "    \"region\": aoi,\n",
    "}).map(h.set_id)"
   ]
  },
  {
   "cell_type": "markdown",
   "id": "688c2ded-544e-43fe-ad12-6f01be75ccad",
   "metadata": {},
   "source": [
    "random_samples Display in map\n",
    "\n",
    "**Execute only**"
   ]
  },
  {
   "cell_type": "code",
   "execution_count": 5,
   "id": "3ba8c094-dc7c-4020-967f-b12031403966",
   "metadata": {
    "tags": []
   },
   "outputs": [
    {
     "data": {
      "application/vnd.jupyter.widget-view+json": {
       "model_id": "a13cb43f519d496f90c1ff9cf37368c7",
       "version_major": 2,
       "version_minor": 0
      },
      "text/plain": [
       "SepalMap(center=[6.043680537362453, -6.9757897599146235], controls=(ZoomControl(options=['position', 'zoom_in_…"
      ]
     },
     "metadata": {},
     "output_type": "display_data"
    }
   ],
   "source": [
    "# intialize Map\n",
    "Map = SepalMap(['HYBRID'])\n",
    "Map.zoom_ee_object(aoi.geometry())\n",
    "\n",
    "# add layers\n",
    "Map.addLayer(ee.Image().byte().paint(featureCollection=aoi, color=1, width=3), {\"palette\": \"blue\"}, 'Area of interest')\n",
    "Map.addLayer(esaLc, {}, 'ESA Worldcover 2020')\n",
    "Map.addLayer(stratified_samples.draw(color=\"green\", pointRadius=2), {}, 'Stratified Samples per class from ESA LC')\n",
    "Map.addLayer(random_samples.draw(color=\"red\", pointRadius=2), {}, 'Random Samples per class from ESA LC')\n",
    "\n",
    "#\n",
    "Map"
   ]
  },
  {
   "cell_type": "code",
   "execution_count": null,
   "id": "a1321969-c464-48fa-84ba-6a2742d5ff8d",
   "metadata": {},
   "outputs": [],
   "source": []
  }
 ],
 "metadata": {
  "kernelspec": {
   "display_name": "Python 3",
   "language": "python",
   "name": "python3"
  },
  "language_info": {
   "codemirror_mode": {
    "name": "ipython",
    "version": 3
   },
   "file_extension": ".py",
   "mimetype": "text/x-python",
   "name": "python",
   "nbconvert_exporter": "python",
   "pygments_lexer": "ipython3",
   "version": "3.8.10"
  }
 },
 "nbformat": 4,
 "nbformat_minor": 5
}
