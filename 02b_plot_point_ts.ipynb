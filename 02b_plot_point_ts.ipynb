{
 "cells": [
  {
   "cell_type": "code",
   "execution_count": null,
   "id": "ce839779-5cdd-4caa-90c2-ac6677d22b95",
   "metadata": {},
   "outputs": [],
   "source": [
    "import helpers as h"
   ]
  },
  {
   "cell_type": "code",
   "execution_count": null,
   "id": "780ffd1e-f5f0-484f-9627-7ac031c88abe",
   "metadata": {},
   "outputs": [],
   "source": [
    "file = 'results/results_Landsat_ndmi_2017-01-01_2018-01-01_2018-12-31_2.pickle'\n",
    "point_id = 98845\n",
    "point_id_name = 'point_id'\n",
    "\n",
    "h.plot_timeseries(file, point_id, point_id_name)"
   ]
  }
 ],
 "metadata": {
  "kernelspec": {
   "display_name": "Python 3",
   "language": "python",
   "name": "python3"
  },
  "language_info": {
   "codemirror_mode": {
    "name": "ipython",
    "version": 3
   },
   "file_extension": ".py",
   "mimetype": "text/x-python",
   "name": "python",
   "nbconvert_exporter": "python",
   "pygments_lexer": "ipython3",
   "version": "3.8.10"
  }
 },
 "nbformat": 4,
 "nbformat_minor": 5
}
