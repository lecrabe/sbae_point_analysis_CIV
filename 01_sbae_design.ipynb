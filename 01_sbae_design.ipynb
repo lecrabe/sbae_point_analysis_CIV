{
 "cells": [
  {
   "cell_type": "markdown",
   "id": "9f1f9d9a-8a0d-4d85-b134-f0bda3727152",
   "metadata": {},
   "source": [
    "### 1 - Import libs\n",
    "\n",
    "**Execute only**"
   ]
  },
  {
   "cell_type": "code",
   "execution_count": null,
   "id": "a75e78de-8687-4632-8586-9ca964b31045",
   "metadata": {},
   "outputs": [],
   "source": [
    "import time\n",
    "from datetime import datetime as dt\n",
    "import matplotlib.pyplot as plt\n",
    "\n",
    "import ee\n",
    "import geemap\n",
    "from sepal_ui.mapping import SepalMap\n",
    "\n",
    "# initialize EE    \n",
    "try:\n",
    "    ee.Initialize()\n",
    "except:\n",
    "    ee.Authenticate()\n",
    "    ee.Initialize()\n",
    "\n",
    "import helpers as h"
   ]
  },
  {
   "cell_type": "markdown",
   "id": "23c04e79-5bfe-48d9-8412-c17707d7c5e9",
   "metadata": {},
   "source": [
    "### 2 - Basic Input Variables\n",
    "\n",
    "**DEFINE YOUR INPUT VARIABLES**"
   ]
  },
  {
   "cell_type": "code",
   "execution_count": null,
   "id": "8cc66ee9-1ed4-4f96-b776-8cd14d2d2a9c",
   "metadata": {},
   "outputs": [],
   "source": [
    "# Define the projection to create the grid\n",
    "# This should ideally be some equal area projection so that each sample represents the same area on the ground\n",
    "crs = 'ESRI:54017' # Behrmanns equal area,\n",
    "# see for others here https://www.ncbi.nlm.nih.gov/pmc/articles/PMC3790990/#:~:text=The%20level%20of%20distortion%20can,compared%20to%20equal%2Darea%20maps.\n",
    "\n",
    "# Area of Interest (can be both, a EE FeatureCollection, or a geopandas readable file format)\n",
    "country = 'Kenya'   # country case\n",
    "aoi = ee.FeatureCollection(\"FAO/GAUL/2015/level1\").filter(ee.Filter.eq('ADM0_NAME', country))\n",
    "#aoi = gpd.read_file('my_admin_boundaries.shp')\n",
    "\n",
    "spacing = 100000 # in metres\n",
    "sampling_strategy = 'systematic' # either 'random' or 'systematic'\n",
    "\n",
    "#------------------------\n",
    "# define an outputs \n",
    "#------------------------\n",
    "\n",
    "# directory where output files will go\n",
    "outdir = None # if left ot None, it goes into module results\n",
    "\n",
    "# output a CEO compatible csv file\n",
    "out_ceo_csv = True\n",
    "\n",
    "# output a Geopackage file\n",
    "out_gpkg = True\n",
    "\n",
    "# ee asset\n",
    "ee_asset_name = '01_myproject_sbae_points'"
   ]
  },
  {
   "cell_type": "markdown",
   "id": "38426a5b-6394-4542-92e5-fe647ac0d69a",
   "metadata": {},
   "source": [
    "### 3 - Generate GRID and POINTS"
   ]
  },
  {
   "cell_type": "markdown",
   "id": "a589bab5-7c51-45fd-80d3-e0ca63b9ba7c",
   "metadata": {},
   "source": [
    "### 3.1 - Systematic and random systematic grid\n",
    "\n",
    "**Execute only**"
   ]
  },
  {
   "cell_type": "code",
   "execution_count": null,
   "id": "eb9d252d-0e64-454c-99e0-b8df3800c579",
   "metadata": {
    "tags": []
   },
   "outputs": [],
   "source": [
    "# Generate a systematic grid\n",
    "grid_gdf, systematic_point_gdf = h.generate_samples(aoi, spacing, crs, 'systematic')\n",
    "\n",
    "# Generate a random systematic grid\n",
    "grid_gdf, random_point_gdf = h.generate_samples(aoi, spacing, crs, 'random')"
   ]
  },
  {
   "cell_type": "markdown",
   "id": "b6c5ed8a-88d6-4ae0-9db4-badb9fcfa674",
   "metadata": {},
   "source": [
    "### Plot grid and points"
   ]
  },
  {
   "cell_type": "code",
   "execution_count": null,
   "id": "eccdd289-fec0-46ab-9823-5a1e24e0f64e",
   "metadata": {},
   "outputs": [],
   "source": [
    "fig, ax = plt.subplots(1, 1, figsize=(15, 15))\n",
    "if isinstance(aoi, ee.FeatureCollection):\n",
    "    geemap.ee_to_geopandas(aoi).to_crs(crs).plot(ax=ax, alpha=0.25)\n",
    "else:\n",
    "    aoi.to_crs(crs).plot(ax=ax, alpha=0.25)  \n",
    "    \n",
    "grid_gdf.plot(ax=ax, facecolor=\"none\", edgecolor='black', lw=0.1)\n",
    "systematic_point_gdf.plot(ax=ax, facecolor='red', markersize=.5)\n",
    "random_point_gdf.plot(ax=ax, facecolor='green', markersize=.5)"
   ]
  },
  {
   "cell_type": "markdown",
   "id": "c8103436-cd54-485b-beae-0d4b183ce5fa",
   "metadata": {},
   "source": [
    "#### Save points"
   ]
  },
  {
   "cell_type": "code",
   "execution_count": null,
   "id": "8856f4ff-3fa5-4949-a141-0883311485ed",
   "metadata": {},
   "outputs": [],
   "source": [
    "# upload to EE\n",
    "h.upload_to_ee(systematic_point_gdf, ee_asset_name)\n",
    "\n",
    "# save to local \n",
    "h.save_locally(systematic_point_gdf, ceo_csv=out_ceo_csv, gpkg=out_gpkg, outdir=outdir)"
   ]
  },
  {
   "cell_type": "markdown",
   "id": "50f45bad-bf5b-49fb-b64b-f1b8ace04fe0",
   "metadata": {},
   "source": [
    "### 3.2 - Stratified Sampling"
   ]
  },
  {
   "cell_type": "code",
   "execution_count": null,
   "id": "a0d27d8a-3c07-4450-aaf9-b6bde5deeadd",
   "metadata": {
    "tags": []
   },
   "outputs": [],
   "source": [
    "# stratified sampling based on ESA LC\n",
    "imageCollection = ee.ImageCollection(\"ESA/WorldCover/v100\")\n",
    "esaLc = imageCollection.filterBounds(aoi).first().clip(aoi)\n",
    "\n",
    "stratifiedSamples = esaLc.stratifiedSample(**{\n",
    "    \"numPoints\": 25,\n",
    "    \"region\": aoi,\n",
    "    \"scale\": 100, \n",
    "    \"seed\": 42, \n",
    "    \"tileScale\": 4, \n",
    "    \"geometries\": True\n",
    "}).map(h.set_id)"
   ]
  },
  {
   "cell_type": "markdown",
   "id": "688c2ded-544e-43fe-ad12-6f01be75ccad",
   "metadata": {},
   "source": [
    "### 4 - Display in map\n",
    "\n",
    "**Execute only**"
   ]
  },
  {
   "cell_type": "code",
   "execution_count": null,
   "id": "3ba8c094-dc7c-4020-967f-b12031403966",
   "metadata": {
    "tags": []
   },
   "outputs": [],
   "source": [
    "# intialize Map\n",
    "Map = SepalMap(['HYBRID'])\n",
    "Map.zoom_ee_object(aoi.geometry())\n",
    "\n",
    "# add layers\n",
    "Map.addLayer(ee.Image().byte().paint(featureCollection=aoi, color=1, width=3), {\"palette\": \"blue\"}, 'Area of interest')\n",
    "Map.addLayer(esaLc, False, 'ESA Worldcover 2020')\n",
    "Map.addLayer(stratifiedSamples.draw(color=\"black\", pointRadius=2), {}, 'Stratified Samples per class from ESA LC')\n",
    "\n",
    "#\n",
    "Map"
   ]
  }
 ],
 "metadata": {
  "kernelspec": {
   "display_name": "Python 3",
   "language": "python",
   "name": "python3"
  },
  "language_info": {
   "codemirror_mode": {
    "name": "ipython",
    "version": 3
   },
   "file_extension": ".py",
   "mimetype": "text/x-python",
   "name": "python",
   "nbconvert_exporter": "python",
   "pygments_lexer": "ipython3",
   "version": "3.8.10"
  }
 },
 "nbformat": 4,
 "nbformat_minor": 5
}
