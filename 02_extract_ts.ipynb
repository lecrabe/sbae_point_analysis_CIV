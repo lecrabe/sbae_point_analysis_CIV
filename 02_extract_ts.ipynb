{
 "cells": [
  {
   "cell_type": "markdown",
   "id": "9e262b60-a61c-4fb6-adfb-c00d1ebda073",
   "metadata": {},
   "source": [
    "<font face=\"Calibri\" size=\"2\"> <i>SBAE - Notebook Series - Part 2, version 0.1,  June 2022. Andreas Vollrath, UN-Food and Agricultural Organization, Rome</i>\n",
    "</font>"
   ]
  },
  {
   "cell_type": "markdown",
   "id": "2d64fe01-50b8-4280-9629-1445ad541e45",
   "metadata": {},
   "source": [
    "![title](images/header.png)\n",
    "\n",
    "# II - SBAE Time-Series Extraction & Change Detection\n",
    "### Extract various time-series outputs for point data from Google Earth Engine\n",
    "-------\n",
    "\n",
    "This notebook takes you through the process of extracting outputs from various time-series change detection algorithms and structure them in a so-called data-frame (e.g. tabular structure)."
   ]
  },
  {
   "cell_type": "markdown",
   "id": "9f1f9d9a-8a0d-4d85-b134-f0bda3727152",
   "metadata": {},
   "source": [
    "### 1 - Import libs\n",
    "\n",
    "**ONLY EXECUTE THIS CELL**"
   ]
  },
  {
   "cell_type": "code",
   "execution_count": 1,
   "id": "a75e78de-8687-4632-8586-9ca964b31045",
   "metadata": {},
   "outputs": [
    {
     "name": "stderr",
     "output_type": "stream",
     "text": [
      "/home/vollrath/.local/lib/python3.8/site-packages/geopandas/_compat.py:111: UserWarning: The Shapely GEOS version (3.10.2-CAPI-1.16.0) is incompatible with the GEOS version PyGEOS was compiled with (3.10.1-CAPI-1.16.0). Conversions between both will be slow.\n",
      "  warnings.warn(\n",
      "/usr/local/lib/python3.8/dist-packages/bfast/__init__.py:10: UserWarning: cupy is not available in this environment, GPU fonctionnalities won't be available\n",
      "  warn(\"cupy is not available in this environment, GPU fonctionnalities won't be available\")\n"
     ]
    }
   ],
   "source": [
    "import time \n",
    "from pathlib import Path\n",
    "from datetime import datetime as dt\n",
    "\n",
    "import ee\n",
    "import geemap\n",
    "# initialize EE    \n",
    "try:\n",
    "    ee.Initialize(opt_url='https://earthengine-highvolume.googleapis.com')\n",
    "except:\n",
    "    ee.Authenticate()\n",
    "    ee.Initialize(opt_url='https://earthengine-highvolume.googleapis.com')\n",
    "\n",
    "import helpers as h"
   ]
  },
  {
   "cell_type": "markdown",
   "id": "23c04e79-5bfe-48d9-8412-c17707d7c5e9",
   "metadata": {},
   "source": [
    "### 2 - Basic Input Variables\n",
    "\n",
    "**FILL IN YOUR INPUTS**"
   ]
  },
  {
   "cell_type": "code",
   "execution_count": 2,
   "id": "22c8d21f-1d84-44b2-9b44-3458bc7ff444",
   "metadata": {},
   "outputs": [],
   "source": [
    "# Area of Interest\n",
    "\n",
    "# country/province case example\n",
    "country = 'Buhweju'   \n",
    "aoi = ee.FeatureCollection(\"FAO/GAUL/2015/level1\").filter(ee.Filter.eq('ADM1_NAME', country)) # here any feature collection can be selected\n",
    "\n",
    "# Asset case\n",
    "#aoi = ee.FeatureCollection(\"my_aoi_feature_collection\")\n",
    "\n",
    "# Point Feature Collection from where to extract points\n",
    "fc = ee.FeatureCollection(\"users/andreasvollrath/01_test_sbae_points\").filterBounds(aoi)\n",
    "\n",
    "# the column of a unique point identifier in your dataset\n",
    "point_id_name = 'point_id'\n",
    "\n",
    "grid_size = 0.25 # that's the size of the grid we are parallelizing on in degrees\n",
    "workers = 10 # number of parallel EE requests"
   ]
  },
  {
   "cell_type": "markdown",
   "id": "771a71ff-13f9-4573-ba5e-2e0c8e60cdfd",
   "metadata": {},
   "source": [
    "#### 2b - Check inputs visually"
   ]
  },
  {
   "cell_type": "code",
   "execution_count": 3,
   "id": "bbae85e0-58e0-4bbd-99bd-dff18d4fa3d0",
   "metadata": {},
   "outputs": [
    {
     "data": {
      "application/vnd.jupyter.widget-view+json": {
       "model_id": "94d7a73dec0442eba078a9e3b3fc0836",
       "version_major": 2,
       "version_minor": 0
      },
      "text/plain": [
       "Styles()"
      ]
     },
     "metadata": {},
     "output_type": "display_data"
    },
    {
     "data": {
      "application/vnd.jupyter.widget-view+json": {
       "model_id": "32739ca7f0774112aa7e7e5a9d8115ff",
       "version_major": 2,
       "version_minor": 0
      },
      "text/plain": [
       "SepalMap(center=[-0.3203418090924264, 30.347812392179087], controls=(ZoomControl(options=['position', 'zoom_in…"
      ]
     },
     "metadata": {},
     "output_type": "display_data"
    }
   ],
   "source": [
    "from sepal_ui.mapping import SepalMap\n",
    "\n",
    "# create the grid\n",
    "grid, grid_fc = h.processing_grid(aoi, grid_size, grid_size)\n",
    "\n",
    "Map = SepalMap(['HYBRID'])\n",
    "Map.zoom_ee_object(aoi.geometry())\n",
    "\n",
    "# add layers\n",
    "Map.addLayer(grid_fc)\n",
    "Map.addLayer(fc)\n",
    "Map.addLayer(aoi)\n",
    "Map"
   ]
  },
  {
   "cell_type": "markdown",
   "id": "028b7557-3d18-43bc-a6c3-5bd8a7b8daba",
   "metadata": {},
   "source": [
    "#### 2c - Time-series parameter settings"
   ]
  },
  {
   "cell_type": "code",
   "execution_count": 4,
   "id": "b3041347-3240-4952-af6a-a27c2dab7150",
   "metadata": {},
   "outputs": [],
   "source": [
    "# start of calibration period (mainly for bfast)\n",
    "start_calibration = \"2015-01-01\"  # YYYY-MM-DD format\n",
    "\n",
    "# Actual period of interest, i.e. monitoring period\n",
    "start_monitor = \"2017-01-01\"  # YYYY-MM-DD format\n",
    "end_monitor =  \"2018-01-01\"  # YYYY-MM-DD format\n",
    "\n",
    "# Directory where output and temp files will go\n",
    "outdir = 'results'  # goes to module_results/sbae_point_analysis if left to None\n",
    "\n",
    "# Select algorithms to run\n",
    "cusum_deforest = True\n",
    "bfast_monitor = True\n",
    "bs_slope = True\n",
    "ts_metrics = True\n",
    "ccdc = True\n",
    "global_products = True\n",
    "\n",
    "# select the band to run the ts on\n",
    "band='greenness' # other choices: ndfi, ndmi, mndwi, brightness, greenness, wetness\n",
    "\n",
    "# select the resolution to which the satellite data will be resized.\n",
    "scale=100  # in meters\n",
    "\n",
    "### DO NOT CHANGE YET ###\n",
    "satellite='Landsat'\n",
    "max_cloud_cover = 75  # in percentage (0-100)"
   ]
  },
  {
   "cell_type": "markdown",
   "id": "1d4dc5b2-3d18-429e-ae4a-5b16f677448a",
   "metadata": {},
   "source": [
    "### 3- Algorithm parameter settings\n",
    "\n",
    "**Edit for advanced users, otherwise just execute**"
   ]
  },
  {
   "cell_type": "code",
   "execution_count": 5,
   "id": "e8fe65b6-268e-418d-bab0-0837542a1ee1",
   "metadata": {},
   "outputs": [],
   "source": [
    "# bfast parameters\n",
    "bfast_params = {\n",
    "    'run': bfast_monitor,\n",
    "    'start_monitor': start_monitor, \n",
    "    'freq': 365,\n",
    "    'k': 3, \n",
    "    'hfrac':0.25, \n",
    "    'trend': True, \n",
    "    'level':0.05, \n",
    "    'backend':'python'}\n",
    "\n",
    "cusum_params = {\n",
    "    'run': cusum_deforest,\n",
    "    'nr_of_bootstraps': 1000\n",
    "}\n",
    "\n",
    "bs_slope_params = {\n",
    "    'run': bs_slope,\n",
    "    'nr_of_bootstraps': 1000\n",
    "}\n",
    "\n",
    "ts_metrics_params = {\n",
    "    'run': ts_metrics,\n",
    "    'outlier_removal': True,\n",
    "    'z_threshhold': 3\n",
    "}\n",
    "\n",
    "ccdc_params = {\n",
    "    'run': ccdc,\n",
    "}\n",
    "\n",
    "global_products = {\n",
    "    'run': global_products,\n",
    "}\n",
    "\n",
    "### DO NOT CHANGE ###\n",
    "### GATHER ALL INFO INTO A DICT #####\n",
    "config_dict = {\n",
    "    'work_dir': outdir,\n",
    "    'workers': workers,\n",
    "    'ts_params': {\n",
    "        'start_calibration': start_calibration,\n",
    "        'start_monitor': start_monitor,\n",
    "        'end_monitor': end_monitor,\n",
    "        'point_id': point_id_name,\n",
    "        'grid_size': grid_size,\n",
    "        'band': band,\n",
    "        'satellite': satellite,\n",
    "        'scale': scale,\n",
    "        'max_cc': max_cloud_cover\n",
    "    },\n",
    "    'bfast_params': bfast_params,\n",
    "    'cusum_params': cusum_params,\n",
    "    'bs_slope_params': bs_slope_params,\n",
    "    'ts_metrics_params': ts_metrics_params,\n",
    "    'ccdc_params': ccdc_params,\n",
    "    'global_products': global_products\n",
    "}"
   ]
  },
  {
   "cell_type": "markdown",
   "id": "2d5c28df-5381-413c-924d-23830b97b87e",
   "metadata": {},
   "source": [
    "### 4 - Run the time-series data extraction\n",
    "\n",
    "**Execute only**"
   ]
  },
  {
   "cell_type": "code",
   "execution_count": 6,
   "id": "01ccf187-bba1-4e1a-a493-d646f51b9fc3",
   "metadata": {
    "tags": []
   },
   "outputs": [
    {
     "name": "stdout",
     "output_type": "stream",
     "text": [
      " Parallelizing time-series extraction on 10 threads for a total of 4 grid cells.\n",
      " Grid cell 0 does not contain any points. Going on with next grid cell.\n",
      " Processing gridcell 3\n",
      " Processing gridcell 2\n",
      " Processing gridcell 1\n"
     ]
    },
    {
     "name": "stderr",
     "output_type": "stream",
     "text": [
      "2022-07-13 11:56:48.214123: E tensorflow/stream_executor/cuda/cuda_driver.cc:271] failed call to cuInit: CUDA_ERROR_NO_DEVICE: no CUDA-capable device is detected\n",
      "2022-07-13 11:56:48.214172: I tensorflow/stream_executor/cuda/cuda_diagnostics.cc:156] kernel driver does not appear to be running on this host (6440da3b7416): /proc/driver/nvidia/version does not exist\n",
      "2022-07-13 11:56:48.215384: I tensorflow/core/platform/cpu_feature_guard.cc:151] This TensorFlow binary is optimized with oneAPI Deep Neural Network Library (oneDNN) to use the following CPU instructions in performance-critical operations:  AVX2 FMA\n",
      "To enable them in other operations, rebuild TensorFlow with the appropriate compiler flags.\n"
     ]
    },
    {
     "name": "stdout",
     "output_type": "stream",
     "text": [
      " Grid cell 2 with 1 points done in: 0:02:13.623958\n",
      " Grid cell 3 with 4 points done in: 0:03:44.106797\n",
      " Grid cell 1 with 22 points done in: 0:04:30.627884\n"
     ]
    },
    {
     "name": "stderr",
     "output_type": "stream",
     "text": [
      "/home/vollrath/.local/lib/python3.8/site-packages/geopandas/io/file.py:362: FutureWarning: pandas.Int64Index is deprecated and will be removed from pandas in a future version. Use pandas.Index with the appropriate dtype instead.\n",
      "  pd.Int64Index,\n"
     ]
    },
    {
     "name": "stdout",
     "output_type": "stream",
     "text": [
      " Deleting temporary files\n",
      " Processing has been finished successfully. Check for final_results files in your output directory.\n"
     ]
    }
   ],
   "source": [
    "h.get_change_data(aoi, fc, config_dict)"
   ]
  }
 ],
 "metadata": {
  "kernelspec": {
   "display_name": "Python 3",
   "language": "python",
   "name": "python3"
  },
  "language_info": {
   "codemirror_mode": {
    "name": "ipython",
    "version": 3
   },
   "file_extension": ".py",
   "mimetype": "text/x-python",
   "name": "python",
   "nbconvert_exporter": "python",
   "pygments_lexer": "ipython3",
   "version": "3.8.10"
  }
 },
 "nbformat": 4,
 "nbformat_minor": 5
}
