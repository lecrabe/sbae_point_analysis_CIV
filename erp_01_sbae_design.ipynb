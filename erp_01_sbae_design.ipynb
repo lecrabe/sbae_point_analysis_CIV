{
 "cells": [
  {
   "cell_type": "markdown",
   "id": "d90d518a-4ebf-4e82-9f08-68b10676bba8",
   "metadata": {},
   "source": [
    "<font face=\"Calibri\" size=\"2\"> <i>SBAE - Notebook Series - Part I, version 0.1,  June 2022. Andreas Vollrath, UN-Food and Agricultural Organization, Rome</i>\n",
    "</font>"
   ]
  },
  {
   "cell_type": "markdown",
   "id": "fff4369c-dec3-43b8-b9a9-a4bb36b4bf48",
   "metadata": {},
   "source": [
    "![titre](images/header.png)\n",
    "\n",
    "# I - Plan d'échantillonnage SBAE\n",
    "### Création d'échantillons ponctuels pour analyse de séries\n",
    "-------\n",
    "\n",
    "L'estimation de surface basée sur un échantillon part d'un ensemble de points pour une zone d'intérêt (AOI) donnée. Il existe différentes manières de créer un ensemble de points, telles que :\n",
    "\n",
    "- systématique,\n",
    "- aléatoire systématique,\n",
    "- purement aléatoire ou\n",
    "- aléatoire stratifié.\n",
    "\n",
    "De plus, la distribution des points est définie par un certain type de géométrie sous-jacente. Il peut s'agir d'une géométrie régulière, appelée **grille** ou d'une **couche de strates** telle qu'une carte d'occupation du sol par exemple. Des grilles régulières peuvent être générées sous les formes suivantes :\n",
    "\n",
    "- Carrée\n",
    "- Triangulaire\n",
    "- Hexagonale\n",
    "\n",
    "Ce bloc-notes vous guide tout au long du processus de génération d'un tel ensemble de points d'échantillonnage avec les options mentionnées ci-dessus."
   ]
  },
  {
   "cell_type": "markdown",
   "id": "9f1f9d9a-8a0d-4d85-b134-f0bda3727152",
   "metadata": {},
   "source": [
    "### Importer les librairies\n",
    "\n",
    "*Execute only*"
   ]
  },
  {
   "cell_type": "code",
   "execution_count": 1,
   "id": "5082e851-cc51-4f47-8790-80ce88126726",
   "metadata": {},
   "outputs": [
    {
     "name": "stdout",
     "output_type": "stream",
     "text": [
      "Defaulting to user installation because normal site-packages is not writeable\n",
      "Requirement already satisfied: nrt in /home/sepal-user/.local/lib/python3.8/site-packages (0.1.0)\n",
      "Requirement already satisfied: seaborn in /home/sepal-user/.local/lib/python3.8/site-packages (0.12.0)\n",
      "Requirement already satisfied: retry in /home/sepal-user/.local/lib/python3.8/site-packages (0.9.2)\n",
      "Requirement already satisfied: sepal-ui==2.12.0 in /home/sepal-user/.local/lib/python3.8/site-packages (2.12.0)\n",
      "Requirement already satisfied: dggrid4py in /home/sepal-user/.local/lib/python3.8/site-packages (0.2.5)\n",
      "Requirement already satisfied: ipyvuetify in /usr/local/lib/python3.8/dist-packages (from sepal-ui==2.12.0) (1.8.2)\n",
      "Requirement already satisfied: haversine in /usr/local/lib/python3.8/dist-packages (from sepal-ui==2.12.0) (2.7.0)\n",
      "Requirement already satisfied: xyzservices in /usr/local/lib/python3.8/dist-packages (from sepal-ui==2.12.0) (2022.9.0)\n",
      "Requirement already satisfied: Unidecode in /usr/local/lib/python3.8/dist-packages (from sepal-ui==2.12.0) (1.3.6)\n",
      "Requirement already satisfied: pyyaml in /usr/local/lib/python3.8/dist-packages (from sepal-ui==2.12.0) (5.4.1)\n",
      "Requirement already satisfied: planet==2.0a2 in /usr/local/lib/python3.8/dist-packages (from sepal-ui==2.12.0) (2.0a2)\n",
      "Requirement already satisfied: pipreqs in /usr/local/lib/python3.8/dist-packages (from sepal-ui==2.12.0) (0.4.11)\n",
      "Requirement already satisfied: jupyter-server-proxy in /usr/local/lib/python3.8/dist-packages (from sepal-ui==2.12.0) (3.2.2)\n",
      "Requirement already satisfied: natsort in /usr/local/lib/python3.8/dist-packages (from sepal-ui==2.12.0) (8.2.0)\n",
      "Requirement already satisfied: deepdiff in /usr/local/lib/python3.8/dist-packages (from sepal-ui==2.12.0) (6.2.1)\n",
      "Requirement already satisfied: geopandas in /usr/local/lib/python3.8/dist-packages (from sepal-ui==2.12.0) (0.10.2)\n",
      "Requirement already satisfied: pandas in /usr/local/lib/python3.8/dist-packages (from sepal-ui==2.12.0) (1.5.1)\n",
      "Requirement already satisfied: colorama in /usr/lib/python3/dist-packages (from sepal-ui==2.12.0) (0.4.3)\n",
      "Requirement already satisfied: earthengine-api in /usr/local/lib/python3.8/dist-packages (from sepal-ui==2.12.0) (0.1.319)\n",
      "Requirement already satisfied: dask in /usr/local/lib/python3.8/dist-packages (from sepal-ui==2.12.0) (2022.10.0)\n",
      "Requirement already satisfied: rioxarray in /usr/local/lib/python3.8/dist-packages (from sepal-ui==2.12.0) (0.12.2)\n",
      "Requirement already satisfied: ipyleaflet>=0.14.0 in /usr/local/lib/python3.8/dist-packages (from sepal-ui==2.12.0) (0.17.2)\n",
      "Requirement already satisfied: werkzeug<2.2.0 in /usr/local/lib/python3.8/dist-packages (from sepal-ui==2.12.0) (2.1.2)\n",
      "Requirement already satisfied: Deprecated in /usr/local/lib/python3.8/dist-packages (from sepal-ui==2.12.0) (1.2.13)\n",
      "Requirement already satisfied: ipyvue>=1.7.0 in /usr/local/lib/python3.8/dist-packages (from sepal-ui==2.12.0) (1.8.0)\n",
      "Requirement already satisfied: cryptography in /usr/lib/python3/dist-packages (from sepal-ui==2.12.0) (2.8)\n",
      "Requirement already satisfied: tqdm in /usr/local/lib/python3.8/dist-packages (from sepal-ui==2.12.0) (4.64.1)\n",
      "Requirement already satisfied: matplotlib in /usr/lib/python3/dist-packages (from sepal-ui==2.12.0) (3.1.2)\n",
      "Requirement already satisfied: markdown in /usr/local/lib/python3.8/dist-packages (from sepal-ui==2.12.0) (3.4.1)\n",
      "Requirement already satisfied: python-box in /usr/local/lib/python3.8/dist-packages (from sepal-ui==2.12.0) (6.0.2)\n",
      "Requirement already satisfied: shapely in /usr/local/lib/python3.8/dist-packages (from sepal-ui==2.12.0) (1.8.5.post1)\n",
      "Requirement already satisfied: httpx==0.23.0 in /usr/local/lib/python3.8/dist-packages (from planet==2.0a2->sepal-ui==2.12.0) (0.23.0)\n",
      "Requirement already satisfied: click>=8.0.0 in /home/sepal-user/.local/lib/python3.8/site-packages (from planet==2.0a2->sepal-ui==2.12.0) (8.1.3)\n",
      "Requirement already satisfied: geojson in /home/sepal-user/.local/lib/python3.8/site-packages (from planet==2.0a2->sepal-ui==2.12.0) (2.5.0)\n",
      "Requirement already satisfied: pyjwt>=2.1 in /usr/local/lib/python3.8/dist-packages (from planet==2.0a2->sepal-ui==2.12.0) (2.6.0)\n",
      "Requirement already satisfied: jsonschema in /usr/local/lib/python3.8/dist-packages (from planet==2.0a2->sepal-ui==2.12.0) (4.16.0)\n",
      "Requirement already satisfied: httpcore<0.16.0,>=0.15.0 in /usr/local/lib/python3.8/dist-packages (from httpx==0.23.0->planet==2.0a2->sepal-ui==2.12.0) (0.15.0)\n",
      "Requirement already satisfied: rfc3986[idna2008]<2,>=1.3 in /usr/local/lib/python3.8/dist-packages (from httpx==0.23.0->planet==2.0a2->sepal-ui==2.12.0) (1.5.0)\n",
      "Requirement already satisfied: certifi in /usr/lib/python3/dist-packages (from httpx==0.23.0->planet==2.0a2->sepal-ui==2.12.0) (2019.11.28)\n",
      "Requirement already satisfied: sniffio in /usr/local/lib/python3.8/dist-packages (from httpx==0.23.0->planet==2.0a2->sepal-ui==2.12.0) (1.3.0)\n",
      "Requirement already satisfied: xarray in /usr/local/lib/python3.8/dist-packages (from nrt) (2022.10.0)\n",
      "Requirement already satisfied: numba in /usr/local/lib/python3.8/dist-packages (from nrt) (0.56.3)\n",
      "Requirement already satisfied: numpy in /usr/local/lib/python3.8/dist-packages (from nrt) (1.23.4)\n",
      "Requirement already satisfied: scipy in /usr/local/lib/python3.8/dist-packages (from nrt) (1.9.3)\n",
      "Requirement already satisfied: rasterio in /usr/lib/python3/dist-packages (from nrt) (1.2.10)\n",
      "Requirement already satisfied: affine in /usr/lib/python3/dist-packages (from nrt) (2.3.0)\n",
      "Requirement already satisfied: netCDF4 in /usr/local/lib/python3.8/dist-packages (from nrt) (1.6.1)\n",
      "Requirement already satisfied: decorator>=3.4.2 in /usr/lib/python3/dist-packages (from retry) (4.4.2)\n",
      "Requirement already satisfied: py<2.0.0,>=1.4.26 in /usr/lib/python3/dist-packages (from retry) (1.8.1)\n",
      "Requirement already satisfied: fiona in /usr/local/lib/python3.8/dist-packages (from dggrid4py) (1.8.22)\n",
      "Requirement already satisfied: branca>=0.5.0 in /usr/local/lib/python3.8/dist-packages (from ipyleaflet>=0.14.0->sepal-ui==2.12.0) (0.5.0)\n",
      "Requirement already satisfied: traittypes<3,>=0.2.1 in /usr/local/lib/python3.8/dist-packages (from ipyleaflet>=0.14.0->sepal-ui==2.12.0) (0.2.1)\n",
      "Requirement already satisfied: ipywidgets<9,>=7.6.0 in /usr/local/lib/python3.8/dist-packages (from ipyleaflet>=0.14.0->sepal-ui==2.12.0) (7.7.2)\n",
      "Requirement already satisfied: pytz>=2020.1 in /usr/local/lib/python3.8/dist-packages (from pandas->sepal-ui==2.12.0) (2022.5)\n",
      "Requirement already satisfied: python-dateutil>=2.8.1 in /usr/local/lib/python3.8/dist-packages (from pandas->sepal-ui==2.12.0) (2.8.2)\n",
      "Requirement already satisfied: partd>=0.3.10 in /usr/local/lib/python3.8/dist-packages (from dask->sepal-ui==2.12.0) (1.3.0)\n",
      "Requirement already satisfied: cloudpickle>=1.1.1 in /usr/local/lib/python3.8/dist-packages (from dask->sepal-ui==2.12.0) (2.2.0)\n",
      "Requirement already satisfied: toolz>=0.8.2 in /usr/local/lib/python3.8/dist-packages (from dask->sepal-ui==2.12.0) (0.12.0)\n",
      "Requirement already satisfied: fsspec>=0.6.0 in /usr/local/lib/python3.8/dist-packages (from dask->sepal-ui==2.12.0) (2022.10.0)\n",
      "Requirement already satisfied: packaging>=20.0 in /usr/local/lib/python3.8/dist-packages (from dask->sepal-ui==2.12.0) (21.3)\n",
      "Requirement already satisfied: ordered-set<4.2.0,>=4.0.2 in /usr/local/lib/python3.8/dist-packages (from deepdiff->sepal-ui==2.12.0) (4.1.0)\n",
      "Requirement already satisfied: wrapt<2,>=1.10 in /usr/local/lib/python3.8/dist-packages (from Deprecated->sepal-ui==2.12.0) (1.14.1)\n",
      "Requirement already satisfied: six in /usr/lib/python3/dist-packages (from earthengine-api->sepal-ui==2.12.0) (1.14.0)\n",
      "Requirement already satisfied: google-cloud-storage in /usr/local/lib/python3.8/dist-packages (from earthengine-api->sepal-ui==2.12.0) (2.5.0)\n",
      "Requirement already satisfied: google-auth-httplib2>=0.0.3 in /usr/local/lib/python3.8/dist-packages (from earthengine-api->sepal-ui==2.12.0) (0.1.0)\n",
      "Requirement already satisfied: google-auth>=1.4.1 in /usr/local/lib/python3.8/dist-packages (from earthengine-api->sepal-ui==2.12.0) (2.13.0)\n",
      "Requirement already satisfied: google-api-python-client<2,>=1.12.1 in /usr/local/lib/python3.8/dist-packages (from earthengine-api->sepal-ui==2.12.0) (1.12.8)\n",
      "Requirement already satisfied: future in /usr/local/lib/python3.8/dist-packages (from earthengine-api->sepal-ui==2.12.0) (0.18.2)\n",
      "Requirement already satisfied: httplib2<1dev,>=0.9.2 in /usr/local/lib/python3.8/dist-packages (from earthengine-api->sepal-ui==2.12.0) (0.20.4)\n",
      "Requirement already satisfied: httplib2shim in /usr/local/lib/python3.8/dist-packages (from earthengine-api->sepal-ui==2.12.0) (0.0.3)\n",
      "Requirement already satisfied: cligj>=0.5 in /usr/lib/python3/dist-packages (from fiona->dggrid4py) (0.5.0)\n",
      "Requirement already satisfied: attrs>=17 in /usr/lib/python3/dist-packages (from fiona->dggrid4py) (19.3.0)\n",
      "Requirement already satisfied: setuptools in /usr/lib/python3/dist-packages (from fiona->dggrid4py) (45.2.0)\n",
      "Requirement already satisfied: click-plugins>=1.0 in /usr/lib/python3/dist-packages (from fiona->dggrid4py) (1.1.1)\n",
      "Requirement already satisfied: munch in /usr/local/lib/python3.8/dist-packages (from fiona->dggrid4py) (2.5.0)\n",
      "Requirement already satisfied: pyproj>=2.2.0 in /usr/local/lib/python3.8/dist-packages (from geopandas->sepal-ui==2.12.0) (2.6.1)\n",
      "Requirement already satisfied: aiohttp in /usr/local/lib/python3.8/dist-packages (from jupyter-server-proxy->sepal-ui==2.12.0) (3.8.3)\n",
      "Requirement already satisfied: jupyter-server>=1.0 in /usr/local/lib/python3.8/dist-packages (from jupyter-server-proxy->sepal-ui==2.12.0) (1.21.0)\n",
      "Requirement already satisfied: simpervisor>=0.4 in /usr/local/lib/python3.8/dist-packages (from jupyter-server-proxy->sepal-ui==2.12.0) (0.4)\n",
      "Requirement already satisfied: importlib-metadata>=4.4 in /usr/local/lib/python3.8/dist-packages (from markdown->sepal-ui==2.12.0) (5.0.0)\n",
      "Requirement already satisfied: cftime in /usr/local/lib/python3.8/dist-packages (from netCDF4->nrt) (1.6.2)\n",
      "Requirement already satisfied: llvmlite<0.40,>=0.39.0dev0 in /usr/local/lib/python3.8/dist-packages (from numba->nrt) (0.39.1)\n",
      "Requirement already satisfied: docopt in /usr/local/lib/python3.8/dist-packages (from pipreqs->sepal-ui==2.12.0) (0.6.2)\n",
      "Requirement already satisfied: yarg in /usr/local/lib/python3.8/dist-packages (from pipreqs->sepal-ui==2.12.0) (0.1.9)\n",
      "Requirement already satisfied: jinja2 in /usr/local/lib/python3.8/dist-packages (from branca>=0.5.0->ipyleaflet>=0.14.0->sepal-ui==2.12.0) (3.0.3)\n",
      "Requirement already satisfied: uritemplate<4dev,>=3.0.0 in /usr/local/lib/python3.8/dist-packages (from google-api-python-client<2,>=1.12.1->earthengine-api->sepal-ui==2.12.0) (3.0.1)\n",
      "Requirement already satisfied: google-api-core<2dev,>=1.21.0 in /usr/local/lib/python3.8/dist-packages (from google-api-python-client<2,>=1.12.1->earthengine-api->sepal-ui==2.12.0) (1.33.2)\n",
      "Requirement already satisfied: pyasn1-modules>=0.2.1 in /usr/local/lib/python3.8/dist-packages (from google-auth>=1.4.1->earthengine-api->sepal-ui==2.12.0) (0.2.8)\n",
      "Requirement already satisfied: rsa<5,>=3.1.4 in /usr/local/lib/python3.8/dist-packages (from google-auth>=1.4.1->earthengine-api->sepal-ui==2.12.0) (4.7.2)\n",
      "Requirement already satisfied: cachetools<6.0,>=2.0.0 in /usr/local/lib/python3.8/dist-packages (from google-auth>=1.4.1->earthengine-api->sepal-ui==2.12.0) (5.2.0)\n",
      "Requirement already satisfied: pyparsing!=3.0.0,!=3.0.1,!=3.0.2,!=3.0.3,<4,>=2.4.2 in /usr/lib/python3/dist-packages (from httplib2<1dev,>=0.9.2->earthengine-api->sepal-ui==2.12.0) (2.4.6)\n",
      "Requirement already satisfied: zipp>=0.5 in /usr/local/lib/python3.8/dist-packages (from importlib-metadata>=4.4->markdown->sepal-ui==2.12.0) (3.9.0)\n",
      "Requirement already satisfied: ipython-genutils~=0.2.0 in /usr/local/lib/python3.8/dist-packages (from ipywidgets<9,>=7.6.0->ipyleaflet>=0.14.0->sepal-ui==2.12.0) (0.2.0)\n",
      "Requirement already satisfied: ipython>=4.0.0 in /usr/local/lib/python3.8/dist-packages (from ipywidgets<9,>=7.6.0->ipyleaflet>=0.14.0->sepal-ui==2.12.0) (8.5.0)\n",
      "Requirement already satisfied: widgetsnbextension~=3.6.0 in /usr/local/lib/python3.8/dist-packages (from ipywidgets<9,>=7.6.0->ipyleaflet>=0.14.0->sepal-ui==2.12.0) (3.6.1)\n",
      "Requirement already satisfied: traitlets>=4.3.1 in /usr/local/lib/python3.8/dist-packages (from ipywidgets<9,>=7.6.0->ipyleaflet>=0.14.0->sepal-ui==2.12.0) (5.5.0)\n",
      "Requirement already satisfied: ipykernel>=4.5.1 in /usr/local/lib/python3.8/dist-packages (from ipywidgets<9,>=7.6.0->ipyleaflet>=0.14.0->sepal-ui==2.12.0) (6.16.1)\n",
      "Requirement already satisfied: jupyterlab-widgets<3,>=1.0.0 in /usr/local/lib/python3.8/dist-packages (from ipywidgets<9,>=7.6.0->ipyleaflet>=0.14.0->sepal-ui==2.12.0) (1.1.1)\n",
      "Requirement already satisfied: websocket-client in /usr/local/lib/python3.8/dist-packages (from jupyter-server>=1.0->jupyter-server-proxy->sepal-ui==2.12.0) (1.4.1)\n",
      "Requirement already satisfied: Send2Trash in /usr/local/lib/python3.8/dist-packages (from jupyter-server>=1.0->jupyter-server-proxy->sepal-ui==2.12.0) (1.8.0)\n",
      "Requirement already satisfied: anyio<4,>=3.1.0 in /usr/local/lib/python3.8/dist-packages (from jupyter-server>=1.0->jupyter-server-proxy->sepal-ui==2.12.0) (3.6.2)\n",
      "Requirement already satisfied: argon2-cffi in /usr/local/lib/python3.8/dist-packages (from jupyter-server>=1.0->jupyter-server-proxy->sepal-ui==2.12.0) (21.3.0)\n",
      "Requirement already satisfied: prometheus-client in /usr/local/lib/python3.8/dist-packages (from jupyter-server>=1.0->jupyter-server-proxy->sepal-ui==2.12.0) (0.15.0)\n",
      "Requirement already satisfied: jupyter-core>=4.7.0 in /usr/local/lib/python3.8/dist-packages (from jupyter-server>=1.0->jupyter-server-proxy->sepal-ui==2.12.0) (4.11.2)\n",
      "Requirement already satisfied: tornado>=6.1.0 in /usr/local/lib/python3.8/dist-packages (from jupyter-server>=1.0->jupyter-server-proxy->sepal-ui==2.12.0) (6.1)\n",
      "Requirement already satisfied: nbconvert>=6.4.4 in /usr/local/lib/python3.8/dist-packages (from jupyter-server>=1.0->jupyter-server-proxy->sepal-ui==2.12.0) (6.5.4)\n",
      "Requirement already satisfied: pyzmq>=17 in /usr/local/lib/python3.8/dist-packages (from jupyter-server>=1.0->jupyter-server-proxy->sepal-ui==2.12.0) (24.0.1)\n",
      "Requirement already satisfied: jupyter-client>=6.1.12 in /usr/local/lib/python3.8/dist-packages (from jupyter-server>=1.0->jupyter-server-proxy->sepal-ui==2.12.0) (7.3.4)\n",
      "Requirement already satisfied: nbformat>=5.2.0 in /usr/local/lib/python3.8/dist-packages (from jupyter-server>=1.0->jupyter-server-proxy->sepal-ui==2.12.0) (5.7.0)\n",
      "Requirement already satisfied: terminado>=0.8.3 in /usr/local/lib/python3.8/dist-packages (from jupyter-server>=1.0->jupyter-server-proxy->sepal-ui==2.12.0) (0.16.0)\n",
      "Requirement already satisfied: locket in /usr/local/lib/python3.8/dist-packages (from partd>=0.3.10->dask->sepal-ui==2.12.0) (1.0.0)\n",
      "Requirement already satisfied: async-timeout<5.0,>=4.0.0a3 in /usr/local/lib/python3.8/dist-packages (from aiohttp->jupyter-server-proxy->sepal-ui==2.12.0) (4.0.2)\n",
      "Requirement already satisfied: frozenlist>=1.1.1 in /usr/local/lib/python3.8/dist-packages (from aiohttp->jupyter-server-proxy->sepal-ui==2.12.0) (1.3.1)\n",
      "Requirement already satisfied: yarl<2.0,>=1.0 in /usr/local/lib/python3.8/dist-packages (from aiohttp->jupyter-server-proxy->sepal-ui==2.12.0) (1.8.1)\n",
      "Requirement already satisfied: charset-normalizer<3.0,>=2.0 in /usr/local/lib/python3.8/dist-packages (from aiohttp->jupyter-server-proxy->sepal-ui==2.12.0) (2.1.1)\n",
      "Requirement already satisfied: multidict<7.0,>=4.5 in /usr/local/lib/python3.8/dist-packages (from aiohttp->jupyter-server-proxy->sepal-ui==2.12.0) (6.0.2)\n",
      "Requirement already satisfied: aiosignal>=1.1.2 in /usr/local/lib/python3.8/dist-packages (from aiohttp->jupyter-server-proxy->sepal-ui==2.12.0) (1.2.0)\n",
      "Requirement already satisfied: google-resumable-media>=2.3.2 in /usr/local/lib/python3.8/dist-packages (from google-cloud-storage->earthengine-api->sepal-ui==2.12.0) (2.4.0)\n",
      "Requirement already satisfied: google-cloud-core<3.0dev,>=2.3.0 in /usr/local/lib/python3.8/dist-packages (from google-cloud-storage->earthengine-api->sepal-ui==2.12.0) (2.3.2)\n",
      "Requirement already satisfied: requests<3.0.0dev,>=2.18.0 in /usr/lib/python3/dist-packages (from google-cloud-storage->earthengine-api->sepal-ui==2.12.0) (2.22.0)\n",
      "Requirement already satisfied: urllib3 in /usr/lib/python3/dist-packages (from httplib2shim->earthengine-api->sepal-ui==2.12.0) (1.25.8)\n",
      "Requirement already satisfied: importlib-resources>=1.4.0 in /usr/local/lib/python3.8/dist-packages (from jsonschema->planet==2.0a2->sepal-ui==2.12.0) (5.10.0)\n",
      "Requirement already satisfied: pkgutil-resolve-name>=1.3.10 in /usr/local/lib/python3.8/dist-packages (from jsonschema->planet==2.0a2->sepal-ui==2.12.0) (1.3.10)\n",
      "Requirement already satisfied: pyrsistent!=0.17.0,!=0.17.1,!=0.17.2,>=0.14.0 in /usr/local/lib/python3.8/dist-packages (from jsonschema->planet==2.0a2->sepal-ui==2.12.0) (0.18.1)\n",
      "Requirement already satisfied: idna>=2.8 in /usr/lib/python3/dist-packages (from anyio<4,>=3.1.0->jupyter-server>=1.0->jupyter-server-proxy->sepal-ui==2.12.0) (2.8)\n",
      "Requirement already satisfied: googleapis-common-protos<2.0dev,>=1.56.2 in /usr/local/lib/python3.8/dist-packages (from google-api-core<2dev,>=1.21.0->google-api-python-client<2,>=1.12.1->earthengine-api->sepal-ui==2.12.0) (1.56.4)\n",
      "Requirement already satisfied: protobuf!=3.20.0,!=3.20.1,!=4.21.0,!=4.21.1,!=4.21.2,!=4.21.3,!=4.21.4,!=4.21.5,<4.0.0dev,>=3.19.5 in /usr/local/lib/python3.8/dist-packages (from google-api-core<2dev,>=1.21.0->google-api-python-client<2,>=1.12.1->earthengine-api->sepal-ui==2.12.0) (3.19.6)\n",
      "Requirement already satisfied: google-crc32c<2.0dev,>=1.0 in /usr/local/lib/python3.8/dist-packages (from google-resumable-media>=2.3.2->google-cloud-storage->earthengine-api->sepal-ui==2.12.0) (1.5.0)\n",
      "Requirement already satisfied: h11<0.13,>=0.11 in /usr/local/lib/python3.8/dist-packages (from httpcore<0.16.0,>=0.15.0->httpx==0.23.0->planet==2.0a2->sepal-ui==2.12.0) (0.12.0)\n",
      "Requirement already satisfied: psutil in /usr/lib/python3/dist-packages (from ipykernel>=4.5.1->ipywidgets<9,>=7.6.0->ipyleaflet>=0.14.0->sepal-ui==2.12.0) (5.5.1)\n",
      "Requirement already satisfied: matplotlib-inline>=0.1 in /usr/local/lib/python3.8/dist-packages (from ipykernel>=4.5.1->ipywidgets<9,>=7.6.0->ipyleaflet>=0.14.0->sepal-ui==2.12.0) (0.1.6)\n",
      "Requirement already satisfied: debugpy>=1.0 in /usr/local/lib/python3.8/dist-packages (from ipykernel>=4.5.1->ipywidgets<9,>=7.6.0->ipyleaflet>=0.14.0->sepal-ui==2.12.0) (1.6.3)\n",
      "Requirement already satisfied: nest-asyncio in /usr/local/lib/python3.8/dist-packages (from ipykernel>=4.5.1->ipywidgets<9,>=7.6.0->ipyleaflet>=0.14.0->sepal-ui==2.12.0) (1.5.6)\n",
      "Requirement already satisfied: pickleshare in /usr/local/lib/python3.8/dist-packages (from ipython>=4.0.0->ipywidgets<9,>=7.6.0->ipyleaflet>=0.14.0->sepal-ui==2.12.0) (0.7.5)\n",
      "Requirement already satisfied: prompt-toolkit<3.1.0,>3.0.1 in /usr/local/lib/python3.8/dist-packages (from ipython>=4.0.0->ipywidgets<9,>=7.6.0->ipyleaflet>=0.14.0->sepal-ui==2.12.0) (3.0.31)\n",
      "Requirement already satisfied: stack-data in /usr/local/lib/python3.8/dist-packages (from ipython>=4.0.0->ipywidgets<9,>=7.6.0->ipyleaflet>=0.14.0->sepal-ui==2.12.0) (0.5.1)\n",
      "Requirement already satisfied: pexpect>4.3 in /usr/local/lib/python3.8/dist-packages (from ipython>=4.0.0->ipywidgets<9,>=7.6.0->ipyleaflet>=0.14.0->sepal-ui==2.12.0) (4.8.0)\n",
      "Requirement already satisfied: backcall in /usr/local/lib/python3.8/dist-packages (from ipython>=4.0.0->ipywidgets<9,>=7.6.0->ipyleaflet>=0.14.0->sepal-ui==2.12.0) (0.2.0)\n",
      "Requirement already satisfied: pygments>=2.4.0 in /usr/local/lib/python3.8/dist-packages (from ipython>=4.0.0->ipywidgets<9,>=7.6.0->ipyleaflet>=0.14.0->sepal-ui==2.12.0) (2.13.0)\n",
      "Requirement already satisfied: jedi>=0.16 in /usr/local/lib/python3.8/dist-packages (from ipython>=4.0.0->ipywidgets<9,>=7.6.0->ipyleaflet>=0.14.0->sepal-ui==2.12.0) (0.18.1)\n",
      "Requirement already satisfied: entrypoints in /usr/lib/python3/dist-packages (from jupyter-client>=6.1.12->jupyter-server>=1.0->jupyter-server-proxy->sepal-ui==2.12.0) (0.3)\n",
      "Requirement already satisfied: mistune<2,>=0.8.1 in /usr/local/lib/python3.8/dist-packages (from nbconvert>=6.4.4->jupyter-server>=1.0->jupyter-server-proxy->sepal-ui==2.12.0) (0.8.4)\n",
      "Requirement already satisfied: MarkupSafe>=2.0 in /usr/local/lib/python3.8/dist-packages (from nbconvert>=6.4.4->jupyter-server>=1.0->jupyter-server-proxy->sepal-ui==2.12.0) (2.1.1)\n",
      "Requirement already satisfied: nbclient>=0.5.0 in /usr/local/lib/python3.8/dist-packages (from nbconvert>=6.4.4->jupyter-server>=1.0->jupyter-server-proxy->sepal-ui==2.12.0) (0.5.13)\n",
      "Requirement already satisfied: defusedxml in /usr/local/lib/python3.8/dist-packages (from nbconvert>=6.4.4->jupyter-server>=1.0->jupyter-server-proxy->sepal-ui==2.12.0) (0.7.1)\n",
      "Requirement already satisfied: tinycss2 in /usr/local/lib/python3.8/dist-packages (from nbconvert>=6.4.4->jupyter-server>=1.0->jupyter-server-proxy->sepal-ui==2.12.0) (1.2.1)\n",
      "Requirement already satisfied: beautifulsoup4 in /usr/local/lib/python3.8/dist-packages (from nbconvert>=6.4.4->jupyter-server>=1.0->jupyter-server-proxy->sepal-ui==2.12.0) (4.11.1)\n",
      "Requirement already satisfied: pandocfilters>=1.4.1 in /usr/local/lib/python3.8/dist-packages (from nbconvert>=6.4.4->jupyter-server>=1.0->jupyter-server-proxy->sepal-ui==2.12.0) (1.5.0)\n",
      "Requirement already satisfied: lxml in /usr/lib/python3/dist-packages (from nbconvert>=6.4.4->jupyter-server>=1.0->jupyter-server-proxy->sepal-ui==2.12.0) (4.5.0)\n",
      "Requirement already satisfied: bleach in /usr/local/lib/python3.8/dist-packages (from nbconvert>=6.4.4->jupyter-server>=1.0->jupyter-server-proxy->sepal-ui==2.12.0) (5.0.1)\n",
      "Requirement already satisfied: jupyterlab-pygments in /usr/local/lib/python3.8/dist-packages (from nbconvert>=6.4.4->jupyter-server>=1.0->jupyter-server-proxy->sepal-ui==2.12.0) (0.2.2)\n",
      "Requirement already satisfied: fastjsonschema in /usr/local/lib/python3.8/dist-packages (from nbformat>=5.2.0->jupyter-server>=1.0->jupyter-server-proxy->sepal-ui==2.12.0) (2.16.2)\n",
      "Requirement already satisfied: pyasn1<0.5.0,>=0.4.6 in /usr/local/lib/python3.8/dist-packages (from pyasn1-modules>=0.2.1->google-auth>=1.4.1->earthengine-api->sepal-ui==2.12.0) (0.4.8)\n",
      "Requirement already satisfied: ptyprocess in /usr/local/lib/python3.8/dist-packages (from terminado>=0.8.3->jupyter-server>=1.0->jupyter-server-proxy->sepal-ui==2.12.0) (0.7.0)\n",
      "Requirement already satisfied: notebook>=4.4.1 in /usr/local/lib/python3.8/dist-packages (from widgetsnbextension~=3.6.0->ipywidgets<9,>=7.6.0->ipyleaflet>=0.14.0->sepal-ui==2.12.0) (6.5.1)\n",
      "Requirement already satisfied: argon2-cffi-bindings in /usr/local/lib/python3.8/dist-packages (from argon2-cffi->jupyter-server>=1.0->jupyter-server-proxy->sepal-ui==2.12.0) (21.2.0)\n",
      "Requirement already satisfied: parso<0.9.0,>=0.8.0 in /usr/local/lib/python3.8/dist-packages (from jedi>=0.16->ipython>=4.0.0->ipywidgets<9,>=7.6.0->ipyleaflet>=0.14.0->sepal-ui==2.12.0) (0.8.3)\n",
      "Requirement already satisfied: nbclassic==0.4.5 in /usr/local/lib/python3.8/dist-packages (from notebook>=4.4.1->widgetsnbextension~=3.6.0->ipywidgets<9,>=7.6.0->ipyleaflet>=0.14.0->sepal-ui==2.12.0) (0.4.5)\n",
      "Requirement already satisfied: notebook-shim>=0.1.0 in /usr/local/lib/python3.8/dist-packages (from nbclassic==0.4.5->notebook>=4.4.1->widgetsnbextension~=3.6.0->ipywidgets<9,>=7.6.0->ipyleaflet>=0.14.0->sepal-ui==2.12.0) (0.2.0)\n",
      "Requirement already satisfied: wcwidth in /usr/lib/python3/dist-packages (from prompt-toolkit<3.1.0,>3.0.1->ipython>=4.0.0->ipywidgets<9,>=7.6.0->ipyleaflet>=0.14.0->sepal-ui==2.12.0) (0.1.8)\n",
      "Requirement already satisfied: cffi>=1.0.1 in /usr/local/lib/python3.8/dist-packages (from argon2-cffi-bindings->argon2-cffi->jupyter-server>=1.0->jupyter-server-proxy->sepal-ui==2.12.0) (1.15.1)\n",
      "Requirement already satisfied: soupsieve>1.2 in /usr/lib/python3/dist-packages (from beautifulsoup4->nbconvert>=6.4.4->jupyter-server>=1.0->jupyter-server-proxy->sepal-ui==2.12.0) (1.9.5)\n",
      "Requirement already satisfied: webencodings in /usr/lib/python3/dist-packages (from bleach->nbconvert>=6.4.4->jupyter-server>=1.0->jupyter-server-proxy->sepal-ui==2.12.0) (0.5.1)\n",
      "Requirement already satisfied: executing in /usr/local/lib/python3.8/dist-packages (from stack-data->ipython>=4.0.0->ipywidgets<9,>=7.6.0->ipyleaflet>=0.14.0->sepal-ui==2.12.0) (1.1.1)\n",
      "Requirement already satisfied: asttokens in /usr/local/lib/python3.8/dist-packages (from stack-data->ipython>=4.0.0->ipywidgets<9,>=7.6.0->ipyleaflet>=0.14.0->sepal-ui==2.12.0) (2.0.8)\n",
      "Requirement already satisfied: pure-eval in /usr/local/lib/python3.8/dist-packages (from stack-data->ipython>=4.0.0->ipywidgets<9,>=7.6.0->ipyleaflet>=0.14.0->sepal-ui==2.12.0) (0.2.2)\n",
      "Requirement already satisfied: pycparser in /usr/local/lib/python3.8/dist-packages (from cffi>=1.0.1->argon2-cffi-bindings->argon2-cffi->jupyter-server>=1.0->jupyter-server-proxy->sepal-ui==2.12.0) (2.21)\n",
      "\n",
      "\u001b[1m[\u001b[0m\u001b[34;49mnotice\u001b[0m\u001b[1;39;49m]\u001b[0m\u001b[39;49m A new release of pip available: \u001b[0m\u001b[31;49m22.3\u001b[0m\u001b[39;49m -> \u001b[0m\u001b[32;49m22.3.1\u001b[0m\n",
      "\u001b[1m[\u001b[0m\u001b[34;49mnotice\u001b[0m\u001b[1;39;49m]\u001b[0m\u001b[39;49m To update, run: \u001b[0m\u001b[32;49mpip install --upgrade pip\u001b[0m\n"
     ]
    }
   ],
   "source": [
    "#La première fois, faire tourner cette cellule pour installer les packages manquants\n",
    "!pip install nrt seaborn retry sepal-ui==2.12.0 dggrid4py"
   ]
  },
  {
   "cell_type": "code",
   "execution_count": 5,
   "id": "a75e78de-8687-4632-8586-9ca964b31045",
   "metadata": {},
   "outputs": [],
   "source": [
    "import time\n",
    "from datetime import datetime as dt\n",
    "import matplotlib.pyplot as plt\n",
    "\n",
    "import ee\n",
    "import geemap\n",
    "import geopandas as gpd\n",
    "from sepal_ui.mapping import SepalMap\n",
    "\n",
    "# initialize EE    \n",
    "try:\n",
    "    ee.Initialize()\n",
    "except:\n",
    "    ee.Authenticate()\n",
    "    ee.Initialize()\n",
    "\n",
    "import helpers as h"
   ]
  },
  {
   "cell_type": "markdown",
   "id": "23c04e79-5bfe-48d9-8412-c17707d7c5e9",
   "metadata": {},
   "source": [
    "### 1 - Créer des points d'échantillonnage (semi-) réguliers basés sur des cellules de grille carrées\n",
    "\n",
    "\n",
    "##### ***Introduction***\n",
    "Dans cette partie, nous aborderons la création de points d'échantillonnage **systématique** et **systématique aléatoire**.\n",
    "La routine sous-jacente créera une **grille régulière** d'une taille donnée sur l'AOI donnée.\n",
    "\n",
    "Sur cette base, il existe 2 options pour créer une couche de points, c'est-à-dire en utilisant le point central de chaque cellule de la grille ou en utilisant un seul emplacement aléatoire dans chaque cellule de la grille.\n",
    "\n",
    "Lors de la création d'échantillons, une considération importante est la projection utilisée. Les projections présentent toujours des distorsions par rapport à la forme sphérique réelle de la Terre. Comme notre objectif est de donner à chaque échantillon le même poids en termes de représentativité de surface, nous sélectionnerons une projection optimisée pour **surface égale**. Dans le tableau ci-dessous, vous trouverez quelques exemples de projections globales à surface égale parmi lesquelles choisir. Les informations sont tirées d'un article de Yildrim & Kaya 2008 et peuvent être trouvées [ici](https://www.ncbi.nlm.nih.gov/pmc/articles/PMC3790990/#:~:text=The%20level%20of%20distortion%20can,compared%20to%20equal%2Darea%20maps). **Notez** que la projection Lat/Lon couramment utilisée (EPSG:4326) **ne** contient pas de distorsions qui doivent être évitées.\n",
    "\n",
    "| **Projection** | **Code** |\n",
    "| ------------- |----------------|\n",
    "| Behrmann | ESRI :54017 |\n",
    "| Bonne | ESRI :54024 |\n",
    "| Sinusoïdal | ESRI :54008 |"
   ]
  },
  {
   "cell_type": "markdown",
   "id": "5823fb25-9996-4041-81ce-f2af8ad6fc55",
   "metadata": {},
   "source": [
    "#### 1.1 - Définir les variables d'entrée\n",
    "\n",
    "4 variables d'entrée doivent être sélectionnées :\n",
    "\n",
    "- Projection (comme code epsg/esri)\n",
    "- AOI (soit en tant que nom de pays, Earth Engine Feature Collection, ou fichier vectoriel lisible par géopandas, c'est-à-dire shapefile, géopackage, geojson, etc.)\n",
    "- Taille de la grille (longueur de 1 bordure de la cellule de grille carrée)\n",
    "- Stratégie d'échantillonnage (soit aléatoire pour aléatoire systématique, soit systématique)"
   ]
  },
  {
   "cell_type": "code",
   "execution_count": 3,
   "id": "a523ff47-faae-42c2-af9f-ea2fbb3d6fc2",
   "metadata": {},
   "outputs": [],
   "source": [
    "# Define the projection to create the grid\n",
    "projection = 'ESRI:54008'    # Behrmanns equal area\n",
    "\n",
    "# Define the Area of Interest \n",
    "# Example Country case, using FAO's GAUL boundaries\n",
    "# country = 'Côte d'Ivoire'   \n",
    "# aoi = ee.FeatureCollection(\"FAO/GAUL/2015/level0\").filter(ee.Filter.eq('ADM0_NAME', country)) # here any feature collection can be selected\n",
    "\n",
    "# Example using a shapefile (uncomment and adapt path)\n",
    "aoi_all = gpd.read_file('/home/sepal-user/sbae_point_analysis_CIV/inputs/zae_dissolve_buffer1k.gpkg')\n",
    "aoi_sel = gpd.read_file('/home/sepal-user/sbae_point_analysis_CIV/inputs/erp_geo.gpkg')\n",
    "\n",
    "#aoi_sel = aoi_sel.set_crs(4326)\n",
    "\n",
    "# Define the \n",
    "grid_size = 5000 # in metres\n",
    "sampling_strategy = 'systematic' # either 'random' or 'systematic'"
   ]
  },
  {
   "cell_type": "markdown",
   "id": "79717889-63f4-4ceb-bc40-8d763e1aa808",
   "metadata": {},
   "source": [
    "#### 1.2 - Créer la grille et les points d'échantillonnage"
   ]
  },
  {
   "cell_type": "code",
   "execution_count": null,
   "id": "bf78968a-12a9-4cbb-be6e-ab3f8cf8537a",
   "metadata": {},
   "outputs": [],
   "source": [
    "# Créer une grille à l'echelle nationale (14' pour toute Cote d'Ivoire à 1km, 2' pour ERP à 5km)\n",
    "squared_grid_cells, squared_samples_gdf = h.squared_grid(aoi_sel, grid_size, projection, sampling_strategy)\n",
    "\n",
    "#squared_grid_cells, squared_samples_gdf = h.squared_grid(aoi_all, grid_size, projection, sampling_strategy)\n",
    "#squared_samples_gdf = gpd.read_file('/home/dannunzio/sbae_point_analysis/results_square/01_sbae_points.gpkg')"
   ]
  },
  {
   "cell_type": "code",
   "execution_count": null,
   "id": "708111d1-ea6b-4913-953b-fb75c3c95743",
   "metadata": {},
   "outputs": [],
   "source": [
    "## Selectionner seulement les points dans la zone ERP\n",
    "aoi_geom                = aoi_sel.set_crs(4326).to_crs('ESRI:54008')\n",
    "sel_squared_samples_gdf = gpd.overlay(squared_samples_gdf, aoi_geom)\n",
    "sel_squared_samples_gdf = sel_squared_samples_gdf.set_crs('ESRI:54008')\n",
    "sel_squared_samples_gdf"
   ]
  },
  {
   "cell_type": "markdown",
   "id": "b6c5ed8a-88d6-4ae0-9db4-badb9fcfa674",
   "metadata": {},
   "source": [
    "#### 1.3 - Afficher les points"
   ]
  },
  {
   "cell_type": "code",
   "execution_count": null,
   "id": "eccdd289-fec0-46ab-9823-5a1e24e0f64e",
   "metadata": {},
   "outputs": [],
   "source": [
    "# Appeler le plot pour l'AOI et les points sélectionner\n",
    "h.plot_samples(aoi_geom,sel_squared_samples_gdf)"
   ]
  },
  {
   "cell_type": "markdown",
   "id": "84448489-5ec4-420a-bf23-a2b130b29dbf",
   "metadata": {},
   "source": [
    "#### 1.4- Enregistrer les sorties\n",
    "\n",
    "Le notebook vous permet d'exporter la grille finale de 3 manières différentes :\n",
    "1. Collect Earth Online (format CSV)\n",
    "2. Fichier vectoriel SIG (format GPKG)\n",
    "3. Actif Earth Engine (format Feature Collection)"
   ]
  },
  {
   "cell_type": "code",
   "execution_count": null,
   "id": "b72aaa32-857a-43ca-ae7e-b2a8df345d07",
   "metadata": {},
   "outputs": [],
   "source": [
    "#------------------------\n",
    "# define an outputs \n",
    "#------------------------\n",
    "\n",
    "# select on of the above created grids that you want to save\n",
    "final_samples = sel_squared_samples_gdf\n",
    "\n",
    "# directory where output files will go\n",
    "outdir = 'erp_5km' # if left ot None, it goes into module results\n",
    "\n",
    "# output a CEO compatible csv file\n",
    "out_ceo_csv = True\n",
    "\n",
    "# output a Geopackage file\n",
    "out_gpkg = True\n",
    "\n",
    "# ee asset\n",
    "ee_asset_name = 'civ_erp_5km_pts_exo'\n",
    "\n",
    "\n",
    "### users/fao-dannunzio/civ_1km_pts_sub_erp_exo\n",
    "\n",
    "# upload to EE\n",
    "h.upload_to_ee(final_samples, ee_asset_name)\n",
    "\n",
    "# save to local output directory\n",
    "h.save_locally(final_samples, ceo_csv=out_ceo_csv, gpkg=out_gpkg, outdir=outdir)"
   ]
  },
  {
   "cell_type": "markdown",
   "id": "64f97f8c-db3d-4917-a4de-e0db59ff089d",
   "metadata": {},
   "source": [
    "## Nom de l'asset pour la suite\n",
    "users/fao-dannunzio/civ_erp_5km_pts_exo"
   ]
  },
  {
   "cell_type": "markdown",
   "id": "2cc7b41f-3e66-4878-89ee-85203e9d939b",
   "metadata": {},
   "source": [
    "### 2 - Créer des points sur une grille hexagonale\n",
    "\n",
    "***Pourquoi des hexagones ?***\n",
    "\n",
    "Les hexagones présentent quelques avantages par rapport aux cellules de grille carrées. Avant tout, ils réduisent l'erreur sur la surface, mais ils garantissent également que chaque point dans la cellule de la grille est plus ou moins à la même distance du centre. En effet, la forme idéale selon ce critère serait un cercle. Il n'est cependant pas possible de créer une grille cohérente de cercles. L'hexagone est la forme de polygone qui se rapproche le plus de ce critère, tout en étant capable de fournir un maillage cohérent.\n",
    "\n",
    "***Système de réseau global discret (DGGS)***\n",
    "\n",
    "Un système de grille global discret (DGGS) est une série de grilles globales discrètes, généralement constituées de grilles de résolution de plus en plus fines.\n",
    "\n",
    "***Usage***\n",
    "\n",
    "Ce bloc-notes fournit une interface simplifiée à la bibliothèque dggrid de [Southern Oregon University](https://www.discreteglobalgrids.org/software/).\n",
    "\n",
    "Il convient de noter que le DGGRID a un **ensemble fixe de résolutions** qui doit être sélectionné dans la colonne *res* du tableau ci-dessous (vous devez consulter le manuel pour d'autres résolutions si vous sélectionnez une projection différente de l'ISEA3H)\n",
    "\n",
    "Pour une utilisation avancée, il est recommandé de lire le [manuel](https://webpages.sou.edu/~sahrk/docs/dggridManualV70.pdf).\n",
    "\n",
    "![title](images/dggrid_isea3h_ap3_res_table.png)\n"
   ]
  },
  {
   "cell_type": "markdown",
   "id": "cbf47b80-a507-4eca-9a4d-ee20b2364aab",
   "metadata": {},
   "source": [
    "#### 2.1 - Créer une grille hexagonale"
   ]
  },
  {
   "cell_type": "code",
   "execution_count": null,
   "id": "69c31300-7543-4cff-a22e-403c7d29d454",
   "metadata": {},
   "outputs": [],
   "source": [
    "hex_grid_cells, hex_samples_gdf = h.hexagonal_grid(\n",
    "    aoi=aoi_sel,                      # Area of interest\n",
    "    resolution=13,                    # refers to the resolution of the grid\n",
    "    sampling_strategy='systematic',   # choices are 'random' or 'systematic'\n",
    "    outcrs='EPSG:4326'                # projection of the output data\n",
    ")"
   ]
  },
  {
   "cell_type": "markdown",
   "id": "6835211e-51c6-4685-8811-9b03e645b484",
   "metadata": {},
   "source": [
    "#### 2.2 Plot grid and grid cells"
   ]
  },
  {
   "cell_type": "code",
   "execution_count": null,
   "id": "b44ae3e7-1bdc-45c6-9f6d-b872f0524035",
   "metadata": {},
   "outputs": [],
   "source": [
    "h.plot_samples(aoi_sel, hex_samples_gdf, hex_grid_cells)"
   ]
  },
  {
   "cell_type": "markdown",
   "id": "50f45bad-bf5b-49fb-b64b-f1b8ace04fe0",
   "metadata": {},
   "source": [
    "### 3 - Creating a set of irregular sample points based on random and stratified sampling"
   ]
  },
  {
   "cell_type": "markdown",
   "id": "b7c00cb3-9a72-4994-a9d0-84417f0b7364",
   "metadata": {
    "tags": []
   },
   "source": [
    "#### 3.1 - Create points"
   ]
  },
  {
   "cell_type": "code",
   "execution_count": 6,
   "id": "a0d27d8a-3c07-4450-aaf9-b6bde5deeadd",
   "metadata": {
    "tags": []
   },
   "outputs": [
    {
     "name": "stderr",
     "output_type": "stream",
     "text": [
      "/usr/local/lib/python3.8/dist-packages/geopandas/io/file.py:362: FutureWarning: pandas.Int64Index is deprecated and will be removed from pandas in a future version. Use pandas.Index with the appropriate dtype instead.\n",
      "  pd.Int64Index,\n"
     ]
    }
   ],
   "source": [
    "aoi = aoi_sel\n",
    "if not isinstance(aoi, ee.FeatureCollection):\n",
    "    aoi = geemap.geopandas_to_ee(aoi.dissolve())\n",
    "\n",
    "# stratified sampling based on ESA LC\n",
    "imageCollection = ee.ImageCollection(\"ESA/WorldCover/v100\")\n",
    "esaLc = ee.Image(imageCollection.filterBounds(aoi).mosaic().clip(aoi).copyProperties(imageCollection.first()))\n",
    "\n",
    "stratified_samples = esaLc.stratifiedSample(**{\n",
    "    \"numPoints\": 25,\n",
    "    \"region\": aoi,\n",
    "    \"scale\": 100, \n",
    "    \"seed\": 42, \n",
    "    \"tileScale\": 4, \n",
    "    \"geometries\": True\n",
    "}).map(h.set_id)\n",
    "\n",
    "random_samples = ee.FeatureCollection.randomPoints(**{\n",
    "    \"points\": 250,\n",
    "    \"region\": aoi,\n",
    "}).map(h.set_id)"
   ]
  },
  {
   "cell_type": "markdown",
   "id": "688c2ded-544e-43fe-ad12-6f01be75ccad",
   "metadata": {},
   "source": [
    "random_samples Display in map\n",
    "\n",
    "**Execute only**"
   ]
  },
  {
   "cell_type": "code",
   "execution_count": 8,
   "id": "3ba8c094-dc7c-4020-967f-b12031403966",
   "metadata": {
    "tags": []
   },
   "outputs": [
    {
     "ename": "EEException",
     "evalue": "Computation timed out.",
     "output_type": "error",
     "traceback": [
      "\u001b[0;31m---------------------------------------------------------------------------\u001b[0m",
      "\u001b[0;31mHttpError\u001b[0m                                 Traceback (most recent call last)",
      "File \u001b[0;32m/usr/local/lib/python3.8/dist-packages/ee/data.py:344\u001b[0m, in \u001b[0;36m_execute_cloud_call\u001b[0;34m(call, num_retries)\u001b[0m\n\u001b[1;32m    343\u001b[0m \u001b[38;5;28;01mtry\u001b[39;00m:\n\u001b[0;32m--> 344\u001b[0m   \u001b[38;5;28;01mreturn\u001b[39;00m \u001b[43mcall\u001b[49m\u001b[38;5;241;43m.\u001b[39;49m\u001b[43mexecute\u001b[49m\u001b[43m(\u001b[49m\u001b[43mnum_retries\u001b[49m\u001b[38;5;241;43m=\u001b[39;49m\u001b[43mnum_retries\u001b[49m\u001b[43m)\u001b[49m\n\u001b[1;32m    345\u001b[0m \u001b[38;5;28;01mexcept\u001b[39;00m googleapiclient\u001b[38;5;241m.\u001b[39merrors\u001b[38;5;241m.\u001b[39mHttpError \u001b[38;5;28;01mas\u001b[39;00m e:\n",
      "File \u001b[0;32m/usr/local/lib/python3.8/dist-packages/googleapiclient/_helpers.py:134\u001b[0m, in \u001b[0;36mpositional.<locals>.positional_decorator.<locals>.positional_wrapper\u001b[0;34m(*args, **kwargs)\u001b[0m\n\u001b[1;32m    133\u001b[0m         logger\u001b[38;5;241m.\u001b[39mwarning(message)\n\u001b[0;32m--> 134\u001b[0m \u001b[38;5;28;01mreturn\u001b[39;00m \u001b[43mwrapped\u001b[49m\u001b[43m(\u001b[49m\u001b[38;5;241;43m*\u001b[39;49m\u001b[43margs\u001b[49m\u001b[43m,\u001b[49m\u001b[43m \u001b[49m\u001b[38;5;241;43m*\u001b[39;49m\u001b[38;5;241;43m*\u001b[39;49m\u001b[43mkwargs\u001b[49m\u001b[43m)\u001b[49m\n",
      "File \u001b[0;32m/usr/local/lib/python3.8/dist-packages/googleapiclient/http.py:915\u001b[0m, in \u001b[0;36mHttpRequest.execute\u001b[0;34m(self, http, num_retries)\u001b[0m\n\u001b[1;32m    914\u001b[0m \u001b[38;5;28;01mif\u001b[39;00m resp\u001b[38;5;241m.\u001b[39mstatus \u001b[38;5;241m>\u001b[39m\u001b[38;5;241m=\u001b[39m \u001b[38;5;241m300\u001b[39m:\n\u001b[0;32m--> 915\u001b[0m     \u001b[38;5;28;01mraise\u001b[39;00m HttpError(resp, content, uri\u001b[38;5;241m=\u001b[39m\u001b[38;5;28mself\u001b[39m\u001b[38;5;241m.\u001b[39muri)\n\u001b[1;32m    916\u001b[0m \u001b[38;5;28;01mreturn\u001b[39;00m \u001b[38;5;28mself\u001b[39m\u001b[38;5;241m.\u001b[39mpostproc(resp, content)\n",
      "\u001b[0;31mHttpError\u001b[0m: <HttpError 400 when requesting https://earthengine.googleapis.com/v1alpha/projects/earthengine-legacy/value:compute?prettyPrint=false&alt=json returned \"Computation timed out.\". Details: \"Computation timed out.\">",
      "\nDuring handling of the above exception, another exception occurred:\n",
      "\u001b[0;31mEEException\u001b[0m                               Traceback (most recent call last)",
      "Cell \u001b[0;32mIn [8], line 8\u001b[0m\n\u001b[1;32m      6\u001b[0m Map\u001b[38;5;241m.\u001b[39maddLayer(ee\u001b[38;5;241m.\u001b[39mImage()\u001b[38;5;241m.\u001b[39mbyte()\u001b[38;5;241m.\u001b[39mpaint(featureCollection\u001b[38;5;241m=\u001b[39maoi, color\u001b[38;5;241m=\u001b[39m\u001b[38;5;241m1\u001b[39m, width\u001b[38;5;241m=\u001b[39m\u001b[38;5;241m3\u001b[39m), {\u001b[38;5;124m\"\u001b[39m\u001b[38;5;124mpalette\u001b[39m\u001b[38;5;124m\"\u001b[39m: \u001b[38;5;124m\"\u001b[39m\u001b[38;5;124mblue\u001b[39m\u001b[38;5;124m\"\u001b[39m}, \u001b[38;5;124m'\u001b[39m\u001b[38;5;124mArea of interest\u001b[39m\u001b[38;5;124m'\u001b[39m)\n\u001b[1;32m      7\u001b[0m Map\u001b[38;5;241m.\u001b[39maddLayer(esaLc, {}, \u001b[38;5;124m'\u001b[39m\u001b[38;5;124mESA Worldcover 2020\u001b[39m\u001b[38;5;124m'\u001b[39m)\n\u001b[0;32m----> 8\u001b[0m \u001b[43mMap\u001b[49m\u001b[38;5;241;43m.\u001b[39;49m\u001b[43maddLayer\u001b[49m\u001b[43m(\u001b[49m\u001b[43mstratified_samples\u001b[49m\u001b[38;5;241;43m.\u001b[39;49m\u001b[43mdraw\u001b[49m\u001b[43m(\u001b[49m\u001b[43mcolor\u001b[49m\u001b[38;5;241;43m=\u001b[39;49m\u001b[38;5;124;43m\"\u001b[39;49m\u001b[38;5;124;43mgreen\u001b[39;49m\u001b[38;5;124;43m\"\u001b[39;49m\u001b[43m,\u001b[49m\u001b[43m \u001b[49m\u001b[43mpointRadius\u001b[49m\u001b[38;5;241;43m=\u001b[39;49m\u001b[38;5;241;43m2\u001b[39;49m\u001b[43m)\u001b[49m\u001b[43m,\u001b[49m\u001b[43m \u001b[49m\u001b[43m{\u001b[49m\u001b[43m}\u001b[49m\u001b[43m,\u001b[49m\u001b[43m \u001b[49m\u001b[38;5;124;43m'\u001b[39;49m\u001b[38;5;124;43mStratified Samples per class from ESA LC\u001b[39;49m\u001b[38;5;124;43m'\u001b[39;49m\u001b[43m)\u001b[49m\n\u001b[1;32m      9\u001b[0m Map\u001b[38;5;241m.\u001b[39maddLayer(random_samples\u001b[38;5;241m.\u001b[39mdraw(color\u001b[38;5;241m=\u001b[39m\u001b[38;5;124m\"\u001b[39m\u001b[38;5;124mred\u001b[39m\u001b[38;5;124m\"\u001b[39m, pointRadius\u001b[38;5;241m=\u001b[39m\u001b[38;5;241m2\u001b[39m), {}, \u001b[38;5;124m'\u001b[39m\u001b[38;5;124mRandom Samples per class from ESA LC\u001b[39m\u001b[38;5;124m'\u001b[39m)\n\u001b[1;32m     11\u001b[0m \u001b[38;5;66;03m#\u001b[39;00m\n",
      "File \u001b[0;32m~/.local/lib/python3.8/site-packages/sepal_ui/mapping/sepal_map.py:513\u001b[0m, in \u001b[0;36mSepalMap.add_ee_layer\u001b[0;34m(self, ee_object, vis_params, name, shown, opacity, viz_name)\u001b[0m\n\u001b[1;32m    507\u001b[0m     \u001b[38;5;28;01mraise\u001b[39;00m \u001b[38;5;167;01mAttributeError\u001b[39;00m(\n\u001b[1;32m    508\u001b[0m         \u001b[38;5;124m\"\u001b[39m\u001b[38;5;130;01m\\n\u001b[39;00m\u001b[38;5;130;01m\\n\u001b[39;00m\u001b[38;5;124mThe image argument in \u001b[39m\u001b[38;5;124m'\u001b[39m\u001b[38;5;124maddLayer\u001b[39m\u001b[38;5;124m'\u001b[39m\u001b[38;5;124m function must be an instance of \u001b[39m\u001b[38;5;124m\"\u001b[39m\n\u001b[1;32m    509\u001b[0m         \u001b[38;5;124m\"\u001b[39m\u001b[38;5;124mone of ee.Image, ee.Geometry, ee.Feature or ee.FeatureCollection.\u001b[39m\u001b[38;5;124m\"\u001b[39m\n\u001b[1;32m    510\u001b[0m     )\n\u001b[1;32m    512\u001b[0m \u001b[38;5;66;03m# get the list of viz params\u001b[39;00m\n\u001b[0;32m--> 513\u001b[0m viz \u001b[38;5;241m=\u001b[39m \u001b[38;5;28;43mself\u001b[39;49m\u001b[38;5;241;43m.\u001b[39;49m\u001b[43mget_viz_params\u001b[49m\u001b[43m(\u001b[49m\u001b[43mee_object\u001b[49m\u001b[43m)\u001b[49m\n\u001b[1;32m    515\u001b[0m \u001b[38;5;66;03m# get the requested vizparameters name\u001b[39;00m\n\u001b[1;32m    516\u001b[0m \u001b[38;5;66;03m# if non is set use the first one\u001b[39;00m\n\u001b[1;32m    517\u001b[0m \u001b[38;5;28;01mif\u001b[39;00m viz:\n",
      "File \u001b[0;32m~/.local/lib/python3.8/site-packages/sepal_ui/mapping/sepal_map.py:700\u001b[0m, in \u001b[0;36mSepalMap.get_viz_params\u001b[0;34m(image)\u001b[0m\n\u001b[1;32m    697\u001b[0m     \u001b[38;5;28;01mreturn\u001b[39;00m props\n\u001b[1;32m    699\u001b[0m \u001b[38;5;66;03m# check that image have properties\u001b[39;00m\n\u001b[0;32m--> 700\u001b[0m \u001b[38;5;28;01mif\u001b[39;00m \u001b[38;5;124m\"\u001b[39m\u001b[38;5;124mproperties\u001b[39m\u001b[38;5;124m\"\u001b[39m \u001b[38;5;129;01mnot\u001b[39;00m \u001b[38;5;129;01min\u001b[39;00m \u001b[43mimage\u001b[49m\u001b[38;5;241;43m.\u001b[39;49m\u001b[43mgetInfo\u001b[49m\u001b[43m(\u001b[49m\u001b[43m)\u001b[49m:\n\u001b[1;32m    701\u001b[0m     \u001b[38;5;28;01mreturn\u001b[39;00m props\n\u001b[1;32m    703\u001b[0m \u001b[38;5;66;03m# build a raw prop list\u001b[39;00m\n",
      "File \u001b[0;32m/usr/local/lib/python3.8/dist-packages/ee/image.py:117\u001b[0m, in \u001b[0;36mImage.getInfo\u001b[0;34m(self)\u001b[0m\n\u001b[1;32m    109\u001b[0m \u001b[38;5;28;01mdef\u001b[39;00m \u001b[38;5;21mgetInfo\u001b[39m(\u001b[38;5;28mself\u001b[39m):\n\u001b[1;32m    110\u001b[0m   \u001b[38;5;124;03m\"\"\"Fetch and return information about this image.\u001b[39;00m\n\u001b[1;32m    111\u001b[0m \n\u001b[1;32m    112\u001b[0m \u001b[38;5;124;03m  Returns:\u001b[39;00m\n\u001b[0;32m   (...)\u001b[0m\n\u001b[1;32m    115\u001b[0m \u001b[38;5;124;03m        properties - Dictionary containing the image's metadata properties.\u001b[39;00m\n\u001b[1;32m    116\u001b[0m \u001b[38;5;124;03m  \"\"\"\u001b[39;00m\n\u001b[0;32m--> 117\u001b[0m   \u001b[38;5;28;01mreturn\u001b[39;00m \u001b[38;5;28;43msuper\u001b[39;49m\u001b[43m(\u001b[49m\u001b[43mImage\u001b[49m\u001b[43m,\u001b[49m\u001b[43m \u001b[49m\u001b[38;5;28;43mself\u001b[39;49m\u001b[43m)\u001b[49m\u001b[38;5;241;43m.\u001b[39;49m\u001b[43mgetInfo\u001b[49m\u001b[43m(\u001b[49m\u001b[43m)\u001b[49m\n",
      "File \u001b[0;32m/usr/local/lib/python3.8/dist-packages/ee/computedobject.py:98\u001b[0m, in \u001b[0;36mComputedObject.getInfo\u001b[0;34m(self)\u001b[0m\n\u001b[1;32m     92\u001b[0m \u001b[38;5;28;01mdef\u001b[39;00m \u001b[38;5;21mgetInfo\u001b[39m(\u001b[38;5;28mself\u001b[39m):\n\u001b[1;32m     93\u001b[0m   \u001b[38;5;124;03m\"\"\"Fetch and return information about this object.\u001b[39;00m\n\u001b[1;32m     94\u001b[0m \n\u001b[1;32m     95\u001b[0m \u001b[38;5;124;03m  Returns:\u001b[39;00m\n\u001b[1;32m     96\u001b[0m \u001b[38;5;124;03m    The object can evaluate to anything.\u001b[39;00m\n\u001b[1;32m     97\u001b[0m \u001b[38;5;124;03m  \"\"\"\u001b[39;00m\n\u001b[0;32m---> 98\u001b[0m   \u001b[38;5;28;01mreturn\u001b[39;00m \u001b[43mdata\u001b[49m\u001b[38;5;241;43m.\u001b[39;49m\u001b[43mcomputeValue\u001b[49m\u001b[43m(\u001b[49m\u001b[38;5;28;43mself\u001b[39;49m\u001b[43m)\u001b[49m\n",
      "File \u001b[0;32m/usr/local/lib/python3.8/dist-packages/ee/data.py:754\u001b[0m, in \u001b[0;36mcomputeValue\u001b[0;34m(obj)\u001b[0m\n\u001b[1;32m    751\u001b[0m \u001b[38;5;28;01mif\u001b[39;00m workload_tag:\n\u001b[1;32m    752\u001b[0m   body[\u001b[38;5;124m'\u001b[39m\u001b[38;5;124mworkloadTag\u001b[39m\u001b[38;5;124m'\u001b[39m] \u001b[38;5;241m=\u001b[39m workload_tag\n\u001b[0;32m--> 754\u001b[0m \u001b[38;5;28;01mreturn\u001b[39;00m \u001b[43m_execute_cloud_call\u001b[49m\u001b[43m(\u001b[49m\n\u001b[1;32m    755\u001b[0m \u001b[43m    \u001b[49m\u001b[43m_get_cloud_api_resource\u001b[49m\u001b[43m(\u001b[49m\u001b[43m)\u001b[49m\u001b[38;5;241;43m.\u001b[39;49m\u001b[43mprojects\u001b[49m\u001b[43m(\u001b[49m\u001b[43m)\u001b[49m\u001b[38;5;241;43m.\u001b[39;49m\u001b[43mvalue\u001b[49m\u001b[43m(\u001b[49m\u001b[43m)\u001b[49m\u001b[38;5;241;43m.\u001b[39;49m\u001b[43mcompute\u001b[49m\u001b[43m(\u001b[49m\n\u001b[1;32m    756\u001b[0m \u001b[43m        \u001b[49m\u001b[43mbody\u001b[49m\u001b[38;5;241;43m=\u001b[39;49m\u001b[43mbody\u001b[49m\u001b[43m,\u001b[49m\n\u001b[1;32m    757\u001b[0m \u001b[43m        \u001b[49m\u001b[43mproject\u001b[49m\u001b[38;5;241;43m=\u001b[39;49m\u001b[43m_get_projects_path\u001b[49m\u001b[43m(\u001b[49m\u001b[43m)\u001b[49m\u001b[43m,\u001b[49m\n\u001b[1;32m    758\u001b[0m \u001b[43m        \u001b[49m\u001b[43mprettyPrint\u001b[49m\u001b[38;5;241;43m=\u001b[39;49m\u001b[38;5;28;43;01mFalse\u001b[39;49;00m\u001b[43m)\u001b[49m\u001b[43m)\u001b[49m[\u001b[38;5;124m'\u001b[39m\u001b[38;5;124mresult\u001b[39m\u001b[38;5;124m'\u001b[39m]\n",
      "File \u001b[0;32m/usr/local/lib/python3.8/dist-packages/ee/data.py:346\u001b[0m, in \u001b[0;36m_execute_cloud_call\u001b[0;34m(call, num_retries)\u001b[0m\n\u001b[1;32m    344\u001b[0m   \u001b[38;5;28;01mreturn\u001b[39;00m call\u001b[38;5;241m.\u001b[39mexecute(num_retries\u001b[38;5;241m=\u001b[39mnum_retries)\n\u001b[1;32m    345\u001b[0m \u001b[38;5;28;01mexcept\u001b[39;00m googleapiclient\u001b[38;5;241m.\u001b[39merrors\u001b[38;5;241m.\u001b[39mHttpError \u001b[38;5;28;01mas\u001b[39;00m e:\n\u001b[0;32m--> 346\u001b[0m   \u001b[38;5;28;01mraise\u001b[39;00m _translate_cloud_exception(e)\n",
      "\u001b[0;31mEEException\u001b[0m: Computation timed out."
     ]
    }
   ],
   "source": [
    "# intialize Map\n",
    "Map = SepalMap(['HYBRID'])\n",
    "Map.zoom_ee_object(aoi.geometry())\n",
    "\n",
    "# add layers\n",
    "Map.addLayer(ee.Image().byte().paint(featureCollection=aoi, color=1, width=3), {\"palette\": \"blue\"}, 'Area of interest')\n",
    "Map.addLayer(esaLc, {}, 'ESA Worldcover 2020')\n",
    "Map.addLayer(stratified_samples.draw(color=\"green\", pointRadius=2), {}, 'Stratified Samples per class from ESA LC')\n",
    "Map.addLayer(random_samples.draw(color=\"red\", pointRadius=2), {}, 'Random Samples per class from ESA LC')\n",
    "\n",
    "#\n",
    "Map"
   ]
  },
  {
   "cell_type": "code",
   "execution_count": null,
   "id": "a1321969-c464-48fa-84ba-6a2742d5ff8d",
   "metadata": {},
   "outputs": [],
   "source": []
  }
 ],
 "metadata": {
  "kernelspec": {
   "display_name": "Python 3",
   "language": "python",
   "name": "python3"
  },
  "language_info": {
   "codemirror_mode": {
    "name": "ipython",
    "version": 3
   },
   "file_extension": ".py",
   "mimetype": "text/x-python",
   "name": "python",
   "nbconvert_exporter": "python",
   "pygments_lexer": "ipython3",
   "version": "3.8.10"
  }
 },
 "nbformat": 4,
 "nbformat_minor": 5
}
