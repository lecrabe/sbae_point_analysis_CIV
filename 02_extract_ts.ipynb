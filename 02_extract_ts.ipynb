{
 "cells": [
  {
   "cell_type": "markdown",
   "id": "9f1f9d9a-8a0d-4d85-b134-f0bda3727152",
   "metadata": {},
   "source": [
    "### 1 - Import libs\n",
    "\n",
    "**ONLY EXECUTE THIS CELL**"
   ]
  },
  {
   "cell_type": "code",
   "execution_count": null,
   "id": "a75e78de-8687-4632-8586-9ca964b31045",
   "metadata": {},
   "outputs": [],
   "source": [
    "import time \n",
    "from pathlib import Path\n",
    "from datetime import datetime as dt\n",
    "\n",
    "import ee\n",
    "import geemap\n",
    "# initialize EE    \n",
    "try:\n",
    "    ee.Initialize(opt_url='https://earthengine-highvolume.googleapis.com')\n",
    "except:\n",
    "    ee.Authenticate()\n",
    "    ee.Initialize(opt_url='https://earthengine-highvolume.googleapis.com')\n",
    "\n",
    "import helpers as h\n",
    "\n",
    "installed = !pip freeze | grep \"retry==\"\n",
    "if not installed:\n",
    "    !pip install --user retry"
   ]
  },
  {
   "cell_type": "markdown",
   "id": "23c04e79-5bfe-48d9-8412-c17707d7c5e9",
   "metadata": {},
   "source": [
    "### 2 - Basic Input Variables\n",
    "\n",
    "**FILL IN YOUR INPUTS**"
   ]
  },
  {
   "cell_type": "code",
   "execution_count": null,
   "id": "6ca3441b-6f82-414c-9b60-263134c9f899",
   "metadata": {},
   "outputs": [],
   "source": [
    "# Area of Interest\n",
    "\n",
    "# country case example\n",
    "country = 'Kenya'   \n",
    "aoi = ee.FeatureCollection(\"FAO/GAUL/2015/level1\").filter(ee.Filter.eq('ADM0_NAME', country)) # here any feature collection can be selected\n",
    "\n",
    "#aoi = ee.FeatureCollection(\"my_aoi_feature_collection\")\n",
    "\n",
    "# Point Feature Collection from where to extract points\n",
    "#fc = ee.FeatureCollection(\"my_featurecollection_path\").filterBounds(aoi)\n",
    "\n",
    "# the column of a unique point identifier in your dataset\n",
    "point_id_name = 'point_id'\n",
    "\n",
    "grid_size = 0.25 # that's the size of the grid we are parallelizing on\n",
    "workers = 10 # number of parallel EE requests\n",
    "\n",
    "# Time of interest (onsidering the historical period)\n",
    "start_date = \"2010-01-01\"\n",
    "end_date = \"2015-12-31\"\n",
    "\n",
    "# Monitoring period\n",
    "start_monitor = \"2020-01-01\"\n",
    "\n",
    "# Directory where output and temp files will go\n",
    "outdir = None  # goes to module_results/sbae_point_analysis if left to None\n",
    "\n",
    "# Select algorithms to run\n",
    "cusum_deforest = True\n",
    "bfast_monitor = True\n",
    "bs_slope = True\n",
    "ts_metrics = True\n",
    "ccdc = False\n",
    "global_products = True\n",
    "\n",
    "band='ndvi' # other choices: ndfi, ndmi, mndwi\n",
    "\n",
    "### DO NOT CHANGE YET ###\n",
    "satellite='Landsat'"
   ]
  },
  {
   "cell_type": "markdown",
   "id": "1d4dc5b2-3d18-429e-ae4a-5b16f677448a",
   "metadata": {},
   "source": [
    "### 3- Algorithm parameter settings\n",
    "\n",
    "**Edit for advanced users, otherwise just execute**"
   ]
  },
  {
   "cell_type": "code",
   "execution_count": null,
   "id": "e8fe65b6-268e-418d-bab0-0837542a1ee1",
   "metadata": {},
   "outputs": [],
   "source": [
    "# bfast parameters\n",
    "bfast_params = {\n",
    "    'run': bfast_monitor,\n",
    "    'start_monitor': start_monitor, \n",
    "    'freq': 365,\n",
    "    'k': 3, \n",
    "    'hfrac':0.25, \n",
    "    'trend': False, \n",
    "    'level':0.05, \n",
    "    'backend':'python'}\n",
    "\n",
    "cusum_params = {\n",
    "    'run': cusum_deforest,\n",
    "    'nr_of_bootstraps': 10\n",
    "}\n",
    "\n",
    "bs_slope_params = {\n",
    "    'run': bs_slope,\n",
    "    'nr_of_bootstraps': 10\n",
    "}\n",
    "\n",
    "ts_metrics_params = {\n",
    "    'run': ts_metrics,\n",
    "    'outlier_removal': True,\n",
    "    'z_threshhold': 3\n",
    "}\n",
    "\n",
    "ccdc_params = {\n",
    "    'run': ccdc,\n",
    "}\n",
    "\n",
    "global_products = {\n",
    "    'run': global_products,\n",
    "}\n",
    "\n",
    "### DO NOT CHANGE ###\n",
    "### GATHER ALL INFO INTO A DICT #####\n",
    "config_dict = {\n",
    "    'work_dir': outdir,\n",
    "    'workers': 10,\n",
    "    'ts_params': {\n",
    "        'start_date': start_date,\n",
    "        'start_monitor': start_monitor,\n",
    "        'end_date': end_date,\n",
    "        'point_id': point_id_name,\n",
    "        'grid_size': grid_size,\n",
    "        'band': band,\n",
    "        'satellite': satellite\n",
    "    },\n",
    "    'bfast_params': bfast_params,\n",
    "    'cusum_params': cusum_params,\n",
    "    'bs_slope_params': bs_slope_params,\n",
    "    'ts_metrics_params': ts_metrics_params,\n",
    "    'ccdc_params': ccdc_params,\n",
    "    'global_products': global_products\n",
    "}"
   ]
  },
  {
   "cell_type": "markdown",
   "id": "2d5c28df-5381-413c-924d-23830b97b87e",
   "metadata": {},
   "source": [
    "# Run the whole thing\n",
    "\n",
    "**Execute only**"
   ]
  },
  {
   "cell_type": "code",
   "execution_count": null,
   "id": "01ccf187-bba1-4e1a-a493-d646f51b9fc3",
   "metadata": {
    "tags": []
   },
   "outputs": [],
   "source": [
    "h.get_change_data(aoi, fc, config_dict)"
   ]
  }
 ],
 "metadata": {
  "kernelspec": {
   "display_name": "Python 3",
   "language": "python",
   "name": "python3"
  },
  "language_info": {
   "codemirror_mode": {
    "name": "ipython",
    "version": 3
   },
   "file_extension": ".py",
   "mimetype": "text/x-python",
   "name": "python",
   "nbconvert_exporter": "python",
   "pygments_lexer": "ipython3",
   "version": "3.8.10"
  }
 },
 "nbformat": 4,
 "nbformat_minor": 5
}
