{
 "cells": [
  {
   "cell_type": "markdown",
   "id": "9e262b60-a61c-4fb6-adfb-c00d1ebda073",
   "metadata": {},
   "source": [
    "<font face=\"Calibri\" size=\"2\"> <i>SBAE - Notebook Series - Part 2, version 0.3, October 2022. Andreas Vollrath, UN-Food and Agricultural Organization, Rome</i>\n",
    "</font>"
   ]
  },
  {
   "cell_type": "markdown",
   "id": "2d64fe01-50b8-4280-9629-1445ad541e45",
   "metadata": {},
   "source": [
    "![title](images/header.png)\n",
    "\n",
    "# II - SBAE Time-Series Extraction & Change Detection\n",
    "### Extract various time-series outputs for point data from Google Earth Engine\n",
    "-------\n",
    "\n",
    "This notebook takes you through the process of extracting outputs from various time-series change detection algorithms and structure them in a so-called data-frame (e.g. tabular structure)."
   ]
  },
  {
   "cell_type": "markdown",
   "id": "9f1f9d9a-8a0d-4d85-b134-f0bda3727152",
   "metadata": {},
   "source": [
    "### 1 - Import libs\n",
    "\n",
    "**ONLY EXECUTE THIS CELL**"
   ]
  },
  {
   "cell_type": "code",
   "execution_count": null,
   "id": "a75e78de-8687-4632-8586-9ca964b31045",
   "metadata": {},
   "outputs": [],
   "source": [
    "import time \n",
    "from pathlib import Path\n",
    "from datetime import datetime as dt\n",
    "\n",
    "import ee\n",
    "from geemap import Map\n",
    "# initialize EE    \n",
    "try:\n",
    "    ee.Initialize(opt_url='https://earthengine-highvolume.googleapis.com')\n",
    "except:\n",
    "    ee.Authenticate()\n",
    "    ee.Initialize(opt_url='https://earthengine-highvolume.googleapis.com')\n",
    "\n",
    "import helpers as h"
   ]
  },
  {
   "cell_type": "markdown",
   "id": "23c04e79-5bfe-48d9-8412-c17707d7c5e9",
   "metadata": {},
   "source": [
    "### 2 - Basic Input Variables\n",
    "\n",
    "**FILL IN YOUR INPUTS**"
   ]
  },
  {
   "cell_type": "code",
   "execution_count": null,
   "id": "22c8d21f-1d84-44b2-9b44-3458bc7ff444",
   "metadata": {},
   "outputs": [],
   "source": [
    "# Point Feature Collection from where to extract points\n",
    "fc = ee.FeatureCollection(\"users/andreasvollrath/01_test_sbae_points\")\n",
    "\n",
    "# subsetting test case\n",
    "# fc = ee.FeatureCollection(\"users/andreasvollrath/test_points_sbae_grid\")\n",
    "# country = ee.FeatureCollection(\"FAO/GAUL_SIMPLIFIED_500m/2015/level0\").filter(ee.Filter.eq('ADM0_NAME', 'Togo'))\n",
    "# fc = ee.FeatureCollection(\"users/andreasvollrath/test_points_sbae_grid\").filterBounds(country)\n",
    "\n",
    "# the column/property of a unique point identifier in your dataset\n",
    "point_id_name = 'point_id'"
   ]
  },
  {
   "cell_type": "markdown",
   "id": "771a71ff-13f9-4573-ba5e-2e0c8e60cdfd",
   "metadata": {},
   "source": [
    "#### 2b - Check inputs visually (NOT WORKING AT TH MOMENT)"
   ]
  },
  {
   "cell_type": "code",
   "execution_count": null,
   "id": "bbae85e0-58e0-4bbd-99bd-dff18d4fa3d0",
   "metadata": {},
   "outputs": [],
   "source": [
    "# create the grid\n",
    "#grid_fc = h.processing_grid(ee.FeatureCollection(fc.geometry().convexHull()), 0.5)\n",
    "##\n",
    "##Map = Map(center=grid_fc.geometry().centroid(100).getInfo()['coordinates'], zoom=4)\n",
    "##Map.zoom_ee_object(grid_fc.geometry())\n",
    "##\n",
    "## add layers\n",
    "#Map.addLayer(grid_fc)\n",
    "#Map.addLayer(fc)\n",
    "#Map"
   ]
  },
  {
   "cell_type": "markdown",
   "id": "028b7557-3d18-43bc-a6c3-5bd8a7b8daba",
   "metadata": {},
   "source": [
    "#### 2c - Time-series parameter settings"
   ]
  },
  {
   "cell_type": "code",
   "execution_count": null,
   "id": "b3041347-3240-4952-af6a-a27c2dab7150",
   "metadata": {},
   "outputs": [],
   "source": [
    "# start of calibration period (mainly for bfast)\n",
    "start_calibration = \"2013-01-01\"  # YYYY-MM-DD format\n",
    "\n",
    "# Actual period of interest, i.e. monitoring period\n",
    "start_monitor =     \"2016-01-01\"  # YYYY-MM-DD format\n",
    "end_monitor =       \"2017-01-01\"  # YYYY-MM-DD format\n",
    "\n",
    "# Directory where output and temp files will go\n",
    "outdir = 'results'  # goes to module_results/sbae_point_analysis if set to None\n",
    "\n",
    "# Select algorithms to run (Treu or False)\n",
    "cusum_deforest =  True\n",
    "bfast_monitor =   True\n",
    "bs_slope =        True\n",
    "ts_metrics =      True\n",
    "ccdc =            True\n",
    "landtrendr =      True\n",
    "jrc_nrt =         True\n",
    "global_products = True\n",
    "\n",
    "# select the bands to extract\n",
    "bands = ['green', 'red', 'nir', 'swir1', 'swir2', 'ndfi'] # other choices: ndfi, ndmi, mndwi, brightness, greenness, wetness\n",
    "\n",
    "# select the band for univariate ts-analysis (has to be inside bands list)\n",
    "ts_band = 'ndfi'\n",
    "\n",
    "# select the resolution to which the satellite data will be resized.\n",
    "scale = 70  # in meters\n",
    "\n",
    "### DO NOT CHANGE YET ###\n",
    "satellite='Landsat'  # this is going to be Surface Reflactance, Collection 2, Tier 1 data only\n",
    "max_cloud_cover = 75  # in percentage (0-100)"
   ]
  },
  {
   "cell_type": "markdown",
   "id": "1d4dc5b2-3d18-429e-ae4a-5b16f677448a",
   "metadata": {},
   "source": [
    "### 3- Algorithm parameter settings\n",
    "\n",
    "**Edit for advanced users, otherwise just execute**"
   ]
  },
  {
   "cell_type": "code",
   "execution_count": null,
   "id": "e8fe65b6-268e-418d-bab0-0837542a1ee1",
   "metadata": {},
   "outputs": [],
   "source": [
    "# landsat related parameters\n",
    "lsat_params = {\n",
    "    'l9':     True,\n",
    "    'l8':     True,\n",
    "    'l7':     True,\n",
    "    'l5':     True,\n",
    "    'l4':     True,\n",
    "    'brdf':   True,\n",
    "    'bands':  bands,\n",
    "    'max_cc': max_cloud_cover\n",
    "}\n",
    "\n",
    "# bfast parameters\n",
    "bfast_params = {\n",
    "    'run':           bfast_monitor,\n",
    "    'start_monitor': start_monitor, \n",
    "    'freq':          365,\n",
    "    'k':             3, \n",
    "    'hfrac':         0.25, \n",
    "    'trend':         True, \n",
    "    'level':         0.05, \n",
    "    'backend':       'python'\n",
    "}\n",
    "\n",
    "# cusum parameters\n",
    "cusum_params = {\n",
    "    'run':              cusum_deforest,\n",
    "    'nr_of_bootstraps': 1000\n",
    "}\n",
    "\n",
    "# slope parameters\n",
    "bs_slope_params = {\n",
    "    'run':              bs_slope,\n",
    "    'nr_of_bootstraps': 1000\n",
    "}\n",
    "\n",
    "# time-series metrics\n",
    "ts_metrics_params = {\n",
    "    'run':              ts_metrics,\n",
    "    'outlier_removal':  False,\n",
    "    'z_threshhold':     3\n",
    "}\n",
    "\n",
    "# ccdc parameters\n",
    "ccdc_params = {\n",
    "    'run':                   ccdc,\n",
    "    'breakpointBands':       ['green', 'red', 'nir', 'swir1', 'swir2'],\n",
    "    'tmaskBands':            ['green', 'swir2'],\n",
    "    'minObservations':       6,\n",
    "    'chiSquareProbability':  .99,\n",
    "    'minNumOfYearsScaler':   1,\n",
    "    'dateFormat':            2,\n",
    "    'lambda':                20,\n",
    "    'maxIterations':         1000\n",
    "}\n",
    "\n",
    "\n",
    "landtrendr_params = { \n",
    "        'run':                    landtrendr,\n",
    "        'maxSegments':            6,\n",
    "        'spikeThreshold':         0.9,\n",
    "        'vertexCountOvershoot':   3,\n",
    "        'preventOneYearRecovery': True,\n",
    "        'recoveryThreshold':      0.25,\n",
    "        'pvalThreshold':          0.05,\n",
    "        'bestModelProportion':    0.75,\n",
    "        'minObservationsNeeded':  3\n",
    "}\n",
    "\n",
    "jrc_nrt_params = {\n",
    "    'run': jrc_nrt\n",
    "}\n",
    "\n",
    "# global products parameters\n",
    "global_products = {\n",
    "    'run':                      global_products,\n",
    "    'gfc':                      True,     # will include tree-cover 2000, loss, gain, lossyear\n",
    "    'tmf':                      True,    # will include deforestation and degradation year for tropical moist forests\n",
    "    'tmf_years':                True,    # will include classes per year - according to the monitor period\n",
    "    'esa_lc20':                 True,    # will include ESA LandCover Product class\n",
    "    'copernicus_lc':            True,    # will include ESA LandCover Product class - acording to the monitoring years\n",
    "    'esri_lc':                  True,    # will include the classes from ESRI World Cover 2020\n",
    "    'lang_tree_height':         True,    # returns the Tree Height from Lang et al 2022\n",
    "    'potapov_tree_height':      True,    # returns the tree height from Potapov et al. 2019 \n",
    "    'elevation':                True,    # returns elevation, slope and aspect\n",
    "    'dynamic_world_tree_prob':  True,    # returns Min, Max, Mean and StdDev of the trees probability for the monitoring period\n",
    "    'dynamic_world_class_mode': True     # returns the mode of the class for the monitoring period   \n",
    "}\n",
    "\n",
    "### DO NOT CHANGE ###\n",
    "### GATHER ALL INFO INTO A DICT #####\n",
    "config_dict = {\n",
    "    'work_dir':                         outdir,\n",
    "    'workers':                          10,\n",
    "    'max_points_per_chunk':             250,\n",
    "    'grid_size_levels':                 [4, 2, 1, 0.5, 0.25, 0.125, 0.075],  # definition of chunk sizes in degrees\n",
    "    'lsat_params':                      lsat_params,\n",
    "    'ts_params': {\n",
    "        'start_calibration':            start_calibration,\n",
    "        'start_monitor':                start_monitor,\n",
    "        'end_monitor':                  end_monitor,\n",
    "        'point_id':                     point_id_name,\n",
    "        'bands':                        bands,\n",
    "        'ts_band':                      ts_band,\n",
    "        'satellite':                    satellite,\n",
    "        'scale':                        scale,\n",
    "        'max_cc':                       max_cloud_cover,\n",
    "        'outlier_removal':              True,\n",
    "        'smooth_ts':                    True       \n",
    "    },    \n",
    "    'bfast_params':                     bfast_params,\n",
    "    'cusum_params':                     cusum_params,\n",
    "    'bs_slope_params':                  bs_slope_params,\n",
    "    'ts_metrics_params':                ts_metrics_params,\n",
    "    'ccdc_params':                      ccdc_params,\n",
    "    'landtrendr_params':                landtrendr_params,\n",
    "    'jrc_nrt_params':                   jrc_nrt_params,\n",
    "    'global_products':                  global_products\n",
    "}"
   ]
  },
  {
   "cell_type": "markdown",
   "id": "2d5c28df-5381-413c-924d-23830b97b87e",
   "metadata": {},
   "source": [
    "### 4 - Run the time-series data extraction\n",
    "\n",
    "**Execute only**"
   ]
  },
  {
   "cell_type": "code",
   "execution_count": null,
   "id": "01ccf187-bba1-4e1a-a493-d646f51b9fc3",
   "metadata": {
    "tags": []
   },
   "outputs": [],
   "source": [
    "h.get_change_data(fc, config_dict)"
   ]
  }
 ],
 "metadata": {
  "kernelspec": {
   "display_name": "Python 3",
   "language": "python",
   "name": "python3"
  },
  "language_info": {
   "codemirror_mode": {
    "name": "ipython",
    "version": 3
   },
   "file_extension": ".py",
   "mimetype": "text/x-python",
   "name": "python",
   "nbconvert_exporter": "python",
   "pygments_lexer": "ipython3",
   "version": "3.8.10"
  },
  "toc-autonumbering": false
 },
 "nbformat": 4,
 "nbformat_minor": 5
}
