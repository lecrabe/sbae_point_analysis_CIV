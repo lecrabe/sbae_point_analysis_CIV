{
 "cells": [
  {
   "cell_type": "code",
   "execution_count": null,
   "id": "4df1d844-c25a-413c-9840-3ce5280b57b0",
   "metadata": {},
   "outputs": [],
   "source": [
    "import numpy as np\n",
    "import pandas as pd\n",
    "import geopandas as gpd\n",
    "from sklearn.cluster import KMeans\n",
    "from sklearn.preprocessing import StandardScaler\n",
    "import seaborn as sns\n",
    "import matplotlib.pyplot as plt"
   ]
  },
  {
   "cell_type": "markdown",
   "id": "e5e95ec9-e480-4188-8dc3-fc6d884e553e",
   "metadata": {},
   "source": [
    "# 1 load pickle file with results"
   ]
  },
  {
   "cell_type": "code",
   "execution_count": null,
   "id": "1b905bed-c71f-4ff2-859f-96733b03ca9b",
   "metadata": {},
   "outputs": [],
   "source": [
    "df = pd.read_pickle('results_pickle_file.pickle')\n",
    "print('Available Columns')\n",
    "df.columns"
   ]
  },
  {
   "cell_type": "markdown",
   "id": "82d61e91-08da-41e5-948b-22a761bd2a9e",
   "metadata": {},
   "source": [
    "# 2 K-Means Clustering"
   ]
  },
  {
   "cell_type": "code",
   "execution_count": null,
   "id": "82b487af-c16d-4769-a2f8-2f4a88343978",
   "metadata": {},
   "outputs": [],
   "source": [
    "# select columsn thata re used by Kmeans\n",
    "cols_to_cluster = [\n",
    "    'mon_images',\n",
    "    #'bfast_magnitude', 'bfast_means', \n",
    "    'cusum_confidence', 'cusum_magnitude', \n",
    "    'ts_mean', 'ts_sd', 'ts_min', 'ts_max', \n",
    "    'bs_slope_mean', 'bs_slope_sd', 'bs_slope_min', 'bs_slope_max'\n",
    "]\n",
    "\n",
    "# Standardize the data\n",
    "X_std = StandardScaler().fit_transform(df[cols_to_cluster])\n",
    "\n",
    "# run kmeans\n",
    "kmeans = KMeans(n_clusters=8, random_state=42).fit(df[cols_to_cluster])\n",
    "df['Kmeans'] = kmeans.predict(df[cols_to_cluster])\n",
    "\n",
    "# print number of poitns per clusters\n",
    "clusters, counts = np.unique(df.Kmeans, return_counts=True)\n",
    "print(clusters, counts)\n",
    "pd.DataFrame({'cluster': clusters, 'counts':counts}).plot(kind='bar', title='Nr. of Points per cluster')"
   ]
  },
  {
   "cell_type": "markdown",
   "id": "b25d0af6-1297-4ea4-ae5a-5761e30da388",
   "metadata": {},
   "source": [
    "# 3 Plot Stats"
   ]
  },
  {
   "cell_type": "code",
   "execution_count": null,
   "id": "d5cf67ad-6acb-406f-b02d-d899b7c96acc",
   "metadata": {},
   "outputs": [],
   "source": [
    "cols_to_plot = [\n",
    "    'mon_images',\n",
    "    'cusum_confidence', 'cusum_magnitude', \n",
    "    'ts_mean', 'ts_sd', 'ts_min', 'ts_max', \n",
    "    'bs_slope_mean', 'bs_slope_sd', 'bs_slope_min', 'bs_slope_max'\n",
    "]\n",
    "\n",
    "for i, col in enumerate(cols_to_plot):\n",
    "    plt.figure(i)\n",
    "    sns.boxplot(x=\"Kmeans\", y=col, data=df)"
   ]
  },
  {
   "cell_type": "markdown",
   "id": "fad080be-f724-4e97-a7b3-5b29076da68d",
   "metadata": {},
   "source": [
    "# 4 Select subset of samples for each cluster"
   ]
  },
  {
   "cell_type": "code",
   "execution_count": null,
   "id": "edcb77e3-f39e-4aaa-b5e6-754950df565c",
   "metadata": {},
   "outputs": [],
   "source": [
    "nr_of_samples_per_cluster = 30\n",
    "subset_df = pd.DataFrame(columns=df.columns)\n",
    "\n",
    "for cluster in df.Kmeans.unique():\n",
    "    subset_df = pd.concat([\n",
    "        subset_df,\n",
    "        df[df.Kmeans == cluster].sample(nr_of_samples_per_cluster)\n",
    "    ])\n",
    "    \n",
    "print(f'{len(subset_df)} samples have been selected in total')\n",
    "gpd.GeoDataFrame(subset_df, geometry='geometry').plot()"
   ]
  },
  {
   "cell_type": "markdown",
   "id": "864effe0-d3c0-4bdb-8256-b43571dc2d43",
   "metadata": {},
   "source": [
    "# 5 Convert to CEO file"
   ]
  },
  {
   "cell_type": "code",
   "execution_count": null,
   "id": "97b292d3-f0d6-4105-871d-c8ad36fb9322",
   "metadata": {},
   "outputs": [],
   "source": [
    "out_csv_file = 'path/to/subset_results.csv'\n",
    "\n",
    "subset_df['LON'] = gpd.GeoDataFrame(subset_df).geometry.x\n",
    "subset_df['LAT'] = gpd.GeoDataFrame(subset_df).geometry.y\n",
    "subset_df['PLOTID'] = gpd.GeoDataFrame(subset_df).point_id\n",
    "\n",
    "cols = subset_df.columns.tolist()\n",
    "cols = [e for e in cols if e not in ('LON', 'LAT', 'PLOTID')]\n",
    "new_cols = ['LON', 'LAT', 'PLOTID'] + cols\n",
    "subset_df = subset_df[new_cols]\n",
    "subset_df.to_csv(out_csv_file, index=False)"
   ]
  }
 ],
 "metadata": {
  "kernelspec": {
   "display_name": "Python 3",
   "language": "python",
   "name": "python3"
  },
  "language_info": {
   "codemirror_mode": {
    "name": "ipython",
    "version": 3
   },
   "file_extension": ".py",
   "mimetype": "text/x-python",
   "name": "python",
   "nbconvert_exporter": "python",
   "pygments_lexer": "ipython3",
   "version": "3.8.10"
  }
 },
 "nbformat": 4,
 "nbformat_minor": 5
}
